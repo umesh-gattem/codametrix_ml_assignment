{
 "cells": [
  {
   "cell_type": "code",
   "execution_count": 1,
   "id": "9be2a135-7f7c-47b1-841e-afc369dc510d",
   "metadata": {},
   "outputs": [],
   "source": [
    "from urllib.request import urlopen\n",
    "from pyspark.sql import SparkSession, functions as F\n",
    "import string"
   ]
  },
  {
   "cell_type": "code",
   "execution_count": 2,
   "id": "15569a5f-a010-49de-9a71-c8f0995c3c9c",
   "metadata": {},
   "outputs": [],
   "source": [
    "import hashlib\n",
    "\n",
    "def hash_util(obj) -> str:\n",
    "    return hashlib.md5(str(obj).encode(\"utf-8\")).hexdigest()"
   ]
  },
  {
   "cell_type": "code",
   "execution_count": 3,
   "id": "baca1dea-c2fc-41ba-80dd-9ee589f5fe25",
   "metadata": {},
   "outputs": [],
   "source": [
    "url = \"https://raw.githubusercontent.com/kingspp/mlen_assignment/main/data.json\"\n",
    "\n",
    "jsonData = urlopen(url).read().decode('utf-8')"
   ]
  },
  {
   "cell_type": "code",
   "execution_count": 4,
   "id": "64e5fc06-7a77-477d-bb1a-31e22981a234",
   "metadata": {},
   "outputs": [
    {
     "data": {
      "text/plain": [
       "[{'jira_ticket_id': 0,\n",
       "  'completed': 'yes',\n",
       "  'date': '2023-03-18',\n",
       "  'num_slack_messages': 237,\n",
       "  'num_hours': 22.898463229813657,\n",
       "  'engineer': 'Sandra',\n",
       "  'ticket_description': 'reclusive initiate horseflesh Martinique crucify Julio blacktop benefit designate firebreak anise condescension page Acadia bevel skyscrape senile peacemake eft whimsic crossbar Goode comic flip sustain abstention',\n",
       "  'KPIs': [{'initiative': 'New Customer', 'new_revenue': 4349.905217024631}],\n",
       "  'lines_per_repo': [{'G': 52}, {'O': 23}, {'H': 31}]},\n",
       " {'jira_ticket_id': 1,\n",
       "  'completed': True,\n",
       "  'date': '2023-03-31',\n",
       "  'num_slack_messages': 276,\n",
       "  'num_hours': 62.13453815065962,\n",
       "  'engineer': 'Dale',\n",
       "  'ticket_description': 'Taurus both absentia Lavoisier mustache crossroad steppe suspend German necrosis debunk Humphrey eugenic differentiate audacity rodeo Steiner indiscreet Passover moonlight shadow Merriam driftwood viviparous twosome professorial',\n",
       "  'KPIs': [{'initiative': 'Efficiency', 'new_revenue': 5295.655191108497},\n",
       "   {'initiative': 'New Customer', 'new_revenue': 4360.981809817207}],\n",
       "  'lines_per_repo': [{'G': 42}, {'S': 15}]},\n",
       " {'jira_ticket_id': 2,\n",
       "  'completed': None,\n",
       "  'date': '2023-07-09',\n",
       "  'num_slack_messages': 72,\n",
       "  'num_hours': 12.258103781491759,\n",
       "  'engineer': 'Josh',\n",
       "  'ticket_description': \"precess canister Paulette rapprochement Martinson besmirch friend sanguinary Nan excessive earthy hefty inappreciable ballroom gibbous acetylene paroxysm perfumery hackle late Hiatt Winnetka gall atmosphere Basque Hemingway devote bashaw valid perhaps Medford meaty coliseum Kodachrome pall Transvaal downgrade chromosomal pennyroyal roadrunner chemistry loosen cannonball deposition Chevrolet within call interior Godfrey harsh chive Lesotho conference Isabella ruminate joyous abode greenhouse purchase raven jocular Wightman diagonal Schuyler transcend foot wonderland mesh Sylvania compensable encyclopedic n's how Natalie annulled bamboo parasympathetic speedometer gauzy aniseikonic icy aye Puccini numeric hurry unicorn\",\n",
       "  'KPIs': [{'initiative': 'Support', 'new_revenue': 1034.0549809871247},\n",
       "   {'initiative': 'Support', 'new_revenue': 6768.249453882341}],\n",
       "  'lines_per_repo': [{'F': 14}, {'M': 78}, {'C': 14}]},\n",
       " {'jira_ticket_id': 3,\n",
       "  'completed': 'true',\n",
       "  'date': '2023-12-10',\n",
       "  'num_slack_messages': 371,\n",
       "  'num_hours': 39.005271282838,\n",
       "  'engineer': 'Dale',\n",
       "  'ticket_description': 'Oldenburg Stalin income lavatory Gershwin Palo lurch numb shudder stab wardrobe Pinsky prolix quaint kiva trod midwives smug proffer decouple arsine ambient unitary diffract Samuelson dietary hydroxy gentlewoman event grottoes dilatation wholesome Eden Baghdad writhe coastal Ralston Mario finicky marsupial Timon sure gosling superb evangel bury cutworm growth rue beetle',\n",
       "  'KPIs': [{'initiative': 'New Customer', 'new_revenue': 9062.46068907657},\n",
       "   {'initiative': 'Support', 'new_revenue': 7093.992721964638}],\n",
       "  'lines_per_repo': [{'A': 64}, {'Y': 6}, {'E': 50}, {'Q': 68}]},\n",
       " {'jira_ticket_id': 4,\n",
       "  'completed': True,\n",
       "  'date': '2023-04-29',\n",
       "  'num_slack_messages': 217,\n",
       "  'num_hours': 80.07442475024116,\n",
       "  'engineer': 'Dale',\n",
       "  'ticket_description': \"tasting prostitution quadrant augmentation thallium bauxite cahoot Wang souffle binocular grouchy Matthew Braille wield circumferential Ulan idiot shelve convoke bug milieu chump verbena flammable province mantel Montague aboveground malleable glycine retrospect aspire plebiscite rice chickpea Deere calisthenic graduate preen girdle flaw murk elude polar ceil rate Cadillac Tuscan archetype McConnel jade speakeasy eigenspace carbonaceous Leo duckling amoeboid betroth cacti atrophic moratorium murky Middlesex this'll mezzanine coltsfoot amethystine counterbalance eighty Bruegel combat\",\n",
       "  'KPIs': [{'initiative': 'New Customer', 'new_revenue': 782.3002188560902},\n",
       "   {'initiative': 'Efficiency', 'new_revenue': 2014.0789230607215}],\n",
       "  'lines_per_repo': [{'T': 22}]}]"
      ]
     },
     "execution_count": 4,
     "metadata": {},
     "output_type": "execute_result"
    }
   ],
   "source": [
    "import json\n",
    "sample_data = json.loads(jsonData)[:5]\n",
    "sample_data"
   ]
  },
  {
   "cell_type": "code",
   "execution_count": 5,
   "id": "efcf390d-53cf-4225-a5b8-bcc18d0ba767",
   "metadata": {},
   "outputs": [
    {
     "name": "stdout",
     "output_type": "stream",
     "text": [
      "/usr/local/bin/python3.9\n"
     ]
    }
   ],
   "source": [
    "!which python3.9"
   ]
  },
  {
   "cell_type": "code",
   "execution_count": 6,
   "id": "79d6801e-35ea-4618-bf63-7a12ea56b108",
   "metadata": {},
   "outputs": [],
   "source": [
    "import os\n",
    "\n",
    "os.environ[\"PYSPARK_PYTHON\"]=\"/usr/local/bin/python3.9\"\n",
    "\n",
    "os.environ[\"PYSPARK_DRIVER_PYTHON\"]=\"/usr/local/bin/python3.9\"\n"
   ]
  },
  {
   "cell_type": "code",
   "execution_count": 7,
   "id": "7cb42487-8db4-4413-9ed2-512c908e883d",
   "metadata": {},
   "outputs": [
    {
     "data": {
      "text/plain": [
       "('/usr/local/bin/python3.9', '/usr/local/bin/python3.9')"
      ]
     },
     "execution_count": 7,
     "metadata": {},
     "output_type": "execute_result"
    }
   ],
   "source": [
    "os.environ.get('PYSPARK_PYTHON'), os.environ.get('PYSPARK_DRIVER_PYTHON')"
   ]
  },
  {
   "cell_type": "code",
   "execution_count": 8,
   "id": "1319068c-44e9-488f-972e-60ae7a3d584b",
   "metadata": {},
   "outputs": [
    {
     "name": "stderr",
     "output_type": "stream",
     "text": [
      "24/07/30 22:24:31 WARN Utils: Your hostname, santhoshs-MacBook-Air.local resolves to a loopback address: 127.0.0.1; using 192.168.1.8 instead (on interface en0)\n",
      "24/07/30 22:24:31 WARN Utils: Set SPARK_LOCAL_IP if you need to bind to another address\n",
      "Setting default log level to \"WARN\".\n",
      "To adjust logging level use sc.setLogLevel(newLevel). For SparkR, use setLogLevel(newLevel).\n",
      "24/07/30 22:24:32 WARN NativeCodeLoader: Unable to load native-hadoop library for your platform... using builtin-java classes where applicable\n",
      "24/07/30 22:24:41 WARN TaskSetManager: Stage 0 contains a task of very large size (72984 KiB). The maximum recommended task size is 1000 KiB.\n",
      "24/07/30 22:24:47 WARN package: Truncated the string representation of a plan since it was too large. This behavior can be adjusted by setting 'spark.sql.debug.maxToStringFields'.\n"
     ]
    }
   ],
   "source": [
    "spark = SparkSession.builder.getOrCreate()\n",
    "\n",
    "rdd = spark.sparkContext.parallelize([jsonData])\n",
    "df = spark.read.json(rdd)"
   ]
  },
  {
   "cell_type": "code",
   "execution_count": 9,
   "id": "09e63428-424d-4ae0-939b-4ccf1672bc9d",
   "metadata": {},
   "outputs": [
    {
     "name": "stderr",
     "output_type": "stream",
     "text": [
      "24/07/30 22:24:48 WARN TaskSetManager: Stage 1 contains a task of very large size (72984 KiB). The maximum recommended task size is 1000 KiB.\n",
      "                                                                                \r"
     ]
    },
    {
     "data": {
      "text/plain": [
       "100000"
      ]
     },
     "execution_count": 9,
     "metadata": {},
     "output_type": "execute_result"
    }
   ],
   "source": [
    "df.count()"
   ]
  },
  {
   "cell_type": "code",
   "execution_count": 10,
   "id": "eb769f0d-25c4-40cc-a524-9b7616cd0880",
   "metadata": {},
   "outputs": [
    {
     "name": "stderr",
     "output_type": "stream",
     "text": [
      "24/07/30 22:24:51 WARN TaskSetManager: Stage 4 contains a task of very large size (72984 KiB). The maximum recommended task size is 1000 KiB.\n",
      "                                                                                \r"
     ]
    },
    {
     "data": {
      "text/plain": [
       "100000"
      ]
     },
     "execution_count": 10,
     "metadata": {},
     "output_type": "execute_result"
    }
   ],
   "source": [
    "sample_df = df.where(F.col('jira_ticket_id').isNotNull())\n",
    "\n",
    "sample_df.count()"
   ]
  },
  {
   "cell_type": "code",
   "execution_count": 11,
   "id": "d7d05361-ae9a-4f6d-806f-ecfacd7ce819",
   "metadata": {},
   "outputs": [
    {
     "name": "stderr",
     "output_type": "stream",
     "text": [
      "24/07/30 22:24:53 WARN TaskSetManager: Stage 8 contains a task of very large size (72984 KiB). The maximum recommended task size is 1000 KiB.\n",
      "                                                                                \r"
     ]
    },
    {
     "data": {
      "text/plain": [
       "Row(KPIs=[Row(initiative='New Customer', new_revenue=4349.905217024631)], completed='yes', date='2023-03-18', engineer='Sandra', jira_ticket_id=0, lines_per_repo=[Row(A=None, B=None, C=None, D=None, E=None, F=None, G=52, H=None, I=None, J=None, K=None, L=None, M=None, N=None, O=None, P=None, Q=None, R=None, S=None, T=None, U=None, V=None, W=None, X=None, Y=None, Z=None), Row(A=None, B=None, C=None, D=None, E=None, F=None, G=None, H=None, I=None, J=None, K=None, L=None, M=None, N=None, O=23, P=None, Q=None, R=None, S=None, T=None, U=None, V=None, W=None, X=None, Y=None, Z=None), Row(A=None, B=None, C=None, D=None, E=None, F=None, G=None, H=31, I=None, J=None, K=None, L=None, M=None, N=None, O=None, P=None, Q=None, R=None, S=None, T=None, U=None, V=None, W=None, X=None, Y=None, Z=None)], num_hours=22.898463229813657, num_slack_messages=237, ticket_description='reclusive initiate horseflesh Martinique crucify Julio blacktop benefit designate firebreak anise condescension page Acadia bevel skyscrape senile peacemake eft whimsic crossbar Goode comic flip sustain abstention')"
      ]
     },
     "execution_count": 11,
     "metadata": {},
     "output_type": "execute_result"
    }
   ],
   "source": [
    "df.first()"
   ]
  },
  {
   "cell_type": "code",
   "execution_count": 12,
   "id": "f081b027-1b4c-45a6-9864-3eacfd2f0b19",
   "metadata": {},
   "outputs": [
    {
     "name": "stdout",
     "output_type": "stream",
     "text": [
      "root\n",
      " |-- KPIs: array (nullable = true)\n",
      " |    |-- element: struct (containsNull = true)\n",
      " |    |    |-- initiative: string (nullable = true)\n",
      " |    |    |-- new_revenue: double (nullable = true)\n",
      " |-- completed: string (nullable = true)\n",
      " |-- date: string (nullable = true)\n",
      " |-- engineer: string (nullable = true)\n",
      " |-- jira_ticket_id: long (nullable = true)\n",
      " |-- lines_per_repo: array (nullable = true)\n",
      " |    |-- element: struct (containsNull = true)\n",
      " |    |    |-- A: long (nullable = true)\n",
      " |    |    |-- B: long (nullable = true)\n",
      " |    |    |-- C: long (nullable = true)\n",
      " |    |    |-- D: long (nullable = true)\n",
      " |    |    |-- E: long (nullable = true)\n",
      " |    |    |-- F: long (nullable = true)\n",
      " |    |    |-- G: long (nullable = true)\n",
      " |    |    |-- H: long (nullable = true)\n",
      " |    |    |-- I: long (nullable = true)\n",
      " |    |    |-- J: long (nullable = true)\n",
      " |    |    |-- K: long (nullable = true)\n",
      " |    |    |-- L: long (nullable = true)\n",
      " |    |    |-- M: long (nullable = true)\n",
      " |    |    |-- N: long (nullable = true)\n",
      " |    |    |-- O: long (nullable = true)\n",
      " |    |    |-- P: long (nullable = true)\n",
      " |    |    |-- Q: long (nullable = true)\n",
      " |    |    |-- R: long (nullable = true)\n",
      " |    |    |-- S: long (nullable = true)\n",
      " |    |    |-- T: long (nullable = true)\n",
      " |    |    |-- U: long (nullable = true)\n",
      " |    |    |-- V: long (nullable = true)\n",
      " |    |    |-- W: long (nullable = true)\n",
      " |    |    |-- X: long (nullable = true)\n",
      " |    |    |-- Y: long (nullable = true)\n",
      " |    |    |-- Z: long (nullable = true)\n",
      " |-- num_hours: double (nullable = true)\n",
      " |-- num_slack_messages: long (nullable = true)\n",
      " |-- ticket_description: string (nullable = true)\n",
      "\n"
     ]
    }
   ],
   "source": [
    "df.printSchema()"
   ]
  },
  {
   "cell_type": "code",
   "execution_count": 13,
   "id": "73d22c50-59a1-457c-bebd-a8cdb6ed2e1c",
   "metadata": {},
   "outputs": [
    {
     "name": "stderr",
     "output_type": "stream",
     "text": [
      "24/07/30 22:24:56 WARN TaskSetManager: Stage 10 contains a task of very large size (72984 KiB). The maximum recommended task size is 1000 KiB.\n",
      "                                                                                \r"
     ]
    },
    {
     "data": {
      "text/plain": [
       "[Row(KPIs=[Row(initiative='New Customer', new_revenue=4349.905217024631)], completed='yes', date='2023-03-18', engineer='Sandra', jira_ticket_id=0, lines_per_repo=[Row(A=None, B=None, C=None, D=None, E=None, F=None, G=52, H=None, I=None, J=None, K=None, L=None, M=None, N=None, O=None, P=None, Q=None, R=None, S=None, T=None, U=None, V=None, W=None, X=None, Y=None, Z=None), Row(A=None, B=None, C=None, D=None, E=None, F=None, G=None, H=None, I=None, J=None, K=None, L=None, M=None, N=None, O=23, P=None, Q=None, R=None, S=None, T=None, U=None, V=None, W=None, X=None, Y=None, Z=None), Row(A=None, B=None, C=None, D=None, E=None, F=None, G=None, H=31, I=None, J=None, K=None, L=None, M=None, N=None, O=None, P=None, Q=None, R=None, S=None, T=None, U=None, V=None, W=None, X=None, Y=None, Z=None)], num_hours=22.898463229813657, num_slack_messages=237, ticket_description='reclusive initiate horseflesh Martinique crucify Julio blacktop benefit designate firebreak anise condescension page Acadia bevel skyscrape senile peacemake eft whimsic crossbar Goode comic flip sustain abstention'),\n",
       " Row(KPIs=[Row(initiative='Efficiency', new_revenue=5295.655191108497), Row(initiative='New Customer', new_revenue=4360.981809817207)], completed='true', date='2023-03-31', engineer='Dale', jira_ticket_id=1, lines_per_repo=[Row(A=None, B=None, C=None, D=None, E=None, F=None, G=42, H=None, I=None, J=None, K=None, L=None, M=None, N=None, O=None, P=None, Q=None, R=None, S=None, T=None, U=None, V=None, W=None, X=None, Y=None, Z=None), Row(A=None, B=None, C=None, D=None, E=None, F=None, G=None, H=None, I=None, J=None, K=None, L=None, M=None, N=None, O=None, P=None, Q=None, R=None, S=15, T=None, U=None, V=None, W=None, X=None, Y=None, Z=None)], num_hours=62.13453815065962, num_slack_messages=276, ticket_description='Taurus both absentia Lavoisier mustache crossroad steppe suspend German necrosis debunk Humphrey eugenic differentiate audacity rodeo Steiner indiscreet Passover moonlight shadow Merriam driftwood viviparous twosome professorial')]"
      ]
     },
     "execution_count": 13,
     "metadata": {},
     "output_type": "execute_result"
    }
   ],
   "source": [
    "df.head(2)"
   ]
  },
  {
   "cell_type": "markdown",
   "id": "4707bdbb-3042-44a1-8175-820da409b496",
   "metadata": {},
   "source": [
    "## Q1 : What is the longest Jira ticket description?"
   ]
  },
  {
   "cell_type": "code",
   "execution_count": 14,
   "id": "c47396a1-c5f4-44ca-9e27-7ae9c710e355",
   "metadata": {},
   "outputs": [
    {
     "name": "stderr",
     "output_type": "stream",
     "text": [
      "24/07/30 22:24:58 WARN TaskSetManager: Stage 14 contains a task of very large size (72984 KiB). The maximum recommended task size is 1000 KiB.\n",
      "[Stage 14:>                                                         (0 + 1) / 1]\r"
     ]
    },
    {
     "name": "stdout",
     "output_type": "stream",
     "text": [
      "895\n",
      "[Row(ticket_description='Carmela sibling musicology patron gunpoint Canfield mammal Santayana Freddie Waterhouse estuary eligible Todd bashaw repellent Jovanovich integrity windbreak halide pestilential italic desiccate Hanoverian Riordan Lathrop connotative ratify Chattanooga phenol enjoinder chase breakdown alkaloid homology cleric consistent pickle rather Barney dogma crocodile liaison endometrial embroider methodology within marketeer cope patrol paycheck Nevins Spokane theorem Jorgensen Wilma transoceanic Mansfield arboretum attribution chemistry Woodbury Cottrell prosodic lox fallacious tachyon coprocessor Furman putdown Pickford goose ignition icosahedral chemic reconnaissance aggravate marinade furthest converge Apocrypha formula cocky landlocked Hopkins stamp Bennington injudicious bulletin spontaneous whalebone prolific scavenge aliphatic balsam offprint shepherdess underling Banbury Rebecca flush')]\n"
     ]
    },
    {
     "name": "stderr",
     "output_type": "stream",
     "text": [
      "                                                                                \r"
     ]
    },
    {
     "data": {
      "text/plain": [
       "'a0ef0d383ff7ee8a3af1669f9a8e0f14'"
      ]
     },
     "execution_count": 14,
     "metadata": {},
     "output_type": "execute_result"
    }
   ],
   "source": [
    "##Brute Force Method\n",
    "\n",
    "max_length = 0\n",
    "\n",
    "for row in df.rdd.toLocalIterator():\n",
    "        if len(row[\"ticket_description\"]) > max_length:\n",
    "            max_length = len(row[\"ticket_description\"])\n",
    "            long_ticket = row['ticket_description']\n",
    "\n",
    "print(max_length)\n",
    "spark = SparkSession.builder.getOrCreate()\n",
    "\n",
    "res = spark.createDataFrame([{'ticket_description': long_ticket}])\n",
    "print(res.collect())\n",
    "hash_util(res.collect()) # \"a0ef0d383ff7ee8a3af1669f9a8e0f14\""
   ]
  },
  {
   "cell_type": "code",
   "execution_count": 15,
   "id": "1e7bf778-bc10-4083-b5df-bbad39714b32",
   "metadata": {},
   "outputs": [
    {
     "name": "stderr",
     "output_type": "stream",
     "text": [
      "24/07/30 22:25:07 WARN TaskSetManager: Stage 17 contains a task of very large size (72984 KiB). The maximum recommended task size is 1000 KiB.\n",
      "24/07/30 22:25:10 WARN TaskSetManager: Stage 18 contains a task of very large size (72984 KiB). The maximum recommended task size is 1000 KiB.\n",
      "                                                                                \r"
     ]
    },
    {
     "data": {
      "text/plain": [
       "'a0ef0d383ff7ee8a3af1669f9a8e0f14'"
      ]
     },
     "execution_count": 15,
     "metadata": {},
     "output_type": "execute_result"
    }
   ],
   "source": [
    "longest_description_row = df.withColumn(\"description_length\", F.length(F.col(\"ticket_description\"))) \\\n",
    "                            .orderBy(F.col(\"description_length\").desc())\n",
    "longest_description_row = longest_description_row.select(\"ticket_description\").limit(1)\n",
    "longest_description_row.collect()\n",
    "hash_util(longest_description_row.collect())"
   ]
  },
  {
   "cell_type": "code",
   "execution_count": null,
   "id": "baccd2af-0bcb-4d69-b4eb-ba3fd983e7ef",
   "metadata": {},
   "outputs": [],
   "source": []
  },
  {
   "cell_type": "markdown",
   "id": "b3dd7505-23dc-4e5a-8dc9-d56a83e9c511",
   "metadata": {},
   "source": [
    "## Q2 : Which repo had the most lines of code added?"
   ]
  },
  {
   "cell_type": "code",
   "execution_count": 16,
   "id": "21816103-692f-4d36-827c-c616f0ebe848",
   "metadata": {},
   "outputs": [
    {
     "name": "stderr",
     "output_type": "stream",
     "text": [
      "24/07/30 22:25:12 WARN TaskSetManager: Stage 22 contains a task of very large size (72984 KiB). The maximum recommended task size is 1000 KiB.\n",
      "[Stage 22:>                                                         (0 + 1) / 1]\r"
     ]
    },
    {
     "name": "stdout",
     "output_type": "stream",
     "text": [
      "[Row(repo='Z')]\n"
     ]
    },
    {
     "name": "stderr",
     "output_type": "stream",
     "text": [
      "                                                                                \r"
     ]
    },
    {
     "data": {
      "text/plain": [
       "'7f2650ec9b6159c18eba65f65615740d'"
      ]
     },
     "execution_count": 16,
     "metadata": {},
     "output_type": "execute_result"
    }
   ],
   "source": [
    "# Brute Force\n",
    "\n",
    "max_length = 0\n",
    "\n",
    "all_upper_chars = {char:0 for char in list(string.ascii_uppercase)}\n",
    "\n",
    "for row in df.rdd.toLocalIterator():\n",
    "    for repo in row['lines_per_repo']:\n",
    "        for char in all_upper_chars:\n",
    "            if repo[char]:\n",
    "                all_upper_chars[char] += repo[char]\n",
    "\n",
    "max_repo = max(all_upper_chars, key=all_upper_chars.get)\n",
    "\n",
    "# print(max_length)\n",
    "spark = SparkSession.builder.getOrCreate()\n",
    "\n",
    "res = spark.createDataFrame([{'repo': max_repo}])\n",
    "print(res.collect())\n",
    "hash_util(res.collect()) # \"7f2650ec9b6159c18eba65f65615740d\""
   ]
  },
  {
   "cell_type": "code",
   "execution_count": 17,
   "id": "93a39cec-3085-4f05-9999-fe607885a79d",
   "metadata": {},
   "outputs": [
    {
     "name": "stderr",
     "output_type": "stream",
     "text": [
      "24/07/30 22:25:35 WARN TaskSetManager: Stage 25 contains a task of very large size (72984 KiB). The maximum recommended task size is 1000 KiB.\n",
      "                                                                                \r"
     ]
    },
    {
     "data": {
      "text/plain": [
       "[Row(repo='Z')]"
      ]
     },
     "execution_count": 17,
     "metadata": {},
     "output_type": "execute_result"
    }
   ],
   "source": [
    "repos_df = df.selectExpr(\"inline(lines_per_repo)\")\n",
    "\n",
    "sum_expr = [F.expr(f\"sum({col}) as {col}\") for col in repos_df.columns]\n",
    "repo_lines_df = repos_df.agg(*sum_expr)\n",
    "repo_lines_dict = repo_lines_df.collect()[0].asDict()\n",
    "\n",
    "most_lines_repo = max(repo_lines_dict, key=repo_lines_dict.get)\n",
    "total_lines = repo_lines_dict[most_lines_repo]\n",
    "\n",
    "result_df = spark.createDataFrame([(most_lines_repo,total_lines)], [\"repo\", \"total_lines\"]).select(\"repo\")\n",
    "result_df.collect()"
   ]
  },
  {
   "cell_type": "markdown",
   "id": "45356b32-87a4-40e2-a32c-22e33718d94d",
   "metadata": {},
   "source": [
    "## Q3 : Provide the maximum number of Slack messages in any ticket for each engineer"
   ]
  },
  {
   "cell_type": "code",
   "execution_count": 18,
   "id": "147380f2-209c-4dfb-b7c3-598af37411d5",
   "metadata": {},
   "outputs": [
    {
     "name": "stderr",
     "output_type": "stream",
     "text": [
      "24/07/30 22:25:39 WARN TaskSetManager: Stage 32 contains a task of very large size (72984 KiB). The maximum recommended task size is 1000 KiB.\n",
      "[Stage 32:>                                                         (0 + 1) / 1]\r"
     ]
    },
    {
     "name": "stdout",
     "output_type": "stream",
     "text": [
      "[Row(engineer='Alex', max_messages=500), Row(engineer='Daisy', max_messages=500), Row(engineer='Dale', max_messages=500), Row(engineer='Josh', max_messages=500), Row(engineer='Sandra', max_messages=500)]\n"
     ]
    },
    {
     "name": "stderr",
     "output_type": "stream",
     "text": [
      "                                                                                \r"
     ]
    },
    {
     "data": {
      "text/plain": [
       "'a237ab13f39d30d21b8b937359e9c01f'"
      ]
     },
     "execution_count": 18,
     "metadata": {},
     "output_type": "execute_result"
    }
   ],
   "source": [
    "## Brute force\n",
    "\n",
    "engineer_messages = {}\n",
    "\n",
    "for row in df.rdd.toLocalIterator():\n",
    "    if row['engineer']:\n",
    "        engineer = row['engineer'].title()\n",
    "    else:\n",
    "        continue\n",
    "    engineer_messages[engineer] = max(row['num_slack_messages'], engineer_messages.get(engineer, 0))\n",
    "\n",
    "    \n",
    "spark = SparkSession.builder.getOrCreate()\n",
    "\n",
    "res = spark.createDataFrame([{\"engineer\":key, \"max_messages\":value} for key, value in sorted(engineer_messages.items())])\n",
    "print(res.collect())\n",
    "hash_util(res.collect()) # \"a237ab13f39d30d21b8b937359e9c01f\""
   ]
  },
  {
   "cell_type": "code",
   "execution_count": 19,
   "id": "b56503b6-aee4-4e5e-8358-643e0f06fbaf",
   "metadata": {},
   "outputs": [
    {
     "name": "stderr",
     "output_type": "stream",
     "text": [
      "24/07/30 22:25:47 WARN TaskSetManager: Stage 35 contains a task of very large size (72984 KiB). The maximum recommended task size is 1000 KiB.\n",
      "                                                                                \r"
     ]
    },
    {
     "name": "stdout",
     "output_type": "stream",
     "text": [
      "[Row(engineer='Alex', max_messages=500), Row(engineer='Daisy', max_messages=500), Row(engineer='Dale', max_messages=500), Row(engineer='Josh', max_messages=500), Row(engineer='Sandra', max_messages=500)]\n"
     ]
    },
    {
     "data": {
      "text/plain": [
       "'a237ab13f39d30d21b8b937359e9c01f'"
      ]
     },
     "execution_count": 19,
     "metadata": {},
     "output_type": "execute_result"
    }
   ],
   "source": [
    "## Spark operations \n",
    "\n",
    "engineer_messages = df.withColumn(\"engineer\", F.initcap(F.col(\"engineer\"))).filter(F.col(\"engineer\").isNotNull())\n",
    "engineer_messages = engineer_messages.groupBy(\"engineer\").agg(F.max(\"num_slack_messages\").alias('max_messages'))\n",
    "engineer_messages = engineer_messages.orderBy(F.col(\"engineer\"))\n",
    "engineer_messages.collect()\n",
    "\n",
    "print(engineer_messages.collect())\n",
    "hash_util(engineer_messages.collect()) # \"a237ab13f39d30d21b8b937359e9c01f\""
   ]
  },
  {
   "cell_type": "markdown",
   "id": "e69def73-1e18-4180-a2e7-049d5fe0ba25",
   "metadata": {},
   "source": [
    "## Q4 : Mean hours spent on a ticket in June 2023"
   ]
  },
  {
   "cell_type": "markdown",
   "id": "2de2d2e8-dc91-45db-8cf5-052b50c8047b",
   "metadata": {},
   "source": [
    "### Explanation: \n",
    "\n",
    "1. I couldn't able to get the answer for this test case. \n",
    "2. I tried few scenarios by filtering the dates on June 2023.\n",
    "3. I see that num_hours has negative values for some dates, so I tried by adding absolute values since num hours can't be zero, also by removing rows where num_hours <0.\n",
    "4. Also I tried filtering on engineer column not null values. \n",
    "5. Please go through the rough sketch at the end of file with different approaches I tried."
   ]
  },
  {
   "cell_type": "code",
   "execution_count": 20,
   "id": "bf03115b-af30-4e80-82ce-eef6e21252fd",
   "metadata": {},
   "outputs": [
    {
     "name": "stderr",
     "output_type": "stream",
     "text": [
      "24/07/30 22:25:50 WARN TaskSetManager: Stage 52 contains a task of very large size (72984 KiB). The maximum recommended task size is 1000 KiB.\n",
      "[Stage 52:>                                                         (0 + 1) / 1]\r"
     ]
    },
    {
     "name": "stdout",
     "output_type": "stream",
     "text": [
      "[Row(mean_hours=49.23021832191624)]\n"
     ]
    },
    {
     "name": "stderr",
     "output_type": "stream",
     "text": [
      "                                                                                \r"
     ]
    },
    {
     "data": {
      "text/plain": [
       "'9ec619e27b5d9ae116a1e3ebd9eabd70'"
      ]
     },
     "execution_count": 20,
     "metadata": {},
     "output_type": "execute_result"
    }
   ],
   "source": [
    "## Brute Force\n",
    "\n",
    "total_tickets = 0\n",
    "total_hours = 0\n",
    "\n",
    "for row in df.rdd.toLocalIterator():\n",
    "    if row[\"date\"] > '2023-05-31' and  row[\"date\"] < \"2023-07-01\":\n",
    "        total_hours+=row[\"num_hours\"]\n",
    "        total_tickets+=1\n",
    "    \n",
    "spark = SparkSession.builder.getOrCreate()\n",
    "\n",
    "res = spark.createDataFrame([{\"mean_hours\":total_hours/total_tickets}])\n",
    "print(res.collect())\n",
    "hash_util(res.collect()) # \"a237ab13f39d30d21b8b937359e9c01f\""
   ]
  },
  {
   "cell_type": "code",
   "execution_count": 21,
   "id": "6ca4ddd4-f44d-43bd-b31d-cf02bb217292",
   "metadata": {},
   "outputs": [
    {
     "name": "stderr",
     "output_type": "stream",
     "text": [
      "24/07/30 22:25:57 WARN TaskSetManager: Stage 58 contains a task of very large size (72984 KiB). The maximum recommended task size is 1000 KiB.\n",
      "[Stage 58:>                                                         (0 + 1) / 1]\r"
     ]
    },
    {
     "name": "stdout",
     "output_type": "stream",
     "text": [
      "[Row(mean_hours=50.21016986391711)]\n"
     ]
    },
    {
     "name": "stderr",
     "output_type": "stream",
     "text": [
      "                                                                                \r"
     ]
    },
    {
     "data": {
      "text/plain": [
       "'a0ea59f7f871fafb14474ecc656aafe6'"
      ]
     },
     "execution_count": 21,
     "metadata": {},
     "output_type": "execute_result"
    }
   ],
   "source": [
    "## Brute Force\n",
    "\n",
    "total_tickets = 0\n",
    "total_hours = 0\n",
    "\n",
    "for row in df.rdd.toLocalIterator():\n",
    "    if row[\"date\"] > '2023-05-31' and  row[\"date\"] < \"2023-07-01\":\n",
    "        total_hours+=abs(row[\"num_hours\"])\n",
    "        total_tickets+=1\n",
    "    \n",
    "spark = SparkSession.builder.getOrCreate()\n",
    "\n",
    "res = spark.createDataFrame([{\"mean_hours\":total_hours/total_tickets}])\n",
    "print(res.collect())\n",
    "hash_util(res.collect()) # \"a237ab13f39d30d21b8b937359e9c01f\""
   ]
  },
  {
   "cell_type": "code",
   "execution_count": 22,
   "id": "e7980510-d00e-4c91-8b47-b0626559afc9",
   "metadata": {},
   "outputs": [
    {
     "name": "stderr",
     "output_type": "stream",
     "text": [
      "24/07/30 22:26:08 WARN TaskSetManager: Stage 64 contains a task of very large size (72984 KiB). The maximum recommended task size is 1000 KiB.\n",
      "[Stage 64:>                                                         (0 + 1) / 1]\r"
     ]
    },
    {
     "name": "stdout",
     "output_type": "stream",
     "text": [
      "[Row(mean_hours=49.72019409291667)]\n"
     ]
    },
    {
     "name": "stderr",
     "output_type": "stream",
     "text": [
      "                                                                                \r"
     ]
    },
    {
     "data": {
      "text/plain": [
       "'1e096a1a04ec7557cbd0f9d115d58745'"
      ]
     },
     "execution_count": 22,
     "metadata": {},
     "output_type": "execute_result"
    }
   ],
   "source": [
    "## Brute Force\n",
    "\n",
    "total_tickets = 0\n",
    "total_hours = 0\n",
    "\n",
    "for row in df.rdd.toLocalIterator():\n",
    "    if row[\"date\"] > '2023-05-31' and  row[\"date\"] < \"2023-07-01\":\n",
    "        total_hours+=max(0, row[\"num_hours\"])\n",
    "        total_tickets+=1\n",
    "    \n",
    "spark = SparkSession.builder.getOrCreate()\n",
    "\n",
    "res = spark.createDataFrame([{\"mean_hours\":total_hours/total_tickets}])\n",
    "print(res.collect())\n",
    "hash_util(res.collect()) # \"a237ab13f39d30d21b8b937359e9c01f\""
   ]
  },
  {
   "cell_type": "code",
   "execution_count": 23,
   "id": "35ca5cd3-0711-41c3-a3ad-9ece8cdc3886",
   "metadata": {},
   "outputs": [
    {
     "name": "stderr",
     "output_type": "stream",
     "text": [
      "24/07/30 22:26:21 WARN TaskSetManager: Stage 70 contains a task of very large size (72984 KiB). The maximum recommended task size is 1000 KiB.\n",
      "[Stage 70:>                                                         (0 + 1) / 1]\r"
     ]
    },
    {
     "name": "stdout",
     "output_type": "stream",
     "text": [
      "[Row(mean_hours=50.224304209517776)]\n"
     ]
    },
    {
     "name": "stderr",
     "output_type": "stream",
     "text": [
      "                                                                                \r"
     ]
    },
    {
     "data": {
      "text/plain": [
       "'0a15804cce114a019e52b696bba68912'"
      ]
     },
     "execution_count": 23,
     "metadata": {},
     "output_type": "execute_result"
    }
   ],
   "source": [
    "## Brute Force\n",
    "\n",
    "total_tickets = 0\n",
    "total_hours = 0\n",
    "\n",
    "for row in df.rdd.toLocalIterator():\n",
    "    if row[\"date\"] > '2023-05-31' and  row[\"date\"] < \"2023-07-01\":\n",
    "        if row[\"num_hours\"]>0:\n",
    "            total_hours+=abs(row[\"num_hours\"])\n",
    "            total_tickets+=1\n",
    "    \n",
    "spark = SparkSession.builder.getOrCreate()\n",
    "\n",
    "res = spark.createDataFrame([{\"mean_hours\":total_hours/total_tickets}])\n",
    "print(res.collect())\n",
    "hash_util(res.collect()) # \"a237ab13f39d30d21b8b937359e9c01f\""
   ]
  },
  {
   "cell_type": "code",
   "execution_count": 24,
   "id": "4eb9ccf8-adc6-4cfb-9d21-231038accbc2",
   "metadata": {},
   "outputs": [
    {
     "name": "stderr",
     "output_type": "stream",
     "text": [
      "24/07/30 22:26:30 WARN TaskSetManager: Stage 73 contains a task of very large size (72984 KiB). The maximum recommended task size is 1000 KiB.\n",
      "                                                                                \r"
     ]
    },
    {
     "data": {
      "text/plain": [
       "[Row(mean_hours=49.23021832191624)]"
      ]
     },
     "execution_count": 24,
     "metadata": {},
     "output_type": "execute_result"
    }
   ],
   "source": [
    "## Pyspark operations\n",
    "\n",
    "df_with_dates = df.withColumn(\"date_clean\", F.to_date(df.date, \"yyyy-MM-dd\"))\n",
    "df_with_dates = df_with_dates.filter(F.col(\"date_clean\").isNotNull())\n",
    "\n",
    "q4_filtered_df = df_with_dates.where((F.col(\"date_clean\") > '2023-05-31') & (F.col(\"date_clean\") < \"2023-07-01\"))\n",
    "q4_filtered_df = q4_filtered_df.agg(F.mean(\"num_hours\").alias(\"mean_hours\"))\n",
    "q4_filtered_df.collect()"
   ]
  },
  {
   "cell_type": "code",
   "execution_count": 25,
   "id": "f953a2fc-ea76-446a-88c9-01bd075c317b",
   "metadata": {},
   "outputs": [
    {
     "name": "stderr",
     "output_type": "stream",
     "text": [
      "24/07/30 22:26:35 WARN TaskSetManager: Stage 76 contains a task of very large size (72984 KiB). The maximum recommended task size is 1000 KiB.\n",
      "                                                                                \r"
     ]
    },
    {
     "data": {
      "text/plain": [
       "[Row(mean_hours=49.23021832191624)]"
      ]
     },
     "execution_count": 25,
     "metadata": {},
     "output_type": "execute_result"
    }
   ],
   "source": [
    "## Pyspark operations other way\n",
    "\n",
    "june_tickets_df = df.filter((F.month(F.col(\"date\")) == 6) & (F.year(F.col(\"date\")) == 2023))\n",
    "mean_hours_june_2023 = june_tickets_df.agg(F.avg(\"num_hours\").alias(\"mean_hours\"))\n",
    "mean_hours_june_2023.collect()"
   ]
  },
  {
   "cell_type": "markdown",
   "id": "6f38f2a0-0996-4c80-8dfb-338049aff483",
   "metadata": {},
   "source": [
    "## Q5 : Total lines of code contributed by completed tickets to the repo 'A'"
   ]
  },
  {
   "cell_type": "markdown",
   "id": "65f69f6d-dd93-4c5d-a750-aa6daa1a164e",
   "metadata": {},
   "source": [
    "### Explanation: \n",
    "\n",
    "1. I couldn't able to get the answer for this test case also. \n",
    "2. I see that completed can have 5 distunct values and I tried few scenarios by filtering the completed on different values.\n",
    "3. Since lines per repo is struct, I applied inline function and aggregated the total lines of repo A.\n",
    "4. Also I tried filtering on engineer column not null values. \n",
    "5. Please go through the rough sketch at the end of file with different approaches I tried."
   ]
  },
  {
   "cell_type": "code",
   "execution_count": 26,
   "id": "c211b512-da34-4b1c-a787-2cd995ea93a8",
   "metadata": {},
   "outputs": [
    {
     "name": "stderr",
     "output_type": "stream",
     "text": [
      "24/07/30 22:26:37 WARN TaskSetManager: Stage 79 contains a task of very large size (72984 KiB). The maximum recommended task size is 1000 KiB.\n",
      "[Stage 79:===========================================>              (3 + 1) / 4]\r"
     ]
    },
    {
     "name": "stdout",
     "output_type": "stream",
     "text": [
      "+---------+\n",
      "|completed|\n",
      "+---------+\n",
      "|     null|\n",
      "|    false|\n",
      "|       no|\n",
      "|      yes|\n",
      "|     true|\n",
      "+---------+\n",
      "\n"
     ]
    },
    {
     "name": "stderr",
     "output_type": "stream",
     "text": [
      "                                                                                \r"
     ]
    }
   ],
   "source": [
    "df.select('completed').distinct().show()"
   ]
  },
  {
   "cell_type": "code",
   "execution_count": 27,
   "id": "0942ad50-c085-440b-8bae-0c682821ef42",
   "metadata": {},
   "outputs": [
    {
     "name": "stderr",
     "output_type": "stream",
     "text": [
      "24/07/30 22:26:40 WARN TaskSetManager: Stage 85 contains a task of very large size (72984 KiB). The maximum recommended task size is 1000 KiB.\n",
      "[Stage 85:>                                                         (0 + 1) / 1]\r"
     ]
    },
    {
     "name": "stdout",
     "output_type": "stream",
     "text": [
      "[Row(total=163514)]\n"
     ]
    },
    {
     "name": "stderr",
     "output_type": "stream",
     "text": [
      "                                                                                \r"
     ]
    },
    {
     "data": {
      "text/plain": [
       "'e1a9890b418c742d20f84c200083b38c'"
      ]
     },
     "execution_count": 27,
     "metadata": {},
     "output_type": "execute_result"
    }
   ],
   "source": [
    "## Brute Force\n",
    "\n",
    "repo_a = 0\n",
    "\n",
    "for row in df.rdd.toLocalIterator():\n",
    "    if row['completed'] in [\"true\"]:\n",
    "        for repo in row['lines_per_repo']:\n",
    "            if repo[\"A\"]:\n",
    "                repo_a += repo[\"A\"]\n",
    "\n",
    "# print(max_length)\n",
    "spark = SparkSession.builder.getOrCreate()\n",
    "\n",
    "res = spark.createDataFrame([{'total': repo_a}])\n",
    "print(res.collect())\n",
    "hash_util(res.collect()) # \"6adec64b2a723c9a52024c53068f264d\""
   ]
  },
  {
   "cell_type": "code",
   "execution_count": 28,
   "id": "7f897512-ede9-4208-b8a6-6b0118f8ca7d",
   "metadata": {},
   "outputs": [
    {
     "name": "stderr",
     "output_type": "stream",
     "text": [
      "24/07/30 22:26:48 WARN TaskSetManager: Stage 91 contains a task of very large size (72984 KiB). The maximum recommended task size is 1000 KiB.\n",
      "[Stage 91:>                                                         (0 + 1) / 1]\r"
     ]
    },
    {
     "name": "stdout",
     "output_type": "stream",
     "text": [
      "[Row(total=84045)]\n"
     ]
    },
    {
     "name": "stderr",
     "output_type": "stream",
     "text": [
      "                                                                                \r"
     ]
    },
    {
     "data": {
      "text/plain": [
       "'bc379403667b20f66994cf05dda7192a'"
      ]
     },
     "execution_count": 28,
     "metadata": {},
     "output_type": "execute_result"
    }
   ],
   "source": [
    "## Brute Force\n",
    "\n",
    "repo_a = 0\n",
    "\n",
    "for row in df.rdd.toLocalIterator():\n",
    "    if row['completed'] in [\"yes\"]:\n",
    "        for repo in row['lines_per_repo']:\n",
    "            if repo[\"A\"]:\n",
    "                repo_a += repo[\"A\"]\n",
    "\n",
    "# print(max_length)\n",
    "spark = SparkSession.builder.getOrCreate()\n",
    "\n",
    "res = spark.createDataFrame([{'total': repo_a}])\n",
    "print(res.collect())\n",
    "hash_util(res.collect()) # \"6adec64b2a723c9a52024c53068f264d\""
   ]
  },
  {
   "cell_type": "code",
   "execution_count": 29,
   "id": "5f7f44f8-fbfa-4e17-ae90-34d96ccdff58",
   "metadata": {},
   "outputs": [
    {
     "name": "stderr",
     "output_type": "stream",
     "text": [
      "24/07/30 22:26:58 WARN TaskSetManager: Stage 94 contains a task of very large size (72984 KiB). The maximum recommended task size is 1000 KiB.\n",
      "                                                                                \r"
     ]
    },
    {
     "data": {
      "text/plain": [
       "[Row(total=163514)]"
      ]
     },
     "execution_count": 29,
     "metadata": {},
     "output_type": "execute_result"
    }
   ],
   "source": [
    "line_per_repo = df.selectExpr(\"inline(lines_per_repo)\")\n",
    "completed_tickets = line_per_repo.where((F.col(\"completed\") == 'true')).agg(F.sum(\"A\").alias(\"total\"))\n",
    "completed_tickets.collect()"
   ]
  },
  {
   "cell_type": "code",
   "execution_count": 30,
   "id": "411a17a1-14ea-4e07-8e03-2caf01ddda9d",
   "metadata": {},
   "outputs": [
    {
     "name": "stderr",
     "output_type": "stream",
     "text": [
      "24/07/30 22:27:01 WARN TaskSetManager: Stage 97 contains a task of very large size (72984 KiB). The maximum recommended task size is 1000 KiB.\n",
      "                                                                                \r"
     ]
    },
    {
     "data": {
      "text/plain": [
       "[Row(total=163514)]"
      ]
     },
     "execution_count": 30,
     "metadata": {},
     "output_type": "execute_result"
    }
   ],
   "source": [
    "line_per_repo = df.select(F.inline(df['lines_per_repo']))\n",
    "completed_tickets = line_per_repo.where((F.col(\"completed\") == 'true')).agg(F.sum(\"A\").alias(\"total\"))\n",
    "completed_tickets.collect()"
   ]
  },
  {
   "cell_type": "markdown",
   "id": "d21ffac9-b85f-46db-9a9d-668d879eea4d",
   "metadata": {},
   "source": [
    "## Q6 : Total new revenue per engineer per company initiative"
   ]
  },
  {
   "cell_type": "markdown",
   "id": "49051c87-6336-4107-8427-cdd071edbe7f",
   "metadata": {},
   "source": [
    "### Explanation: \n",
    "\n",
    "1. I couldn't able to get the answer for this test case also. \n",
    "2. As mentioned in the hint, I filtered the result by engineer and order b"
   ]
  },
  {
   "cell_type": "code",
   "execution_count": null,
   "id": "2c8b3b43-ad26-4abc-8cd5-58af0c1fc610",
   "metadata": {},
   "outputs": [],
   "source": [
    "## Brute Force\n",
    "\n",
    "engineer_revenue = {}\n",
    "\n",
    "for row in df.rdd.toLocalIterator():\n",
    "    if row['engineer']:\n",
    "        engineer = row['engineer'].lower()\n",
    "    else:\n",
    "        continue\n",
    "\n",
    "    for initiative in row['KPIs']:\n",
    "        if engineer not in engineer_revenue:\n",
    "            engineer_revenue[engineer] = {initiative[\"initiative\"]: initiative[\"new_revenue\"]}\n",
    "        else:\n",
    "            engineer_revenue[engineer][initiative[\"initiative\"]] = engineer_revenue[engineer].get(\n",
    "                initiative[\"initiative\"], 0) + initiative[\"new_revenue\"]\n",
    "\n",
    "result_list = []\n",
    "for engineer, kpis in sorted(engineer_revenue.items()):\n",
    "    result_list.append({\"engineer\": engineer.title(),\n",
    "                        \"KPIs\": [{\"initiative\": initiative, \"total_revenue\": revenue} for initiative, revenue\n",
    "                                 in sorted(kpis.items())]})\n",
    "    \n",
    "print(result_list)\n",
    "    \n",
    "\n",
    "spark = SparkSession.builder.getOrCreate()\n",
    "\n",
    "res = spark.createDataFrame(result_list)\n",
    "print(res.collect())\n",
    "hash_util(res.collect()) # \"c7b9f4457e8682313464d604f6f66581\""
   ]
  },
  {
   "cell_type": "code",
   "execution_count": null,
   "id": "2db68e56-0612-4f14-8ac5-e4311549f765",
   "metadata": {},
   "outputs": [],
   "source": [
    "new_df = df.withColumn(\"engineer\", F.initcap(F.col(\"engineer\"))).filter(F.col(\"engineer\").isNotNull())\n",
    "\n",
    "inline_kpis = new_df.select(\"engineer\", F.inline(df['KPIs'].alias('initiative', 'new_revenue')))\n",
    "\n",
    "total_revenue = inline_kpis.groupBy('engineer', 'initiative').agg(F.sum('new_revenue').alias('total_revenue'))\n",
    "\n",
    "sorted_revenue_data = total_revenue.sort('initiative', ascending=True)\n",
    "\n",
    "structed_data = sorted_revenue_data.select('engineer', F.struct('initiative', 'total_revenue').alias('KPIs'))\n",
    "\n",
    "grouped_data = structed_data.groupBy('engineer')\n",
    "output_data = grouped_data.agg(F.collect_list('KPIs').alias('KPIs'))\n",
    "\n",
    "filtered_data = output_data.orderBy(F.col(\"engineer\"))\n",
    "hash_util(filtered_data.collect()) # \"c7b9f4457e8682313464d604f6f66581\""
   ]
  },
  {
   "cell_type": "code",
   "execution_count": null,
   "id": "2666f6ed-65ad-407a-8c8d-1750921aa39d",
   "metadata": {},
   "outputs": [],
   "source": [
    "filtered_data.collect()"
   ]
  },
  {
   "cell_type": "markdown",
   "id": "70425d28-2f82-45bd-8ee7-b3bb92d174d7",
   "metadata": {},
   "source": [
    "# Rough Sketch"
   ]
  },
  {
   "cell_type": "code",
   "execution_count": null,
   "id": "e1b7d6a8-b350-48b8-9ce2-9df69310bb11",
   "metadata": {},
   "outputs": [],
   "source": []
  },
  {
   "cell_type": "code",
   "execution_count": null,
   "id": "55046ed3-722f-4d4f-a939-423ae901acc1",
   "metadata": {},
   "outputs": [],
   "source": [
    "filtered_data.collect()\n"
   ]
  },
  {
   "cell_type": "code",
   "execution_count": 98,
   "id": "8ac11424-8c2b-4ef8-aaca-d7fcf60ab88c",
   "metadata": {},
   "outputs": [
    {
     "data": {
      "text/plain": [
       "'7449eea8ff4ebefdd9dc4d80d3812497'"
      ]
     },
     "execution_count": 98,
     "metadata": {},
     "output_type": "execute_result"
    }
   ],
   "source": [
    "hash_util(filtered_data.collect())"
   ]
  },
  {
   "cell_type": "code",
   "execution_count": 22,
   "id": "025e2b6f-ac44-447a-aebf-1834baa06b27",
   "metadata": {},
   "outputs": [],
   "source": [
    "\n",
    "\n",
    "\n"
   ]
  },
  {
   "cell_type": "code",
   "execution_count": null,
   "id": "ca3f1e2f-50f4-474a-8a78-1c0e36e69b83",
   "metadata": {},
   "outputs": [],
   "source": []
  },
  {
   "cell_type": "code",
   "execution_count": 112,
   "id": "95cea747-bf5a-4550-bce7-c00885372524",
   "metadata": {},
   "outputs": [
    {
     "name": "stderr",
     "output_type": "stream",
     "text": [
      "24/07/28 15:58:45 WARN TaskSetManager: Stage 328 contains a task of very large size (72984 KiB). The maximum recommended task size is 1000 KiB.\n",
      "[Stage 328:>                                                        (0 + 1) / 1]\r"
     ]
    },
    {
     "name": "stdout",
     "output_type": "stream",
     "text": [
      "a list [73, 89]\n",
      "a list [98, 98]\n",
      "a list [100, 5]\n",
      "a list [39, 16]\n",
      "a list [79, 47]\n",
      "a list [54, 48]\n",
      "a list [40, 96]\n",
      "a list [25, 7]\n",
      "a list [97, 13]\n",
      "a list [96, 99]\n",
      "a list [48, 57]\n",
      "a list [96, 17]\n",
      "a list [26, 96]\n",
      "a list [18, 96]\n",
      "a list [81, 87]\n",
      "a list [10, 70]\n",
      "a list [4, 35]\n",
      "a list [79, 44, 11]\n",
      "a list [56, 64]\n",
      "a list [4, 76]\n",
      "a list [29, 4]\n",
      "a list [35, 51]\n",
      "a list [72, 32, 71]\n",
      "a list [16, 93]\n",
      "a list [65, 14]\n",
      "a list [66, 67]\n",
      "a list [18, 25]\n",
      "a list [60, 17]\n",
      "a list [45, 47]\n",
      "a list [25, 51]\n",
      "a list [97, 41, 54]\n",
      "a list [95, 41]\n",
      "a list [20, 98]\n",
      "a list [47, 36]\n",
      "a list [20, 42]\n",
      "a list [37, 15]\n",
      "a list [21, 31]\n",
      "a list [66, 29]\n",
      "a list [18, 77]\n",
      "a list [27, 64]\n",
      "a list [72, 75]\n",
      "a list [94, 5]\n",
      "a list [81, 57]\n",
      "a list [50, 91]\n",
      "a list [38, 17]\n",
      "a list [14, 55]\n",
      "a list [72, 35]\n",
      "a list [72, 80]\n",
      "a list [69, 27]\n",
      "a list [49, 11]\n",
      "a list [68, 8]\n",
      "a list [63, 43]\n",
      "a list [13, 1]\n",
      "a list [63, 13]\n",
      "a list [98, 30]\n",
      "a list [29, 48]\n",
      "a list [4, 81]\n",
      "a list [40, 30]\n",
      "a list [88, 42]\n",
      "a list [59, 3]\n",
      "a list [7, 29]\n",
      "a list [89, 10]\n",
      "a list [93, 80]\n",
      "a list [24, 78]\n",
      "a list [32, 52]\n",
      "a list [96, 63]\n",
      "a list [56, 3]\n",
      "a list [89, 44]\n",
      "a list [73, 79]\n",
      "a list [94, 78]\n",
      "a list [84, 26]\n",
      "a list [46, 96]\n",
      "a list [56, 99]\n",
      "a list [78, 70]\n",
      "a list [47, 19]\n",
      "a list [78, 58]\n",
      "a list [59, 59]\n",
      "a list [36, 92]\n",
      "a list [41, 85]\n",
      "a list [10, 49]\n",
      "a list [18, 66]\n",
      "a list [61, 33]\n",
      "a list [11, 95]\n",
      "a list [75, 87]\n",
      "a list [64, 87]\n",
      "a list [13, 28]\n",
      "a list [88, 49]\n",
      "a list [10, 1]\n",
      "a list [39, 80]\n",
      "a list [92, 99]\n",
      "a list [26, 13]\n",
      "a list [54, 74]\n",
      "a list [55, 27]\n",
      "a list [16, 51, 64]\n",
      "a list [96, 70]\n",
      "a list [53, 6]\n",
      "a list [78, 1]\n",
      "a list [19, 79]\n",
      "a list [57, 100]\n",
      "a list [90, 78]\n",
      "a list [89, 37]\n",
      "a list [23, 55]\n",
      "a list [30, 90]\n",
      "a list [15, 87]\n",
      "a list [58, 76]\n",
      "a list [14, 52]\n",
      "a list [72, 94]\n",
      "a list [65, 57]\n",
      "a list [84, 17]\n",
      "a list [81, 12]\n",
      "a list [43, 79]\n",
      "a list [28, 50]\n",
      "a list [26, 91]\n",
      "a list [58, 42]\n",
      "a list [53, 27]\n",
      "a list [24, 55]\n",
      "a list [87, 51]\n",
      "a list [51, 23]\n",
      "a list [79, 25]\n",
      "a list [26, 44]\n",
      "a list [30, 51]\n",
      "a list [9, 5]\n",
      "a list [34, 48]\n",
      "a list [44, 33]\n",
      "a list [10, 18]\n",
      "a list [34, 34]\n",
      "a list [22, 63, 82]\n",
      "a list [100, 96]\n",
      "a list [31, 68]\n",
      "a list [88, 15]\n",
      "a list [49, 64]\n",
      "a list [36, 19]\n",
      "a list [76, 16]\n",
      "a list [51, 87]\n",
      "a list [45, 34]\n",
      "a list [63, 69, 80]\n",
      "a list [48, 11]\n",
      "a list [44, 8]\n",
      "a list [74, 31]\n",
      "a list [2, 63]\n",
      "a list [6, 63]\n",
      "a list [62, 14]\n",
      "a list [12, 15]\n",
      "a list [40, 36]\n",
      "a list [38, 9]\n",
      "a list [26, 39]\n",
      "a list [87, 87]\n",
      "a list [5, 26]\n",
      "a list [100, 60]\n",
      "a list [80, 80]\n",
      "a list [69, 48, 77]\n",
      "a list [57, 16]\n",
      "a list [76, 72]\n",
      "a list [99, 11]\n",
      "a list [44, 43]\n",
      "a list [71, 14]\n",
      "a list [52, 83]\n",
      "a list [100, 56]\n",
      "a list [44, 77]\n",
      "a list [67, 92]\n",
      "a list [9, 44]\n",
      "a list [12, 33]\n",
      "a list [73, 91]\n",
      "a list [25, 79]\n",
      "a list [18, 33]\n",
      "a list [60, 46]\n",
      "a list [7, 32]\n",
      "a list [9, 73]\n",
      "a list [76, 66]\n",
      "a list [19, 41]\n",
      "a list [36, 75]\n",
      "a list [69, 42]\n",
      "a list [65, 62]\n",
      "a list [34, 16]\n",
      "a list [36, 85]\n",
      "a list [25, 96]\n",
      "a list [55, 51]\n",
      "a list [37, 60]\n",
      "a list [16, 56]\n",
      "a list [78, 89]\n",
      "a list [52, 48]\n",
      "a list [54, 82]\n"
     ]
    },
    {
     "name": "stderr",
     "output_type": "stream",
     "text": [
      "                                                                                \r"
     ]
    },
    {
     "data": {
      "text/plain": [
       "[Row(total=196584)]"
      ]
     },
     "execution_count": 112,
     "metadata": {},
     "output_type": "execute_result"
    }
   ],
   "source": [
    "import math\n",
    "\n",
    "repo_a = 0\n",
    "\n",
    "for row in df.rdd.toLocalIterator():\n",
    "    if row['completed'] in [\"true\", \"yes\"] and row[\"num_hours\"] >0 and row[\"engineer\"] and row[\"ticket_description\"]:\n",
    "        a_list = []\n",
    "        for repo in row['lines_per_repo']:\n",
    "            if repo[\"A\"]:\n",
    "                a_list.append(repo[\"A\"])\n",
    "                if repo[\"A\"]<0:\n",
    "                    print(\"neg\", repo[\"A\"])\n",
    "#         if len(a_list) >1:\n",
    "#             print(\"a list\", a_list)\n",
    "                \n",
    "        repo_a += max(a_list) if a_list else 0\n",
    "\n",
    "# print(max_length)\n",
    "spark = SparkSession.builder.getOrCreate()\n",
    "\n",
    "res = spark.createDataFrame([{'total': repo_a}])\n",
    "res.collect()"
   ]
  },
  {
   "cell_type": "code",
   "execution_count": 41,
   "id": "62aea279-99d0-4330-b168-f0ef63108a20",
   "metadata": {},
   "outputs": [
    {
     "name": "stderr",
     "output_type": "stream",
     "text": [
      "/usr/local/lib/python3.9/site-packages/seaborn/distributions.py:2619: FutureWarning: `distplot` is a deprecated function and will be removed in a future version. Please adapt your code to use either `displot` (a figure-level function with similar flexibility) or `histplot` (an axes-level function for histograms).\n",
      "  warnings.warn(msg, FutureWarning)\n"
     ]
    },
    {
     "data": {
      "text/plain": [
       "<AxesSubplot:ylabel='Density'>"
      ]
     },
     "execution_count": 104,
     "metadata": {},
     "output_type": "execute_result"
    },
    {
     "data": {
      "image/png": "[encoded data removed]",
      "text/plain": [
       "<Figure size 432x288 with 1 Axes>"
      ]
     },
     "metadata": {
      "needs_background": "light"
     },
     "output_type": "display_data"
    }
   ],
   "source": [
    "import seaborn as sns\n",
    "sns.distplot(repo_a_list)"
   ]
  },
  {
   "cell_type": "code",
   "execution_count": 52,
   "id": "2ad1ddff-ce1d-4310-b180-cb6ca2bf382a",
   "metadata": {},
   "outputs": [
    {
     "name": "stderr",
     "output_type": "stream",
     "text": [
      "24/07/28 14:09:31 WARN TaskSetManager: Stage 112 contains a task of very large size (72984 KiB). The maximum recommended task size is 1000 KiB.\n",
      "                                                                                \r"
     ]
    },
    {
     "data": {
      "text/plain": [
       "100000"
      ]
     },
     "execution_count": 52,
     "metadata": {},
     "output_type": "execute_result"
    }
   ],
   "source": [
    "df.count()"
   ]
  },
  {
   "cell_type": "code",
   "execution_count": 71,
   "id": "710314b8-33e5-400b-9f97-79585bdc0bce",
   "metadata": {},
   "outputs": [
    {
     "name": "stderr",
     "output_type": "stream",
     "text": [
      "24/07/28 14:26:43 WARN TaskSetManager: Stage 159 contains a task of very large size (72984 KiB). The maximum recommended task size is 1000 KiB.\n",
      "                                                                                \r"
     ]
    },
    {
     "data": {
      "text/plain": [
       "[Row(total=67575)]"
      ]
     },
     "execution_count": 71,
     "metadata": {},
     "output_type": "execute_result"
    }
   ],
   "source": [
    "import math\n",
    "\n",
    "repo_a = 0\n",
    "\n",
    "for row in df.rdd.toLocalIterator():\n",
    "    if row['completed'] in [\"yes\"] and row['num_hours'] > 0 and row['engineer']:\n",
    "        for repo in row['lines_per_repo']:\n",
    "            if repo[\"A\"]:\n",
    "                if repo[\"A\"]<0:\n",
    "                    print(\"neg\", repo[\"A\"])\n",
    "                repo_a += repo[\"A\"]\n",
    "\n",
    "# print(max_length)\n",
    "spark = SparkSession.builder.getOrCreate()\n",
    "\n",
    "res = spark.createDataFrame([{'total': repo_a}])\n",
    "res.collect()"
   ]
  },
  {
   "cell_type": "code",
   "execution_count": 39,
   "id": "d3a90890-9d01-4417-9684-af002633dd1c",
   "metadata": {},
   "outputs": [
    {
     "name": "stderr",
     "output_type": "stream",
     "text": [
      "24/07/28 13:40:07 WARN TaskSetManager: Stage 71 contains a task of very large size (72984 KiB). The maximum recommended task size is 1000 KiB.\n",
      "[Stage 71:>                                                         (0 + 1) / 1]\r"
     ]
    },
    {
     "name": "stdout",
     "output_type": "stream",
     "text": [
      "yes\n"
     ]
    },
    {
     "name": "stderr",
     "output_type": "stream",
     "text": [
      "                                                                                \r"
     ]
    },
    {
     "data": {
      "text/plain": [
       "[Row(total=79983)]"
      ]
     },
     "execution_count": 39,
     "metadata": {},
     "output_type": "execute_result"
    }
   ],
   "source": [
    "import math\n",
    "\n",
    "repo_a = 0\n",
    "\n",
    "for row in df.rdd.toLocalIterator():\n",
    "    if row['completed'] not in [\"no\", \"yes\", \"true\", \"false\"]:\n",
    "        for repo in row['lines_per_repo']:\n",
    "            if repo[\"A\"]:\n",
    "                if repo[\"A\"]<0:\n",
    "                    print(\"neg\", repo[\"A\"])\n",
    "                repo_a += repo[\"A\"]\n",
    "print(row[\"completed\"])\n",
    "\n",
    "# print(max_length)\n",
    "spark = SparkSession.builder.getOrCreate()\n",
    "\n",
    "res = spark.createDataFrame([{'total': repo_a}])\n",
    "res.collect()"
   ]
  },
  {
   "cell_type": "code",
   "execution_count": 30,
   "id": "b6bcd7f0-9ab2-4e17-8b3b-c2467c78a6af",
   "metadata": {},
   "outputs": [
    {
     "name": "stderr",
     "output_type": "stream",
     "text": [
      "24/07/28 13:30:47 WARN TaskSetManager: Stage 47 contains a task of very large size (72984 KiB). The maximum recommended task size is 1000 KiB.\n",
      "                                                                                \r"
     ]
    },
    {
     "data": {
      "text/plain": [
       "[Row(total=170471)]"
      ]
     },
     "execution_count": 30,
     "metadata": {},
     "output_type": "execute_result"
    }
   ],
   "source": [
    "import math\n",
    "\n",
    "repo_a = 0\n",
    "\n",
    "for row in df.rdd.toLocalIterator():\n",
    "    if row['completed'] in [\"false\"]:\n",
    "        for repo in row['lines_per_repo']:\n",
    "            if repo[\"A\"]:\n",
    "                if repo[\"A\"]<0:\n",
    "                    print(\"neg\", repo[\"A\"])\n",
    "                repo_a += repo[\"A\"]\n",
    "\n",
    "# print(max_length)\n",
    "spark = SparkSession.builder.getOrCreate()\n",
    "\n",
    "res = spark.createDataFrame([{'total': repo_a}])\n",
    "res.collect()"
   ]
  },
  {
   "cell_type": "code",
   "execution_count": 31,
   "id": "3a0203f9-4af5-4a01-a56a-14764cd69413",
   "metadata": {},
   "outputs": [
    {
     "name": "stderr",
     "output_type": "stream",
     "text": [
      "24/07/28 13:30:56 WARN TaskSetManager: Stage 52 contains a task of very large size (72984 KiB). The maximum recommended task size is 1000 KiB.\n",
      "                                                                                \r"
     ]
    },
    {
     "data": {
      "text/plain": [
       "[Row(total=78494)]"
      ]
     },
     "execution_count": 31,
     "metadata": {},
     "output_type": "execute_result"
    }
   ],
   "source": [
    "import math\n",
    "\n",
    "repo_a = 0\n",
    "\n",
    "for row in df.rdd.toLocalIterator():\n",
    "    if row['completed'] in [\"no\"]:\n",
    "        for repo in row['lines_per_repo']:\n",
    "            if repo[\"A\"]:\n",
    "                if repo[\"A\"]<0:\n",
    "                    print(\"neg\", repo[\"A\"])\n",
    "                repo_a += repo[\"A\"]\n",
    "\n",
    "# print(max_length)\n",
    "spark = SparkSession.builder.getOrCreate()\n",
    "\n",
    "res = spark.createDataFrame([{'total': repo_a}])\n",
    "res.collect()"
   ]
  },
  {
   "cell_type": "code",
   "execution_count": 131,
   "id": "462468e3-896d-4fe0-b7b3-eb9b4bd01aac",
   "metadata": {},
   "outputs": [],
   "source": [
    "completed_tickets_df = df.where((F.col(\"completed\") == 'true') | (F.col(\"completed\") == 'yes'))\n",
    "\n",
    "completed_tickets_df = completed_tickets_df.selectExpr(\"inline(lines_per_repo)\")\n",
    "\n"
   ]
  },
  {
   "cell_type": "code",
   "execution_count": 132,
   "id": "7d2845d6-bdea-4491-8335-cd5d44f23a86",
   "metadata": {},
   "outputs": [
    {
     "name": "stderr",
     "output_type": "stream",
     "text": [
      "24/07/27 19:48:46 WARN TaskSetManager: Stage 279 contains a task of very large size (72984 KiB). The maximum recommended task size is 1000 KiB.\n",
      "                                                                                \r"
     ]
    },
    {
     "data": {
      "text/plain": [
       "128883"
      ]
     },
     "execution_count": 132,
     "metadata": {},
     "output_type": "execute_result"
    }
   ],
   "source": [
    "completed_tickets_df.count()"
   ]
  },
  {
   "cell_type": "code",
   "execution_count": 135,
   "id": "d718c667-ae7b-4d4a-9470-edff360e128d",
   "metadata": {},
   "outputs": [
    {
     "name": "stderr",
     "output_type": "stream",
     "text": [
      "24/07/27 19:49:26 WARN TaskSetManager: Stage 285 contains a task of very large size (72984 KiB). The maximum recommended task size is 1000 KiB.\n",
      "                                                                                \r"
     ]
    },
    {
     "data": {
      "text/plain": [
       "[Row(A=None, B=None, C=None, D=None, E=None, F=None, G=52, H=None, I=None, J=None, K=None, L=None, M=None, N=None, O=None, P=None, Q=None, R=None, S=None, T=None, U=None, V=None, W=None, X=None, Y=None, Z=None),\n",
       " Row(A=None, B=None, C=None, D=None, E=None, F=None, G=None, H=None, I=None, J=None, K=None, L=None, M=None, N=None, O=23, P=None, Q=None, R=None, S=None, T=None, U=None, V=None, W=None, X=None, Y=None, Z=None),\n",
       " Row(A=None, B=None, C=None, D=None, E=None, F=None, G=None, H=31, I=None, J=None, K=None, L=None, M=None, N=None, O=None, P=None, Q=None, R=None, S=None, T=None, U=None, V=None, W=None, X=None, Y=None, Z=None),\n",
       " Row(A=None, B=None, C=None, D=None, E=None, F=None, G=42, H=None, I=None, J=None, K=None, L=None, M=None, N=None, O=None, P=None, Q=None, R=None, S=None, T=None, U=None, V=None, W=None, X=None, Y=None, Z=None),\n",
       " Row(A=None, B=None, C=None, D=None, E=None, F=None, G=None, H=None, I=None, J=None, K=None, L=None, M=None, N=None, O=None, P=None, Q=None, R=None, S=15, T=None, U=None, V=None, W=None, X=None, Y=None, Z=None),\n",
       " Row(A=64, B=None, C=None, D=None, E=None, F=None, G=None, H=None, I=None, J=None, K=None, L=None, M=None, N=None, O=None, P=None, Q=None, R=None, S=None, T=None, U=None, V=None, W=None, X=None, Y=None, Z=None),\n",
       " Row(A=None, B=None, C=None, D=None, E=None, F=None, G=None, H=None, I=None, J=None, K=None, L=None, M=None, N=None, O=None, P=None, Q=None, R=None, S=None, T=None, U=None, V=None, W=None, X=None, Y=6, Z=None),\n",
       " Row(A=None, B=None, C=None, D=None, E=50, F=None, G=None, H=None, I=None, J=None, K=None, L=None, M=None, N=None, O=None, P=None, Q=None, R=None, S=None, T=None, U=None, V=None, W=None, X=None, Y=None, Z=None),\n",
       " Row(A=None, B=None, C=None, D=None, E=None, F=None, G=None, H=None, I=None, J=None, K=None, L=None, M=None, N=None, O=None, P=None, Q=68, R=None, S=None, T=None, U=None, V=None, W=None, X=None, Y=None, Z=None),\n",
       " Row(A=None, B=None, C=None, D=None, E=None, F=None, G=None, H=None, I=None, J=None, K=None, L=None, M=None, N=None, O=None, P=None, Q=None, R=None, S=None, T=22, U=None, V=None, W=None, X=None, Y=None, Z=None)]"
      ]
     },
     "execution_count": 135,
     "metadata": {},
     "output_type": "execute_result"
    }
   ],
   "source": [
    "completed_tickets_df.head(10)"
   ]
  },
  {
   "cell_type": "code",
   "execution_count": null,
   "id": "9d794a28-ed72-499c-8348-43c37a1a282b",
   "metadata": {},
   "outputs": [],
   "source": []
  },
  {
   "cell_type": "code",
   "execution_count": 136,
   "id": "bff21fb6-c6bb-4592-810c-6fd32997743e",
   "metadata": {},
   "outputs": [
    {
     "name": "stderr",
     "output_type": "stream",
     "text": [
      "24/07/27 19:50:41 WARN TaskSetManager: Stage 286 contains a task of very large size (72984 KiB). The maximum recommended task size is 1000 KiB.\n",
      "                                                                                \r"
     ]
    }
   ],
   "source": [
    "repo_lines_df = completed_tickets_df.groupBy().sum().collect()[0].asDict()\n"
   ]
  },
  {
   "cell_type": "code",
   "execution_count": 138,
   "id": "7cb1b485-e2da-42b3-bd2b-a4deb61801d4",
   "metadata": {},
   "outputs": [
    {
     "data": {
      "text/plain": [
       "{'sum(A)': 247559,\n",
       " 'sum(B)': 253158,\n",
       " 'sum(C)': 250684,\n",
       " 'sum(D)': 240933,\n",
       " 'sum(E)': 248884,\n",
       " 'sum(F)': 254996,\n",
       " 'sum(G)': 246059,\n",
       " 'sum(H)': 254152,\n",
       " 'sum(I)': 242749,\n",
       " 'sum(J)': 256171,\n",
       " 'sum(K)': 251816,\n",
       " 'sum(L)': 253104,\n",
       " 'sum(M)': 253858,\n",
       " 'sum(N)': 247243,\n",
       " 'sum(O)': 245110,\n",
       " 'sum(P)': 255385,\n",
       " 'sum(Q)': 237914,\n",
       " 'sum(R)': 252450,\n",
       " 'sum(S)': 247105,\n",
       " 'sum(T)': 252279,\n",
       " 'sum(U)': 255304,\n",
       " 'sum(V)': 246309,\n",
       " 'sum(W)': 246937,\n",
       " 'sum(X)': 245948,\n",
       " 'sum(Y)': 252936,\n",
       " 'sum(Z)': 251982}"
      ]
     },
     "execution_count": 138,
     "metadata": {},
     "output_type": "execute_result"
    }
   ],
   "source": [
    "repo_lines_df"
   ]
  },
  {
   "cell_type": "code",
   "execution_count": null,
   "id": "945f98d9-0230-44f5-8b3b-cdaaa8a4318a",
   "metadata": {},
   "outputs": [],
   "source": []
  },
  {
   "cell_type": "code",
   "execution_count": 43,
   "id": "8d2fa681-1c3a-479d-88bc-205fc936f6ca",
   "metadata": {},
   "outputs": [
    {
     "name": "stderr",
     "output_type": "stream",
     "text": [
      "24/07/29 19:35:59 WARN TaskSetManager: Stage 56 contains a task of very large size (72984 KiB). The maximum recommended task size is 1000 KiB.\n",
      "                                                                                \r"
     ]
    },
    {
     "data": {
      "text/plain": [
       "28320"
      ]
     },
     "execution_count": 43,
     "metadata": {},
     "output_type": "execute_result"
    }
   ],
   "source": [
    "df.where((F.col(\"completed\") == \"true\") & (F.col(\"num_hours\") > 0)).count()"
   ]
  },
  {
   "cell_type": "code",
   "execution_count": 13,
   "id": "3c95f8be-4397-412c-a86e-faf98b2e3432",
   "metadata": {},
   "outputs": [
    {
     "name": "stderr",
     "output_type": "stream",
     "text": [
      "24/07/28 21:17:04 WARN TaskSetManager: Stage 12 contains a task of very large size (72984 KiB). The maximum recommended task size is 1000 KiB.\n",
      "                                                                                \r"
     ]
    },
    {
     "data": {
      "text/plain": [
       "28562"
      ]
     },
     "execution_count": 13,
     "metadata": {},
     "output_type": "execute_result"
    }
   ],
   "source": [
    "df.where(F.col(\"completed\") == \"false\").count()"
   ]
  },
  {
   "cell_type": "code",
   "execution_count": 14,
   "id": "6cc6b3bd-4127-415b-841a-ab335aa10596",
   "metadata": {},
   "outputs": [
    {
     "name": "stderr",
     "output_type": "stream",
     "text": [
      "24/07/28 21:17:06 WARN TaskSetManager: Stage 15 contains a task of very large size (72984 KiB). The maximum recommended task size is 1000 KiB.\n",
      "                                                                                \r"
     ]
    },
    {
     "data": {
      "text/plain": [
       "14429"
      ]
     },
     "execution_count": 14,
     "metadata": {},
     "output_type": "execute_result"
    }
   ],
   "source": [
    "df.where(F.col(\"completed\") == \"yes\").count()"
   ]
  },
  {
   "cell_type": "code",
   "execution_count": 15,
   "id": "76dcb0ff-ba20-44c6-bf96-256bda62676f",
   "metadata": {},
   "outputs": [
    {
     "name": "stderr",
     "output_type": "stream",
     "text": [
      "24/07/28 21:17:09 WARN TaskSetManager: Stage 18 contains a task of very large size (72984 KiB). The maximum recommended task size is 1000 KiB.\n",
      "                                                                                \r"
     ]
    },
    {
     "data": {
      "text/plain": [
       "14101"
      ]
     },
     "execution_count": 15,
     "metadata": {},
     "output_type": "execute_result"
    }
   ],
   "source": [
    "df.where(F.col(\"completed\") == \"no\").count()"
   ]
  },
  {
   "cell_type": "code",
   "execution_count": 16,
   "id": "31a5e339-819d-4a65-93a0-e4e3178fd477",
   "metadata": {},
   "outputs": [
    {
     "name": "stderr",
     "output_type": "stream",
     "text": [
      "24/07/28 21:17:11 WARN TaskSetManager: Stage 21 contains a task of very large size (72984 KiB). The maximum recommended task size is 1000 KiB.\n",
      "                                                                                \r"
     ]
    },
    {
     "data": {
      "text/plain": [
       "14285"
      ]
     },
     "execution_count": 16,
     "metadata": {},
     "output_type": "execute_result"
    }
   ],
   "source": [
    "df.where(F.col(\"completed\").isNull()).count()"
   ]
  },
  {
   "cell_type": "code",
   "execution_count": null,
   "id": "6dddcbc6-c25a-4154-9453-8655551bb4aa",
   "metadata": {
    "tags": []
   },
   "outputs": [],
   "source": []
  },
  {
   "cell_type": "code",
   "execution_count": 17,
   "id": "88d7a881-14a7-49cc-bc2f-9f1b0f0b13d2",
   "metadata": {},
   "outputs": [
    {
     "name": "stdout",
     "output_type": "stream",
     "text": [
      "{'A': 576507, 'B': 583263, 'C': 575486, 'D': 579199, 'E': 578629, 'F': 587859, 'G': 579507, 'H': 589558, 'I': 578110, 'J': 589083, 'K': 579684, 'L': 584731, 'M': 585300, 'N': 570306, 'O': 581491, 'P': 578376, 'Q': 576703, 'R': 577720, 'S': 582853, 'T': 584022, 'U': 586047, 'V': 581735, 'W': 578261, 'X': 570098, 'Y': 578500, 'Z': 589610}\n"
     ]
    }
   ],
   "source": [
    "print(all_upper_chars)"
   ]
  },
  {
   "cell_type": "code",
   "execution_count": 18,
   "id": "c057728c-eaf8-4e01-911b-0f648452fc0e",
   "metadata": {},
   "outputs": [
    {
     "name": "stdout",
     "output_type": "stream",
     "text": [
      "Z\n"
     ]
    }
   ],
   "source": [
    "print(max_repo)"
   ]
  },
  {
   "cell_type": "code",
   "execution_count": null,
   "id": "1e9fc0ff-65f4-4644-93b3-c2770a0ff1c7",
   "metadata": {},
   "outputs": [],
   "source": [
    "df_with_dates.show(2)"
   ]
  },
  {
   "cell_type": "code",
   "execution_count": null,
   "id": "dfe4e0c2-3e56-4090-b4b0-27f47059460f",
   "metadata": {},
   "outputs": [],
   "source": []
  },
  {
   "cell_type": "code",
   "execution_count": 82,
   "id": "143ad093-87f1-478d-af7a-a46f64321831",
   "metadata": {},
   "outputs": [],
   "source": [
    "filtered_df = df_with_dates.where((F.col(\"date_clean\") > '2023-05-31') & (F.col(\"date_clean\") < \"2023-07-01\") & (F.col(\"num_hours\")>=0))\n",
    "\n"
   ]
  },
  {
   "cell_type": "code",
   "execution_count": 83,
   "id": "566953f4-8432-4375-8b09-dd0ada17a152",
   "metadata": {},
   "outputs": [
    {
     "name": "stderr",
     "output_type": "stream",
     "text": [
      "24/07/28 15:29:47 WARN TaskSetManager: Stage 202 contains a task of very large size (72984 KiB). The maximum recommended task size is 1000 KiB.\n",
      "                                                                                \r"
     ]
    },
    {
     "data": {
      "text/plain": [
       "7989"
      ]
     },
     "execution_count": 83,
     "metadata": {},
     "output_type": "execute_result"
    }
   ],
   "source": [
    "filtered_df.count()"
   ]
  },
  {
   "cell_type": "code",
   "execution_count": 89,
   "id": "d04fdfa8-946c-4099-a391-68cd672724eb",
   "metadata": {},
   "outputs": [],
   "source": [
    "a = filtered_df.agg(F.mean(\"num_hours\").alias(\"mean_hours\"))"
   ]
  },
  {
   "cell_type": "code",
   "execution_count": 90,
   "id": "b9fc357f-f390-40ea-9f14-d2e195f5a446",
   "metadata": {},
   "outputs": [
    {
     "name": "stderr",
     "output_type": "stream",
     "text": [
      "24/07/28 15:32:59 WARN TaskSetManager: Stage 208 contains a task of very large size (72984 KiB). The maximum recommended task size is 1000 KiB.\n",
      "                                                                                \r"
     ]
    },
    {
     "data": {
      "text/plain": [
       "[Row(mean_hours=50.224304209517776)]"
      ]
     },
     "execution_count": 90,
     "metadata": {},
     "output_type": "execute_result"
    }
   ],
   "source": [
    "a.collect()"
   ]
  },
  {
   "cell_type": "code",
   "execution_count": 87,
   "id": "b09ae255-b3ad-4014-a138-d3e692785072",
   "metadata": {},
   "outputs": [
    {
     "data": {
      "text/plain": [
       "49.72019409291667"
      ]
     },
     "execution_count": 87,
     "metadata": {},
     "output_type": "execute_result"
    }
   ],
   "source": [
    "401241.9663298375/8070"
   ]
  },
  {
   "cell_type": "code",
   "execution_count": 91,
   "id": "b71c0071-22f6-4402-9409-e3846114d321",
   "metadata": {},
   "outputs": [
    {
     "data": {
      "text/plain": [
       "'0a15804cce114a019e52b696bba68912'"
      ]
     },
     "execution_count": 91,
     "metadata": {},
     "output_type": "execute_result"
    }
   ],
   "source": [
    "hash_util(f\"[Row(mean_hours=50.224304209517776)]\")"
   ]
  },
  {
   "cell_type": "code",
   "execution_count": 53,
   "id": "14777b7d-c1ab-4202-9c15-6e376848b701",
   "metadata": {},
   "outputs": [],
   "source": [
    "filtered_df = df_with_dates.where((F.col(\"date_clean\") > '2023-05-31') & (F.col(\"date_clean\") < \"2023-07-01\"))"
   ]
  },
  {
   "cell_type": "code",
   "execution_count": 54,
   "id": "f0dce0d6-6e83-4fe0-81ee-0a1f2d4ac064",
   "metadata": {},
   "outputs": [
    {
     "name": "stderr",
     "output_type": "stream",
     "text": [
      "24/07/26 19:43:04 WARN TaskSetManager: Stage 47 contains a task of very large size (72984 KiB). The maximum recommended task size is 1000 KiB.\n",
      "                                                                                \r"
     ]
    },
    {
     "data": {
      "text/plain": [
       "8070"
      ]
     },
     "execution_count": 54,
     "metadata": {},
     "output_type": "execute_result"
    }
   ],
   "source": [
    "filtered_df.count()"
   ]
  },
  {
   "cell_type": "code",
   "execution_count": 55,
   "id": "19d6dc5a-48ae-44ec-a118-bd3755a57216",
   "metadata": {},
   "outputs": [
    {
     "name": "stderr",
     "output_type": "stream",
     "text": [
      "24/07/26 19:43:09 WARN TaskSetManager: Stage 51 contains a task of very large size (72984 KiB). The maximum recommended task size is 1000 KiB.\n",
      "[Stage 51:======================================>                   (2 + 1) / 3]\r"
     ]
    },
    {
     "name": "stdout",
     "output_type": "stream",
     "text": [
      "+--------------------+---------+----------+--------+--------------+--------------------+------------------+------------------+--------------------+----------+\n",
      "|                KPIs|completed|      date|engineer|jira_ticket_id|      lines_per_repo|         num_hours|num_slack_messages|  ticket_description|date_clean|\n",
      "+--------------------+---------+----------+--------+--------------+--------------------+------------------+------------------+--------------------+----------+\n",
      "|[{New Customer, 9...|    false|2023-06-22|    Josh|            22|[{null, null, nul...|45.486788049107695|               366|spitfire aorta ji...|2023-06-22|\n",
      "|[{Support, 5590.8...|       no|2023-06-16|    Dale|            28|[{null, null, nul...| 3.239738889499544|               194|spheroid wobble c...|2023-06-16|\n",
      "+--------------------+---------+----------+--------+--------------+--------------------+------------------+------------------+--------------------+----------+\n",
      "only showing top 2 rows\n",
      "\n"
     ]
    },
    {
     "name": "stderr",
     "output_type": "stream",
     "text": [
      "                                                                                \r"
     ]
    }
   ],
   "source": [
    "filtered_df.show(2)"
   ]
  },
  {
   "cell_type": "code",
   "execution_count": 56,
   "id": "b10aea95-66eb-4576-ac19-7ae0e1725a24",
   "metadata": {},
   "outputs": [
    {
     "name": "stderr",
     "output_type": "stream",
     "text": [
      "24/07/26 19:43:12 WARN TaskSetManager: Stage 53 contains a task of very large size (72984 KiB). The maximum recommended task size is 1000 KiB.\n",
      "[Stage 53:======================================>                   (2 + 1) / 3]\r"
     ]
    },
    {
     "name": "stdout",
     "output_type": "stream",
     "text": [
      "+------------------+\n",
      "|         num_hours|\n",
      "+------------------+\n",
      "|45.486788049107695|\n",
      "| 3.239738889499544|\n",
      "+------------------+\n",
      "only showing top 2 rows\n",
      "\n"
     ]
    },
    {
     "name": "stderr",
     "output_type": "stream",
     "text": [
      "                                                                                \r"
     ]
    }
   ],
   "source": [
    "num_hours = filtered_df.select(F.col(\"num_hours\"))\n",
    "\n",
    "num_hours.show(2)"
   ]
  },
  {
   "cell_type": "code",
   "execution_count": 57,
   "id": "d562fd91-0cdb-4970-bbf7-d384d633bbc3",
   "metadata": {},
   "outputs": [],
   "source": [
    "# sum_hours = F.sum(num_hours['num_hours'])\n",
    "\n",
    "# sum_hours.show()"
   ]
  },
  {
   "cell_type": "code",
   "execution_count": 62,
   "id": "03125deb-23f0-4a04-a9d1-91071682cb81",
   "metadata": {},
   "outputs": [
    {
     "name": "stderr",
     "output_type": "stream",
     "text": [
      "24/07/26 19:43:34 WARN TaskSetManager: Stage 54 contains a task of very large size (72984 KiB). The maximum recommended task size is 1000 KiB.\n",
      "[Stage 54:===========================================>              (3 + 1) / 4]\r"
     ]
    },
    {
     "name": "stdout",
     "output_type": "stream",
     "text": [
      "+-----------------+\n",
      "|      total_hours|\n",
      "+-----------------+\n",
      "|397287.8618578641|\n",
      "+-----------------+\n",
      "\n"
     ]
    },
    {
     "name": "stderr",
     "output_type": "stream",
     "text": [
      "                                                                                \r"
     ]
    }
   ],
   "source": [
    "a = filtered_df.agg(F.sum(\"num_hours\").alias(\"total_hours\"))\n",
    "a.show()"
   ]
  },
  {
   "cell_type": "code",
   "execution_count": 63,
   "id": "ee80e97a-023e-4b73-a1ed-c876c14f5ef4",
   "metadata": {},
   "outputs": [
    {
     "name": "stderr",
     "output_type": "stream",
     "text": [
      "24/07/26 19:43:41 WARN TaskSetManager: Stage 57 contains a task of very large size (72984 KiB). The maximum recommended task size is 1000 KiB.\n",
      "[Stage 57:===========================================>              (3 + 1) / 4]\r"
     ]
    },
    {
     "name": "stdout",
     "output_type": "stream",
     "text": [
      "+-----------------+\n",
      "|      total_hours|\n",
      "+-----------------+\n",
      "|49.23021832191624|\n",
      "+-----------------+\n",
      "\n"
     ]
    },
    {
     "name": "stderr",
     "output_type": "stream",
     "text": [
      "                                                                                \r"
     ]
    }
   ],
   "source": [
    "a = filtered_df.agg(F.mean(\"num_hours\").alias(\"total_hours\"))\n",
    "a.show()"
   ]
  },
  {
   "cell_type": "code",
   "execution_count": null,
   "id": "9f2e4519-84c8-4b82-9b81-b2f257bc28de",
   "metadata": {},
   "outputs": [],
   "source": [
    "397287.8618578641/8070"
   ]
  },
  {
   "cell_type": "code",
   "execution_count": 64,
   "id": "0667fc36-04fe-478f-9a4b-82e1de4f607e",
   "metadata": {},
   "outputs": [
    {
     "name": "stderr",
     "output_type": "stream",
     "text": [
      "24/07/26 19:46:24 WARN TaskSetManager: Stage 60 contains a task of very large size (72984 KiB). The maximum recommended task size is 1000 KiB.\n",
      "[Stage 60:===========================================>              (3 + 1) / 4]\r"
     ]
    },
    {
     "name": "stdout",
     "output_type": "stream",
     "text": [
      "+-----------------+\n",
      "|      total_hours|\n",
      "+-----------------+\n",
      "|49.23021832191624|\n",
      "+-----------------+\n",
      "\n"
     ]
    },
    {
     "name": "stderr",
     "output_type": "stream",
     "text": [
      "                                                                                \r"
     ]
    }
   ],
   "source": [
    "a = filtered_df.agg(F.avg(\"num_hours\").alias(\"total_hours\"))\n",
    "a.show()"
   ]
  },
  {
   "cell_type": "code",
   "execution_count": 46,
   "id": "acff8436-d4c9-421c-bb1a-dec4119e197c",
   "metadata": {},
   "outputs": [
    {
     "data": {
      "text/plain": [
       "49.23021832191624"
      ]
     },
     "execution_count": 46,
     "metadata": {},
     "output_type": "execute_result"
    }
   ],
   "source": [
    "397287.8618578641/8070"
   ]
  },
  {
   "cell_type": "code",
   "execution_count": 107,
   "id": "d21e85fa-6f41-4f18-b324-e530e14622d4",
   "metadata": {},
   "outputs": [
    {
     "name": "stderr",
     "output_type": "stream",
     "text": [
      "24/07/25 22:54:29 WARN TaskSetManager: Stage 123 contains a task of very large size (72984 KiB). The maximum recommended task size is 1000 KiB.\n",
      "                                                                                \r"
     ]
    },
    {
     "data": {
      "text/plain": [
       "[Row(total_hours=397287.8618578641)]"
      ]
     },
     "execution_count": 107,
     "metadata": {},
     "output_type": "execute_result"
    }
   ],
   "source": [
    "a = filtered_df.agg(F.sum(\"num_hours\").alias(\"total_hours\"))\n",
    "a.collect()"
   ]
  },
  {
   "cell_type": "code",
   "execution_count": 72,
   "id": "4f798d19-68fb-45e0-a639-a90efb6a3adb",
   "metadata": {},
   "outputs": [
    {
     "ename": "TypeError",
     "evalue": "unsupported operand type(s) for +: 'int' and 'str'",
     "output_type": "error",
     "traceback": [
      "\u001b[0;31m---------------------------------------------------------------------------\u001b[0m",
      "\u001b[0;31mTypeError\u001b[0m                                 Traceback (most recent call last)",
      "\u001b[0;32m/var/folders/f7/4pktsxcd2mbdj2rm2c7b_28c0000gp/T/ipykernel_12574/333094305.py\u001b[0m in \u001b[0;36m<module>\u001b[0;34m\u001b[0m\n\u001b[0;32m----> 1\u001b[0;31m \u001b[0mfiltered_df\u001b[0m\u001b[0;34m.\u001b[0m\u001b[0magg\u001b[0m\u001b[0;34m(\u001b[0m\u001b[0msum\u001b[0m\u001b[0;34m(\u001b[0m\u001b[0;34m\"num_hours\"\u001b[0m\u001b[0;34m)\u001b[0m\u001b[0;34m.\u001b[0m\u001b[0mcast\u001b[0m\u001b[0;34m(\u001b[0m\u001b[0;34m'double'\u001b[0m\u001b[0;34m)\u001b[0m\u001b[0;34m)\u001b[0m\u001b[0;34m\u001b[0m\u001b[0;34m\u001b[0m\u001b[0m\n\u001b[0m\u001b[1;32m      2\u001b[0m \u001b[0;34m\u001b[0m\u001b[0m\n\u001b[1;32m      3\u001b[0m \u001b[0;34m\u001b[0m\u001b[0m\n\u001b[1;32m      4\u001b[0m \u001b[0;31m# sum(\"steps\").cast(\"long\")\u001b[0m\u001b[0;34m\u001b[0m\u001b[0;34m\u001b[0m\u001b[0;34m\u001b[0m\u001b[0m\n",
      "\u001b[0;31mTypeError\u001b[0m: unsupported operand type(s) for +: 'int' and 'str'"
     ]
    }
   ],
   "source": [
    "filtered_df.agg(sum(\"num_hours\").cast('double'))\n",
    "\n",
    "\n",
    "# sum(\"steps\").cast(\"long\")"
   ]
  },
  {
   "cell_type": "code",
   "execution_count": null,
   "id": "543d77d0-fc63-41f9-9414-58dd3540d13f",
   "metadata": {},
   "outputs": [],
   "source": []
  },
  {
   "cell_type": "code",
   "execution_count": null,
   "id": "1fb4bddb-8eb0-49d6-91b4-11c4508a76c9",
   "metadata": {},
   "outputs": [],
   "source": []
  }
 ],
 "metadata": {
  "kernelspec": {
   "display_name": "Python 3 (ipykernel)",
   "language": "python",
   "name": "python3"
  },
  "language_info": {
   "codemirror_mode": {
    "name": "ipython",
    "version": 3
   },
   "file_extension": ".py",
   "mimetype": "text/x-python",
   "name": "python",
   "nbconvert_exporter": "python",
   "pygments_lexer": "ipython3",
   "version": "3.9.6"
  }
 },
 "nbformat": 4,
 "nbformat_minor": 5
}
