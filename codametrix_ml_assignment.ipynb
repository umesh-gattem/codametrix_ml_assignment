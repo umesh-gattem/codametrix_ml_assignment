{
 "cells": [
  {
   "cell_type": "code",
   "execution_count": 1,
   "id": "9be2a135-7f7c-47b1-841e-afc369dc510d",
   "metadata": {},
   "outputs": [],
   "source": [
    "from urllib.request import urlopen\n",
    "from pyspark.sql import SparkSession, functions as F\n",
    "import string"
   ]
  },
  {
   "cell_type": "code",
   "execution_count": 2,
   "id": "baca1dea-c2fc-41ba-80dd-9ee589f5fe25",
   "metadata": {},
   "outputs": [],
   "source": [
    "url = \"https://raw.githubusercontent.com/kingspp/mlen_assignment/main/data.json\"\n",
    "\n",
    "jsonData = urlopen(url).read().decode('utf-8')"
   ]
  },
  {
   "cell_type": "code",
   "execution_count": 3,
   "id": "64e5fc06-7a77-477d-bb1a-31e22981a234",
   "metadata": {},
   "outputs": [
    {
     "data": {
      "text/plain": [
       "[{'jira_ticket_id': 0,\n",
       "  'completed': 'yes',\n",
       "  'date': '2023-03-18',\n",
       "  'num_slack_messages': 237,\n",
       "  'num_hours': 22.898463229813657,\n",
       "  'engineer': 'Sandra',\n",
       "  'ticket_description': 'reclusive initiate horseflesh Martinique crucify Julio blacktop benefit designate firebreak anise condescension page Acadia bevel skyscrape senile peacemake eft whimsic crossbar Goode comic flip sustain abstention',\n",
       "  'KPIs': [{'initiative': 'New Customer', 'new_revenue': 4349.905217024631}],\n",
       "  'lines_per_repo': [{'G': 52}, {'O': 23}, {'H': 31}]},\n",
       " {'jira_ticket_id': 1,\n",
       "  'completed': True,\n",
       "  'date': '2023-03-31',\n",
       "  'num_slack_messages': 276,\n",
       "  'num_hours': 62.13453815065962,\n",
       "  'engineer': 'Dale',\n",
       "  'ticket_description': 'Taurus both absentia Lavoisier mustache crossroad steppe suspend German necrosis debunk Humphrey eugenic differentiate audacity rodeo Steiner indiscreet Passover moonlight shadow Merriam driftwood viviparous twosome professorial',\n",
       "  'KPIs': [{'initiative': 'Efficiency', 'new_revenue': 5295.655191108497},\n",
       "   {'initiative': 'New Customer', 'new_revenue': 4360.981809817207}],\n",
       "  'lines_per_repo': [{'G': 42}, {'S': 15}]},\n",
       " {'jira_ticket_id': 2,\n",
       "  'completed': None,\n",
       "  'date': '2023-07-09',\n",
       "  'num_slack_messages': 72,\n",
       "  'num_hours': 12.258103781491759,\n",
       "  'engineer': 'Josh',\n",
       "  'ticket_description': \"precess canister Paulette rapprochement Martinson besmirch friend sanguinary Nan excessive earthy hefty inappreciable ballroom gibbous acetylene paroxysm perfumery hackle late Hiatt Winnetka gall atmosphere Basque Hemingway devote bashaw valid perhaps Medford meaty coliseum Kodachrome pall Transvaal downgrade chromosomal pennyroyal roadrunner chemistry loosen cannonball deposition Chevrolet within call interior Godfrey harsh chive Lesotho conference Isabella ruminate joyous abode greenhouse purchase raven jocular Wightman diagonal Schuyler transcend foot wonderland mesh Sylvania compensable encyclopedic n's how Natalie annulled bamboo parasympathetic speedometer gauzy aniseikonic icy aye Puccini numeric hurry unicorn\",\n",
       "  'KPIs': [{'initiative': 'Support', 'new_revenue': 1034.0549809871247},\n",
       "   {'initiative': 'Support', 'new_revenue': 6768.249453882341}],\n",
       "  'lines_per_repo': [{'F': 14}, {'M': 78}, {'C': 14}]},\n",
       " {'jira_ticket_id': 3,\n",
       "  'completed': 'true',\n",
       "  'date': '2023-12-10',\n",
       "  'num_slack_messages': 371,\n",
       "  'num_hours': 39.005271282838,\n",
       "  'engineer': 'Dale',\n",
       "  'ticket_description': 'Oldenburg Stalin income lavatory Gershwin Palo lurch numb shudder stab wardrobe Pinsky prolix quaint kiva trod midwives smug proffer decouple arsine ambient unitary diffract Samuelson dietary hydroxy gentlewoman event grottoes dilatation wholesome Eden Baghdad writhe coastal Ralston Mario finicky marsupial Timon sure gosling superb evangel bury cutworm growth rue beetle',\n",
       "  'KPIs': [{'initiative': 'New Customer', 'new_revenue': 9062.46068907657},\n",
       "   {'initiative': 'Support', 'new_revenue': 7093.992721964638}],\n",
       "  'lines_per_repo': [{'A': 64}, {'Y': 6}, {'E': 50}, {'Q': 68}]},\n",
       " {'jira_ticket_id': 4,\n",
       "  'completed': True,\n",
       "  'date': '2023-04-29',\n",
       "  'num_slack_messages': 217,\n",
       "  'num_hours': 80.07442475024116,\n",
       "  'engineer': 'Dale',\n",
       "  'ticket_description': \"tasting prostitution quadrant augmentation thallium bauxite cahoot Wang souffle binocular grouchy Matthew Braille wield circumferential Ulan idiot shelve convoke bug milieu chump verbena flammable province mantel Montague aboveground malleable glycine retrospect aspire plebiscite rice chickpea Deere calisthenic graduate preen girdle flaw murk elude polar ceil rate Cadillac Tuscan archetype McConnel jade speakeasy eigenspace carbonaceous Leo duckling amoeboid betroth cacti atrophic moratorium murky Middlesex this'll mezzanine coltsfoot amethystine counterbalance eighty Bruegel combat\",\n",
       "  'KPIs': [{'initiative': 'New Customer', 'new_revenue': 782.3002188560902},\n",
       "   {'initiative': 'Efficiency', 'new_revenue': 2014.0789230607215}],\n",
       "  'lines_per_repo': [{'T': 22}]}]"
      ]
     },
     "execution_count": 3,
     "metadata": {},
     "output_type": "execute_result"
    }
   ],
   "source": [
    "import json\n",
    "sample_data = json.loads(jsonData)[:5]\n",
    "sample_data"
   ]
  },
  {
   "cell_type": "code",
   "execution_count": 4,
   "id": "efcf390d-53cf-4225-a5b8-bcc18d0ba767",
   "metadata": {},
   "outputs": [
    {
     "name": "stdout",
     "output_type": "stream",
     "text": [
      "/usr/local/bin/python3.9\n"
     ]
    }
   ],
   "source": [
    "!which python3.9"
   ]
  },
  {
   "cell_type": "code",
   "execution_count": 5,
   "id": "79d6801e-35ea-4618-bf63-7a12ea56b108",
   "metadata": {},
   "outputs": [],
   "source": [
    "import os\n",
    "\n",
    "os.environ[\"PYSPARK_PYTHON\"]=\"/usr/local/bin/python3.9\"\n",
    "\n",
    "os.environ[\"PYSPARK_DRIVER_PYTHON\"]=\"/usr/local/bin/python3.9\"\n"
   ]
  },
  {
   "cell_type": "code",
   "execution_count": 6,
   "id": "7cb42487-8db4-4413-9ed2-512c908e883d",
   "metadata": {},
   "outputs": [
    {
     "data": {
      "text/plain": [
       "('/usr/local/bin/python3.9', '/usr/local/bin/python3.9')"
      ]
     },
     "execution_count": 6,
     "metadata": {},
     "output_type": "execute_result"
    }
   ],
   "source": [
    "os.environ.get('PYSPARK_PYTHON'), os.environ.get('PYSPARK_DRIVER_PYTHON')"
   ]
  },
  {
   "cell_type": "code",
   "execution_count": 7,
   "id": "1319068c-44e9-488f-972e-60ae7a3d584b",
   "metadata": {},
   "outputs": [
    {
     "name": "stderr",
     "output_type": "stream",
     "text": [
      "Setting default log level to \"WARN\".\n",
      "To adjust logging level use sc.setLogLevel(newLevel). For SparkR, use setLogLevel(newLevel).\n",
      "24/07/28 13:12:20 WARN NativeCodeLoader: Unable to load native-hadoop library for your platform... using builtin-java classes where applicable\n",
      "24/07/28 13:12:36 WARN TaskSetManager: Stage 0 contains a task of very large size (72984 KiB). The maximum recommended task size is 1000 KiB.\n",
      "24/07/28 13:12:43 WARN package: Truncated the string representation of a plan since it was too large. This behavior can be adjusted by setting 'spark.sql.debug.maxToStringFields'.\n"
     ]
    }
   ],
   "source": [
    "spark = SparkSession.builder.getOrCreate()\n",
    "\n",
    "rdd = spark.sparkContext.parallelize([jsonData])\n",
    "df = spark.read.json(rdd)"
   ]
  },
  {
   "cell_type": "code",
   "execution_count": 8,
   "id": "09e63428-424d-4ae0-939b-4ccf1672bc9d",
   "metadata": {},
   "outputs": [
    {
     "name": "stderr",
     "output_type": "stream",
     "text": [
      "24/07/28 13:12:44 WARN TaskSetManager: Stage 1 contains a task of very large size (72984 KiB). The maximum recommended task size is 1000 KiB.\n",
      "                                                                                \r"
     ]
    },
    {
     "data": {
      "text/plain": [
       "100000"
      ]
     },
     "execution_count": 8,
     "metadata": {},
     "output_type": "execute_result"
    }
   ],
   "source": [
    "df.count()"
   ]
  },
  {
   "cell_type": "code",
   "execution_count": 38,
   "id": "eb769f0d-25c4-40cc-a524-9b7616cd0880",
   "metadata": {},
   "outputs": [
    {
     "name": "stderr",
     "output_type": "stream",
     "text": [
      "24/07/28 13:37:52 WARN TaskSetManager: Stage 65 contains a task of very large size (72984 KiB). The maximum recommended task size is 1000 KiB.\n",
      "                                                                                \r"
     ]
    },
    {
     "data": {
      "text/plain": [
       "100000"
      ]
     },
     "execution_count": 38,
     "metadata": {},
     "output_type": "execute_result"
    }
   ],
   "source": [
    "sample_df = df.where(F.col('jira_ticket_id').isNotNull())\n",
    "\n",
    "sample_df.count()"
   ]
  },
  {
   "cell_type": "code",
   "execution_count": 9,
   "id": "d7d05361-ae9a-4f6d-806f-ecfacd7ce819",
   "metadata": {},
   "outputs": [
    {
     "name": "stderr",
     "output_type": "stream",
     "text": [
      "24/07/27 11:15:15 WARN TaskSetManager: Stage 5 contains a task of very large size (72984 KiB). The maximum recommended task size is 1000 KiB.\n",
      "                                                                                \r"
     ]
    },
    {
     "data": {
      "text/plain": [
       "Row(KPIs=[Row(initiative='New Customer', new_revenue=4349.905217024631)], completed='yes', date='2023-03-18', engineer='Sandra', jira_ticket_id=0, lines_per_repo=[Row(A=None, B=None, C=None, D=None, E=None, F=None, G=52, H=None, I=None, J=None, K=None, L=None, M=None, N=None, O=None, P=None, Q=None, R=None, S=None, T=None, U=None, V=None, W=None, X=None, Y=None, Z=None), Row(A=None, B=None, C=None, D=None, E=None, F=None, G=None, H=None, I=None, J=None, K=None, L=None, M=None, N=None, O=23, P=None, Q=None, R=None, S=None, T=None, U=None, V=None, W=None, X=None, Y=None, Z=None), Row(A=None, B=None, C=None, D=None, E=None, F=None, G=None, H=31, I=None, J=None, K=None, L=None, M=None, N=None, O=None, P=None, Q=None, R=None, S=None, T=None, U=None, V=None, W=None, X=None, Y=None, Z=None)], num_hours=22.898463229813657, num_slack_messages=237, ticket_description='reclusive initiate horseflesh Martinique crucify Julio blacktop benefit designate firebreak anise condescension page Acadia bevel skyscrape senile peacemake eft whimsic crossbar Goode comic flip sustain abstention')"
      ]
     },
     "execution_count": 9,
     "metadata": {},
     "output_type": "execute_result"
    }
   ],
   "source": [
    "df.first()"
   ]
  },
  {
   "cell_type": "code",
   "execution_count": 10,
   "id": "f081b027-1b4c-45a6-9864-3eacfd2f0b19",
   "metadata": {},
   "outputs": [
    {
     "name": "stdout",
     "output_type": "stream",
     "text": [
      "root\n",
      " |-- KPIs: array (nullable = true)\n",
      " |    |-- element: struct (containsNull = true)\n",
      " |    |    |-- initiative: string (nullable = true)\n",
      " |    |    |-- new_revenue: double (nullable = true)\n",
      " |-- completed: string (nullable = true)\n",
      " |-- date: string (nullable = true)\n",
      " |-- engineer: string (nullable = true)\n",
      " |-- jira_ticket_id: long (nullable = true)\n",
      " |-- lines_per_repo: array (nullable = true)\n",
      " |    |-- element: struct (containsNull = true)\n",
      " |    |    |-- A: long (nullable = true)\n",
      " |    |    |-- B: long (nullable = true)\n",
      " |    |    |-- C: long (nullable = true)\n",
      " |    |    |-- D: long (nullable = true)\n",
      " |    |    |-- E: long (nullable = true)\n",
      " |    |    |-- F: long (nullable = true)\n",
      " |    |    |-- G: long (nullable = true)\n",
      " |    |    |-- H: long (nullable = true)\n",
      " |    |    |-- I: long (nullable = true)\n",
      " |    |    |-- J: long (nullable = true)\n",
      " |    |    |-- K: long (nullable = true)\n",
      " |    |    |-- L: long (nullable = true)\n",
      " |    |    |-- M: long (nullable = true)\n",
      " |    |    |-- N: long (nullable = true)\n",
      " |    |    |-- O: long (nullable = true)\n",
      " |    |    |-- P: long (nullable = true)\n",
      " |    |    |-- Q: long (nullable = true)\n",
      " |    |    |-- R: long (nullable = true)\n",
      " |    |    |-- S: long (nullable = true)\n",
      " |    |    |-- T: long (nullable = true)\n",
      " |    |    |-- U: long (nullable = true)\n",
      " |    |    |-- V: long (nullable = true)\n",
      " |    |    |-- W: long (nullable = true)\n",
      " |    |    |-- X: long (nullable = true)\n",
      " |    |    |-- Y: long (nullable = true)\n",
      " |    |    |-- Z: long (nullable = true)\n",
      " |-- num_hours: double (nullable = true)\n",
      " |-- num_slack_messages: long (nullable = true)\n",
      " |-- ticket_description: string (nullable = true)\n",
      "\n"
     ]
    }
   ],
   "source": [
    "df.printSchema()"
   ]
  },
  {
   "cell_type": "code",
   "execution_count": 68,
   "id": "2cf3bfe0-7c07-4983-89e0-ac0b3904e603",
   "metadata": {},
   "outputs": [
    {
     "name": "stderr",
     "output_type": "stream",
     "text": [
      "24/07/28 14:24:30 WARN TaskSetManager: Stage 143 contains a task of very large size (72984 KiB). The maximum recommended task size is 1000 KiB.\n",
      "                                                                                \r"
     ]
    },
    {
     "data": {
      "text/plain": [
       "28320"
      ]
     },
     "execution_count": 68,
     "metadata": {},
     "output_type": "execute_result"
    }
   ],
   "source": [
    "df.where((F.col(\"completed\") == \"true\") & (F.col(\"num_hours\") > 0)).count()"
   ]
  },
  {
   "cell_type": "code",
   "execution_count": 57,
   "id": "299688b9-c1df-460c-af74-ce3007bf0d89",
   "metadata": {},
   "outputs": [
    {
     "name": "stderr",
     "output_type": "stream",
     "text": [
      "24/07/28 14:16:52 WARN TaskSetManager: Stage 123 contains a task of very large size (72984 KiB). The maximum recommended task size is 1000 KiB.\n",
      "                                                                                \r"
     ]
    },
    {
     "data": {
      "text/plain": [
       "28562"
      ]
     },
     "execution_count": 57,
     "metadata": {},
     "output_type": "execute_result"
    }
   ],
   "source": [
    "df.where(F.col(\"completed\") == \"false\").count()"
   ]
  },
  {
   "cell_type": "code",
   "execution_count": 58,
   "id": "47488749-0610-41ff-b9db-4e5defb2a411",
   "metadata": {},
   "outputs": [
    {
     "name": "stderr",
     "output_type": "stream",
     "text": [
      "24/07/28 14:17:07 WARN TaskSetManager: Stage 126 contains a task of very large size (72984 KiB). The maximum recommended task size is 1000 KiB.\n",
      "                                                                                \r"
     ]
    },
    {
     "data": {
      "text/plain": [
       "14429"
      ]
     },
     "execution_count": 58,
     "metadata": {},
     "output_type": "execute_result"
    }
   ],
   "source": [
    "df.where(F.col(\"completed\") == \"yes\").count()"
   ]
  },
  {
   "cell_type": "code",
   "execution_count": 59,
   "id": "9b562eb2-101c-44eb-800b-3a8f795bc00d",
   "metadata": {},
   "outputs": [
    {
     "name": "stderr",
     "output_type": "stream",
     "text": [
      "24/07/28 14:17:24 WARN TaskSetManager: Stage 129 contains a task of very large size (72984 KiB). The maximum recommended task size is 1000 KiB.\n",
      "                                                                                \r"
     ]
    },
    {
     "data": {
      "text/plain": [
       "14101"
      ]
     },
     "execution_count": 59,
     "metadata": {},
     "output_type": "execute_result"
    }
   ],
   "source": [
    "df.where(F.col(\"completed\") == \"no\").count()"
   ]
  },
  {
   "cell_type": "code",
   "execution_count": 65,
   "id": "504278ee-e568-40b7-966e-926747ba853b",
   "metadata": {},
   "outputs": [
    {
     "name": "stderr",
     "output_type": "stream",
     "text": [
      "24/07/28 14:20:40 WARN TaskSetManager: Stage 140 contains a task of very large size (72984 KiB). The maximum recommended task size is 1000 KiB.\n",
      "                                                                                \r"
     ]
    },
    {
     "data": {
      "text/plain": [
       "14285"
      ]
     },
     "execution_count": 65,
     "metadata": {},
     "output_type": "execute_result"
    }
   ],
   "source": [
    "df.where(F.col(\"completed\").isNull()).count()"
   ]
  },
  {
   "cell_type": "code",
   "execution_count": null,
   "id": "fa17a2d7-89de-4df4-a941-e5672f533256",
   "metadata": {},
   "outputs": [],
   "source": [
    "\n"
   ]
  },
  {
   "cell_type": "code",
   "execution_count": 60,
   "id": "73d22c50-59a1-457c-bebd-a8cdb6ed2e1c",
   "metadata": {},
   "outputs": [
    {
     "name": "stderr",
     "output_type": "stream",
     "text": [
      "24/07/28 14:18:32 WARN TaskSetManager: Stage 133 contains a task of very large size (72984 KiB). The maximum recommended task size is 1000 KiB.\n",
      "                                                                                \r"
     ]
    },
    {
     "data": {
      "text/plain": [
       "[Row(KPIs=[Row(initiative='New Customer', new_revenue=4349.905217024631)], completed='yes', date='2023-03-18', engineer='Sandra', jira_ticket_id=0, lines_per_repo=[Row(A=None, B=None, C=None, D=None, E=None, F=None, G=52, H=None, I=None, J=None, K=None, L=None, M=None, N=None, O=None, P=None, Q=None, R=None, S=None, T=None, U=None, V=None, W=None, X=None, Y=None, Z=None), Row(A=None, B=None, C=None, D=None, E=None, F=None, G=None, H=None, I=None, J=None, K=None, L=None, M=None, N=None, O=23, P=None, Q=None, R=None, S=None, T=None, U=None, V=None, W=None, X=None, Y=None, Z=None), Row(A=None, B=None, C=None, D=None, E=None, F=None, G=None, H=31, I=None, J=None, K=None, L=None, M=None, N=None, O=None, P=None, Q=None, R=None, S=None, T=None, U=None, V=None, W=None, X=None, Y=None, Z=None)], num_hours=22.898463229813657, num_slack_messages=237, ticket_description='reclusive initiate horseflesh Martinique crucify Julio blacktop benefit designate firebreak anise condescension page Acadia bevel skyscrape senile peacemake eft whimsic crossbar Goode comic flip sustain abstention'),\n",
       " Row(KPIs=[Row(initiative='Efficiency', new_revenue=5295.655191108497), Row(initiative='New Customer', new_revenue=4360.981809817207)], completed='true', date='2023-03-31', engineer='Dale', jira_ticket_id=1, lines_per_repo=[Row(A=None, B=None, C=None, D=None, E=None, F=None, G=42, H=None, I=None, J=None, K=None, L=None, M=None, N=None, O=None, P=None, Q=None, R=None, S=None, T=None, U=None, V=None, W=None, X=None, Y=None, Z=None), Row(A=None, B=None, C=None, D=None, E=None, F=None, G=None, H=None, I=None, J=None, K=None, L=None, M=None, N=None, O=None, P=None, Q=None, R=None, S=15, T=None, U=None, V=None, W=None, X=None, Y=None, Z=None)], num_hours=62.13453815065962, num_slack_messages=276, ticket_description='Taurus both absentia Lavoisier mustache crossroad steppe suspend German necrosis debunk Humphrey eugenic differentiate audacity rodeo Steiner indiscreet Passover moonlight shadow Merriam driftwood viviparous twosome professorial'),\n",
       " Row(KPIs=[Row(initiative='Support', new_revenue=1034.0549809871247), Row(initiative='Support', new_revenue=6768.249453882341)], completed=None, date='2023-07-09', engineer='Josh', jira_ticket_id=2, lines_per_repo=[Row(A=None, B=None, C=None, D=None, E=None, F=14, G=None, H=None, I=None, J=None, K=None, L=None, M=None, N=None, O=None, P=None, Q=None, R=None, S=None, T=None, U=None, V=None, W=None, X=None, Y=None, Z=None), Row(A=None, B=None, C=None, D=None, E=None, F=None, G=None, H=None, I=None, J=None, K=None, L=None, M=78, N=None, O=None, P=None, Q=None, R=None, S=None, T=None, U=None, V=None, W=None, X=None, Y=None, Z=None), Row(A=None, B=None, C=14, D=None, E=None, F=None, G=None, H=None, I=None, J=None, K=None, L=None, M=None, N=None, O=None, P=None, Q=None, R=None, S=None, T=None, U=None, V=None, W=None, X=None, Y=None, Z=None)], num_hours=12.258103781491759, num_slack_messages=72, ticket_description=\"precess canister Paulette rapprochement Martinson besmirch friend sanguinary Nan excessive earthy hefty inappreciable ballroom gibbous acetylene paroxysm perfumery hackle late Hiatt Winnetka gall atmosphere Basque Hemingway devote bashaw valid perhaps Medford meaty coliseum Kodachrome pall Transvaal downgrade chromosomal pennyroyal roadrunner chemistry loosen cannonball deposition Chevrolet within call interior Godfrey harsh chive Lesotho conference Isabella ruminate joyous abode greenhouse purchase raven jocular Wightman diagonal Schuyler transcend foot wonderland mesh Sylvania compensable encyclopedic n's how Natalie annulled bamboo parasympathetic speedometer gauzy aniseikonic icy aye Puccini numeric hurry unicorn\"),\n",
       " Row(KPIs=[Row(initiative='New Customer', new_revenue=9062.46068907657), Row(initiative='Support', new_revenue=7093.992721964638)], completed='true', date='2023-12-10', engineer='Dale', jira_ticket_id=3, lines_per_repo=[Row(A=64, B=None, C=None, D=None, E=None, F=None, G=None, H=None, I=None, J=None, K=None, L=None, M=None, N=None, O=None, P=None, Q=None, R=None, S=None, T=None, U=None, V=None, W=None, X=None, Y=None, Z=None), Row(A=None, B=None, C=None, D=None, E=None, F=None, G=None, H=None, I=None, J=None, K=None, L=None, M=None, N=None, O=None, P=None, Q=None, R=None, S=None, T=None, U=None, V=None, W=None, X=None, Y=6, Z=None), Row(A=None, B=None, C=None, D=None, E=50, F=None, G=None, H=None, I=None, J=None, K=None, L=None, M=None, N=None, O=None, P=None, Q=None, R=None, S=None, T=None, U=None, V=None, W=None, X=None, Y=None, Z=None), Row(A=None, B=None, C=None, D=None, E=None, F=None, G=None, H=None, I=None, J=None, K=None, L=None, M=None, N=None, O=None, P=None, Q=68, R=None, S=None, T=None, U=None, V=None, W=None, X=None, Y=None, Z=None)], num_hours=39.005271282838, num_slack_messages=371, ticket_description='Oldenburg Stalin income lavatory Gershwin Palo lurch numb shudder stab wardrobe Pinsky prolix quaint kiva trod midwives smug proffer decouple arsine ambient unitary diffract Samuelson dietary hydroxy gentlewoman event grottoes dilatation wholesome Eden Baghdad writhe coastal Ralston Mario finicky marsupial Timon sure gosling superb evangel bury cutworm growth rue beetle'),\n",
       " Row(KPIs=[Row(initiative='New Customer', new_revenue=782.3002188560902), Row(initiative='Efficiency', new_revenue=2014.0789230607215)], completed='true', date='2023-04-29', engineer='Dale', jira_ticket_id=4, lines_per_repo=[Row(A=None, B=None, C=None, D=None, E=None, F=None, G=None, H=None, I=None, J=None, K=None, L=None, M=None, N=None, O=None, P=None, Q=None, R=None, S=None, T=22, U=None, V=None, W=None, X=None, Y=None, Z=None)], num_hours=80.07442475024116, num_slack_messages=217, ticket_description=\"tasting prostitution quadrant augmentation thallium bauxite cahoot Wang souffle binocular grouchy Matthew Braille wield circumferential Ulan idiot shelve convoke bug milieu chump verbena flammable province mantel Montague aboveground malleable glycine retrospect aspire plebiscite rice chickpea Deere calisthenic graduate preen girdle flaw murk elude polar ceil rate Cadillac Tuscan archetype McConnel jade speakeasy eigenspace carbonaceous Leo duckling amoeboid betroth cacti atrophic moratorium murky Middlesex this'll mezzanine coltsfoot amethystine counterbalance eighty Bruegel combat\")]"
      ]
     },
     "execution_count": 60,
     "metadata": {},
     "output_type": "execute_result"
    }
   ],
   "source": [
    "df.head(5)"
   ]
  },
  {
   "cell_type": "markdown",
   "id": "4707bdbb-3042-44a1-8175-820da409b496",
   "metadata": {},
   "source": [
    "## Q1 : What is the longest Jira ticket description?"
   ]
  },
  {
   "cell_type": "code",
   "execution_count": 13,
   "id": "c47396a1-c5f4-44ca-9e27-7ae9c710e355",
   "metadata": {},
   "outputs": [
    {
     "name": "stderr",
     "output_type": "stream",
     "text": [
      "24/07/27 11:15:23 WARN TaskSetManager: Stage 12 contains a task of very large size (72984 KiB). The maximum recommended task size is 1000 KiB.\n",
      "[Stage 12:>                                                         (0 + 1) / 1]\r"
     ]
    },
    {
     "name": "stdout",
     "output_type": "stream",
     "text": [
      "895\n",
      "[Row(ticket_description='Carmela sibling musicology patron gunpoint Canfield mammal Santayana Freddie Waterhouse estuary eligible Todd bashaw repellent Jovanovich integrity windbreak halide pestilential italic desiccate Hanoverian Riordan Lathrop connotative ratify Chattanooga phenol enjoinder chase breakdown alkaloid homology cleric consistent pickle rather Barney dogma crocodile liaison endometrial embroider methodology within marketeer cope patrol paycheck Nevins Spokane theorem Jorgensen Wilma transoceanic Mansfield arboretum attribution chemistry Woodbury Cottrell prosodic lox fallacious tachyon coprocessor Furman putdown Pickford goose ignition icosahedral chemic reconnaissance aggravate marinade furthest converge Apocrypha formula cocky landlocked Hopkins stamp Bennington injudicious bulletin spontaneous whalebone prolific scavenge aliphatic balsam offprint shepherdess underling Banbury Rebecca flush')]\n"
     ]
    },
    {
     "name": "stderr",
     "output_type": "stream",
     "text": [
      "                                                                                \r"
     ]
    }
   ],
   "source": [
    "##Brute Force Method\n",
    "\n",
    "max_length = 0\n",
    "\n",
    "for row in df.rdd.toLocalIterator():\n",
    "        if len(row[\"ticket_description\"]) > max_length:\n",
    "            max_length = len(row[\"ticket_description\"])\n",
    "            long_ticket = row['ticket_description']\n",
    "\n",
    "print(max_length)\n",
    "spark = SparkSession.builder.getOrCreate()\n",
    "\n",
    "res = spark.createDataFrame([{'ticket_description': long_ticket}])\n",
    "print(res.collect())"
   ]
  },
  {
   "cell_type": "code",
   "execution_count": 19,
   "id": "1e7bf778-bc10-4083-b5df-bbad39714b32",
   "metadata": {},
   "outputs": [
    {
     "name": "stderr",
     "output_type": "stream",
     "text": [
      "24/07/27 12:34:37 WARN TaskSetManager: Stage 24 contains a task of very large size (72984 KiB). The maximum recommended task size is 1000 KiB.\n",
      "                                                                                \r"
     ]
    }
   ],
   "source": [
    "longest_description_row = df.withColumn(\"description_length\", F.length(F.col(\"ticket_description\"))) \\\n",
    "                            .orderBy(F.col(\"description_length\").desc()).first()\n",
    "\n",
    "longest_description = longest_description_row[\"ticket_description\"]\n",
    "jira_ticket_id = longest_description_row[\"jira_ticket_id\"]\n",
    "\n",
    "# longest_description_row.collect()"
   ]
  },
  {
   "cell_type": "markdown",
   "id": "b3dd7505-23dc-4e5a-8dc9-d56a83e9c511",
   "metadata": {},
   "source": [
    "## Q2 : Which repo had the most lines of code added?"
   ]
  },
  {
   "cell_type": "code",
   "execution_count": 16,
   "id": "21816103-692f-4d36-827c-c616f0ebe848",
   "metadata": {},
   "outputs": [
    {
     "name": "stderr",
     "output_type": "stream",
     "text": [
      "24/07/27 12:33:55 WARN TaskSetManager: Stage 23 contains a task of very large size (72984 KiB). The maximum recommended task size is 1000 KiB.\n",
      "[Stage 23:>                                                         (0 + 1) / 1]\r"
     ]
    }
   ],
   "source": [
    "# Brute Force\n",
    "\n",
    "max_length = 0\n",
    "\n",
    "all_upper_chars = {char:0 for char in list(string.ascii_uppercase)}\n",
    "\n",
    "for row in df.rdd.toLocalIterator():\n",
    "    for repo in row['lines_per_repo']:\n",
    "        for char in all_upper_chars:\n",
    "            if repo[char]:\n",
    "                all_upper_chars[char] += repo[char]\n",
    "\n",
    "max_repo = max(all_upper_chars, key=all_upper_chars.get)\n",
    "\n",
    "# print(max_length)\n",
    "spark = SparkSession.builder.getOrCreate()\n",
    "\n",
    "res = spark.createDataFrame([{'repo': max_repo}])\n",
    "# print(res.collect())"
   ]
  },
  {
   "cell_type": "code",
   "execution_count": null,
   "id": "a3061cf6-c126-499d-bac7-9a4b8d410f21",
   "metadata": {
    "tags": []
   },
   "outputs": [],
   "source": []
  },
  {
   "cell_type": "code",
   "execution_count": 17,
   "id": "78213a28-b45a-49c8-b846-7e617f745461",
   "metadata": {},
   "outputs": [
    {
     "name": "stdout",
     "output_type": "stream",
     "text": [
      "{'A': 576507, 'B': 583263, 'C': 575486, 'D': 579199, 'E': 578629, 'F': 587859, 'G': 579507, 'H': 589558, 'I': 578110, 'J': 589083, 'K': 579684, 'L': 584731, 'M': 585300, 'N': 570306, 'O': 581491, 'P': 578376, 'Q': 576703, 'R': 577720, 'S': 582853, 'T': 584022, 'U': 586047, 'V': 581735, 'W': 578261, 'X': 570098, 'Y': 578500, 'Z': 589610}\n"
     ]
    }
   ],
   "source": [
    "print(all_upper_chars)"
   ]
  },
  {
   "cell_type": "code",
   "execution_count": 18,
   "id": "c91653aa-8134-4ce2-81d3-09d1518eaf3c",
   "metadata": {},
   "outputs": [
    {
     "name": "stdout",
     "output_type": "stream",
     "text": [
      "Z\n"
     ]
    }
   ],
   "source": [
    "print(max_repo)"
   ]
  },
  {
   "cell_type": "code",
   "execution_count": 53,
   "id": "8da3c60b-f498-4356-8d41-ce9a939cb219",
   "metadata": {},
   "outputs": [
    {
     "name": "stderr",
     "output_type": "stream",
     "text": [
      "24/07/28 14:11:58 WARN TaskSetManager: Stage 115 contains a task of very large size (72984 KiB). The maximum recommended task size is 1000 KiB.\n",
      "[Stage 115:==========================================>              (3 + 1) / 4]\r"
     ]
    },
    {
     "name": "stdout",
     "output_type": "stream",
     "text": [
      "{'sum(A)': 576507, 'sum(B)': 583263, 'sum(C)': 575486, 'sum(D)': 579199, 'sum(E)': 578629, 'sum(F)': 587859, 'sum(G)': 579507, 'sum(H)': 589558, 'sum(I)': 578110, 'sum(J)': 589083, 'sum(K)': 579684, 'sum(L)': 584731, 'sum(M)': 585300, 'sum(N)': 570306, 'sum(O)': 581491, 'sum(P)': 578376, 'sum(Q)': 576703, 'sum(R)': 577720, 'sum(S)': 582853, 'sum(T)': 584022, 'sum(U)': 586047, 'sum(V)': 581735, 'sum(W)': 578261, 'sum(X)': 570098, 'sum(Y)': 578500, 'sum(Z)': 589610}\n",
      "The repository with the most lines of code added is sum(Z) with 589610 lines.\n"
     ]
    },
    {
     "name": "stderr",
     "output_type": "stream",
     "text": [
      "                                                                                \r"
     ]
    }
   ],
   "source": [
    "repos_df = df.selectExpr(\"inline(lines_per_repo)\")\n",
    "\n",
    "repo_lines_df = repos_df.groupBy().sum().collect()[0].asDict()\n",
    "print(repo_lines_df)\n",
    "most_lines_repo = max(repo_lines_df, key=repo_lines_df.get)\n",
    "total_lines = repo_lines_df[most_lines_repo]\n",
    "\n",
    "print(f\"The repository with the most lines of code added is {most_lines_repo} with {total_lines} lines.\")\n"
   ]
  },
  {
   "cell_type": "code",
   "execution_count": 19,
   "id": "b5cf3a23-1674-45c4-942d-702d3f097e44",
   "metadata": {},
   "outputs": [
    {
     "name": "stderr",
     "output_type": "stream",
     "text": [
      "24/07/26 17:54:24 WARN TaskSetManager: Stage 8 contains a task of very large size (72984 KiB). The maximum recommended task size is 1000 KiB.\n",
      "[Stage 8:============================================>              (3 + 1) / 4]\r"
     ]
    },
    {
     "name": "stdout",
     "output_type": "stream",
     "text": [
      "+--------+\n",
      "|engineer|\n",
      "+--------+\n",
      "|    Josh|\n",
      "|   daisy|\n",
      "|    dale|\n",
      "|    Dale|\n",
      "|    null|\n",
      "|    Alex|\n",
      "|  sandra|\n",
      "|  Sandra|\n",
      "|    alex|\n",
      "|    josh|\n",
      "|   Daisy|\n",
      "+--------+\n",
      "\n"
     ]
    },
    {
     "name": "stderr",
     "output_type": "stream",
     "text": [
      "                                                                                \r"
     ]
    }
   ],
   "source": [
    "df.select('engineer').distinct().show()"
   ]
  },
  {
   "cell_type": "markdown",
   "id": "45356b32-87a4-40e2-a32c-22e33718d94d",
   "metadata": {},
   "source": [
    "## Q3 : Provide the maximum number of Slack messages in any ticket for each engineer"
   ]
  },
  {
   "cell_type": "code",
   "execution_count": 21,
   "id": "147380f2-209c-4dfb-b7c3-598af37411d5",
   "metadata": {},
   "outputs": [
    {
     "name": "stderr",
     "output_type": "stream",
     "text": [
      "24/07/27 12:36:34 WARN TaskSetManager: Stage 31 contains a task of very large size (72984 KiB). The maximum recommended task size is 1000 KiB.\n",
      "[Stage 31:>                                                         (0 + 1) / 1]\r"
     ]
    }
   ],
   "source": [
    "engineer_messages = {}\n",
    "\n",
    "for row in df.rdd.toLocalIterator():\n",
    "    if row['engineer']:\n",
    "        engineer = row['engineer'].title()\n",
    "    else:\n",
    "        continue\n",
    "    engineer_messages[engineer] = max(row['num_slack_messages'], engineer_messages.get(engineer, 0))\n",
    "\n",
    "spark = SparkSession.builder.getOrCreate()\n",
    "\n",
    "res = spark.createDataFrame([sorted(engineer_messages.items())])"
   ]
  },
  {
   "cell_type": "code",
   "execution_count": 22,
   "id": "e63f44fc-8741-4f91-b15b-752f66b0fa35",
   "metadata": {},
   "outputs": [
    {
     "name": "stdout",
     "output_type": "stream",
     "text": [
      "[('Alex', 500), ('Daisy', 500), ('Dale', 500), ('Josh', 500), ('Sandra', 500)]\n"
     ]
    }
   ],
   "source": [
    "print(sorted(engineer_messages.items()))"
   ]
  },
  {
   "cell_type": "code",
   "execution_count": 23,
   "id": "5a6de50d-8ea0-4743-ade3-5cb79caa4b09",
   "metadata": {},
   "outputs": [
    {
     "data": {
      "text/plain": [
       "[{'engineer': 'Alex', 'max_messages': 500},\n",
       " {'engineer': 'Daisy', 'max_messages': 500},\n",
       " {'engineer': 'Dale', 'max_messages': 500},\n",
       " {'engineer': 'Josh', 'max_messages': 500},\n",
       " {'engineer': 'Sandra', 'max_messages': 500}]"
      ]
     },
     "execution_count": 23,
     "metadata": {},
     "output_type": "execute_result"
    }
   ],
   "source": [
    "[{\"engineer\":key, \"max_messages\":value} for key, value in sorted(engineer_messages.items())]"
   ]
  },
  {
   "cell_type": "code",
   "execution_count": 32,
   "id": "b56503b6-aee4-4e5e-8358-643e0f06fbaf",
   "metadata": {},
   "outputs": [],
   "source": [
    "engineer_messages = df.withColumn(\"engineer\", F.lower(F.col(\"engineer\"))).filter(F.col(\"engineer\").isNotNull())\n",
    "\n",
    "engineer_messages = engineer_messages.groupBy(\"engineer\").agg(F.max(\"num_slack_messages\").alias('max_messages'))\n",
    "\n",
    "engineer_messages = engineer_messages.withColumn(\"engineer\", F.initcap(F.col(\"engineer\")))\n",
    "\n",
    "engineer_messages = engineer_messages.orderBy(F.col(\"engineer\"))"
   ]
  },
  {
   "cell_type": "code",
   "execution_count": 33,
   "id": "eddf093a-5477-45fc-8a8e-45ae215541a9",
   "metadata": {},
   "outputs": [
    {
     "name": "stderr",
     "output_type": "stream",
     "text": [
      "24/07/27 12:40:22 WARN TaskSetManager: Stage 38 contains a task of very large size (72984 KiB). The maximum recommended task size is 1000 KiB.\n",
      "[Stage 38:===========================================>              (3 + 1) / 4]\r"
     ]
    },
    {
     "name": "stdout",
     "output_type": "stream",
     "text": [
      "+--------+------------+\n",
      "|engineer|max_messages|\n",
      "+--------+------------+\n",
      "|    Alex|         500|\n",
      "|   Daisy|         500|\n",
      "|    Dale|         500|\n",
      "|    Josh|         500|\n",
      "|  Sandra|         500|\n",
      "+--------+------------+\n",
      "\n"
     ]
    },
    {
     "name": "stderr",
     "output_type": "stream",
     "text": [
      "                                                                                \r"
     ]
    }
   ],
   "source": [
    "engineer_messages.show()"
   ]
  },
  {
   "cell_type": "markdown",
   "id": "e69def73-1e18-4180-a2e7-049d5fe0ba25",
   "metadata": {},
   "source": [
    "## Q4 : Mean hours spent on a ticket in June 2023"
   ]
  },
  {
   "cell_type": "code",
   "execution_count": 80,
   "id": "4eb9ccf8-adc6-4cfb-9d21-231038accbc2",
   "metadata": {},
   "outputs": [],
   "source": [
    "df_with_dates = df.withColumn(\"date_clean\", F.to_date(df.date, \"yyyy-MM-dd\"))"
   ]
  },
  {
   "cell_type": "code",
   "execution_count": 81,
   "id": "087b40b9-2322-41d0-a110-6b6a5884ebbe",
   "metadata": {},
   "outputs": [
    {
     "name": "stderr",
     "output_type": "stream",
     "text": [
      "24/07/28 15:29:02 WARN TaskSetManager: Stage 201 contains a task of very large size (72984 KiB). The maximum recommended task size is 1000 KiB.\n",
      "[Stage 201:======================================>                  (2 + 1) / 3]\r"
     ]
    },
    {
     "name": "stdout",
     "output_type": "stream",
     "text": [
      "+--------------------+---------+----------+--------+--------------+--------------------+------------------+------------------+--------------------+----------+\n",
      "|                KPIs|completed|      date|engineer|jira_ticket_id|      lines_per_repo|         num_hours|num_slack_messages|  ticket_description|date_clean|\n",
      "+--------------------+---------+----------+--------+--------------+--------------------+------------------+------------------+--------------------+----------+\n",
      "|[{New Customer, 4...|      yes|2023-03-18|  Sandra|             0|[{null, null, nul...|22.898463229813657|               237|reclusive initiat...|2023-03-18|\n",
      "|[{Efficiency, 529...|     true|2023-03-31|    Dale|             1|[{null, null, nul...| 62.13453815065962|               276|Taurus both absen...|2023-03-31|\n",
      "+--------------------+---------+----------+--------+--------------+--------------------+------------------+------------------+--------------------+----------+\n",
      "only showing top 2 rows\n",
      "\n"
     ]
    },
    {
     "name": "stderr",
     "output_type": "stream",
     "text": [
      "                                                                                \r"
     ]
    }
   ],
   "source": [
    "df_with_dates.show(2)"
   ]
  },
  {
   "cell_type": "code",
   "execution_count": 82,
   "id": "c12a2513-cdff-43ad-9410-8cb00d7e330d",
   "metadata": {},
   "outputs": [],
   "source": [
    "filtered_df = df_with_dates.where((F.col(\"date_clean\") > '2023-05-31') & (F.col(\"date_clean\") < \"2023-07-01\") & (F.col(\"num_hours\")>=0))\n",
    "\n"
   ]
  },
  {
   "cell_type": "code",
   "execution_count": 83,
   "id": "66fbdbbd-286d-4c88-a668-49fd54434d17",
   "metadata": {},
   "outputs": [
    {
     "name": "stderr",
     "output_type": "stream",
     "text": [
      "24/07/28 15:29:47 WARN TaskSetManager: Stage 202 contains a task of very large size (72984 KiB). The maximum recommended task size is 1000 KiB.\n",
      "                                                                                \r"
     ]
    },
    {
     "data": {
      "text/plain": [
       "7989"
      ]
     },
     "execution_count": 83,
     "metadata": {},
     "output_type": "execute_result"
    }
   ],
   "source": [
    "filtered_df.count()"
   ]
  },
  {
   "cell_type": "code",
   "execution_count": 89,
   "id": "86d9b92f-5ad3-4248-a09a-20e2b1c2581d",
   "metadata": {},
   "outputs": [],
   "source": [
    "a = filtered_df.agg(F.mean(\"num_hours\").alias(\"mean_hours\"))"
   ]
  },
  {
   "cell_type": "code",
   "execution_count": 90,
   "id": "cbde8fe4-a084-4089-a1e4-2df7365520f5",
   "metadata": {},
   "outputs": [
    {
     "name": "stderr",
     "output_type": "stream",
     "text": [
      "24/07/28 15:32:59 WARN TaskSetManager: Stage 208 contains a task of very large size (72984 KiB). The maximum recommended task size is 1000 KiB.\n",
      "                                                                                \r"
     ]
    },
    {
     "data": {
      "text/plain": [
       "[Row(mean_hours=50.224304209517776)]"
      ]
     },
     "execution_count": 90,
     "metadata": {},
     "output_type": "execute_result"
    }
   ],
   "source": [
    "a.collect()"
   ]
  },
  {
   "cell_type": "code",
   "execution_count": 87,
   "id": "588ddbdf-3398-4f85-92b6-3eb7175ab90f",
   "metadata": {},
   "outputs": [
    {
     "data": {
      "text/plain": [
       "49.72019409291667"
      ]
     },
     "execution_count": 87,
     "metadata": {},
     "output_type": "execute_result"
    }
   ],
   "source": [
    "401241.9663298375/8070"
   ]
  },
  {
   "cell_type": "code",
   "execution_count": 91,
   "id": "18f662f3-8212-42c8-bee5-ff89517aa494",
   "metadata": {},
   "outputs": [
    {
     "data": {
      "text/plain": [
       "'0a15804cce114a019e52b696bba68912'"
      ]
     },
     "execution_count": 91,
     "metadata": {},
     "output_type": "execute_result"
    }
   ],
   "source": [
    "hash_util(f\"[Row(mean_hours=50.224304209517776)]\")"
   ]
  },
  {
   "cell_type": "code",
   "execution_count": 53,
   "id": "ba7c7d3b-3459-423c-8da1-286a4a75ade9",
   "metadata": {},
   "outputs": [],
   "source": [
    "filtered_df = df_with_dates.where((F.col(\"date_clean\") > '2023-05-31') & (F.col(\"date_clean\") < \"2023-07-01\"))"
   ]
  },
  {
   "cell_type": "code",
   "execution_count": 54,
   "id": "c1279c31-3edc-4f01-bfa5-3fd433083c1e",
   "metadata": {},
   "outputs": [
    {
     "name": "stderr",
     "output_type": "stream",
     "text": [
      "24/07/26 19:43:04 WARN TaskSetManager: Stage 47 contains a task of very large size (72984 KiB). The maximum recommended task size is 1000 KiB.\n",
      "                                                                                \r"
     ]
    },
    {
     "data": {
      "text/plain": [
       "8070"
      ]
     },
     "execution_count": 54,
     "metadata": {},
     "output_type": "execute_result"
    }
   ],
   "source": [
    "filtered_df.count()"
   ]
  },
  {
   "cell_type": "code",
   "execution_count": 55,
   "id": "b878b09b-dd27-4186-8471-096937f1b1fb",
   "metadata": {},
   "outputs": [
    {
     "name": "stderr",
     "output_type": "stream",
     "text": [
      "24/07/26 19:43:09 WARN TaskSetManager: Stage 51 contains a task of very large size (72984 KiB). The maximum recommended task size is 1000 KiB.\n",
      "[Stage 51:======================================>                   (2 + 1) / 3]\r"
     ]
    },
    {
     "name": "stdout",
     "output_type": "stream",
     "text": [
      "+--------------------+---------+----------+--------+--------------+--------------------+------------------+------------------+--------------------+----------+\n",
      "|                KPIs|completed|      date|engineer|jira_ticket_id|      lines_per_repo|         num_hours|num_slack_messages|  ticket_description|date_clean|\n",
      "+--------------------+---------+----------+--------+--------------+--------------------+------------------+------------------+--------------------+----------+\n",
      "|[{New Customer, 9...|    false|2023-06-22|    Josh|            22|[{null, null, nul...|45.486788049107695|               366|spitfire aorta ji...|2023-06-22|\n",
      "|[{Support, 5590.8...|       no|2023-06-16|    Dale|            28|[{null, null, nul...| 3.239738889499544|               194|spheroid wobble c...|2023-06-16|\n",
      "+--------------------+---------+----------+--------+--------------+--------------------+------------------+------------------+--------------------+----------+\n",
      "only showing top 2 rows\n",
      "\n"
     ]
    },
    {
     "name": "stderr",
     "output_type": "stream",
     "text": [
      "                                                                                \r"
     ]
    }
   ],
   "source": [
    "filtered_df.show(2)"
   ]
  },
  {
   "cell_type": "code",
   "execution_count": 56,
   "id": "746221f9-4236-4de7-bb1a-637ed9dca70d",
   "metadata": {},
   "outputs": [
    {
     "name": "stderr",
     "output_type": "stream",
     "text": [
      "24/07/26 19:43:12 WARN TaskSetManager: Stage 53 contains a task of very large size (72984 KiB). The maximum recommended task size is 1000 KiB.\n",
      "[Stage 53:======================================>                   (2 + 1) / 3]\r"
     ]
    },
    {
     "name": "stdout",
     "output_type": "stream",
     "text": [
      "+------------------+\n",
      "|         num_hours|\n",
      "+------------------+\n",
      "|45.486788049107695|\n",
      "| 3.239738889499544|\n",
      "+------------------+\n",
      "only showing top 2 rows\n",
      "\n"
     ]
    },
    {
     "name": "stderr",
     "output_type": "stream",
     "text": [
      "                                                                                \r"
     ]
    }
   ],
   "source": [
    "num_hours = filtered_df.select(F.col(\"num_hours\"))\n",
    "\n",
    "num_hours.show(2)"
   ]
  },
  {
   "cell_type": "code",
   "execution_count": 57,
   "id": "69cdcea6-bd7a-4700-88d5-1642ca99e320",
   "metadata": {},
   "outputs": [],
   "source": [
    "# sum_hours = F.sum(num_hours['num_hours'])\n",
    "\n",
    "# sum_hours.show()"
   ]
  },
  {
   "cell_type": "code",
   "execution_count": 62,
   "id": "ef386495-d498-43db-89a1-466f86ed107e",
   "metadata": {},
   "outputs": [
    {
     "name": "stderr",
     "output_type": "stream",
     "text": [
      "24/07/26 19:43:34 WARN TaskSetManager: Stage 54 contains a task of very large size (72984 KiB). The maximum recommended task size is 1000 KiB.\n",
      "[Stage 54:===========================================>              (3 + 1) / 4]\r"
     ]
    },
    {
     "name": "stdout",
     "output_type": "stream",
     "text": [
      "+-----------------+\n",
      "|      total_hours|\n",
      "+-----------------+\n",
      "|397287.8618578641|\n",
      "+-----------------+\n",
      "\n"
     ]
    },
    {
     "name": "stderr",
     "output_type": "stream",
     "text": [
      "                                                                                \r"
     ]
    }
   ],
   "source": [
    "a = filtered_df.agg(F.sum(\"num_hours\").alias(\"total_hours\"))\n",
    "a.show()"
   ]
  },
  {
   "cell_type": "code",
   "execution_count": 63,
   "id": "e188f4b9-9be2-485f-91ff-a320a801e076",
   "metadata": {},
   "outputs": [
    {
     "name": "stderr",
     "output_type": "stream",
     "text": [
      "24/07/26 19:43:41 WARN TaskSetManager: Stage 57 contains a task of very large size (72984 KiB). The maximum recommended task size is 1000 KiB.\n",
      "[Stage 57:===========================================>              (3 + 1) / 4]\r"
     ]
    },
    {
     "name": "stdout",
     "output_type": "stream",
     "text": [
      "+-----------------+\n",
      "|      total_hours|\n",
      "+-----------------+\n",
      "|49.23021832191624|\n",
      "+-----------------+\n",
      "\n"
     ]
    },
    {
     "name": "stderr",
     "output_type": "stream",
     "text": [
      "                                                                                \r"
     ]
    }
   ],
   "source": [
    "a = filtered_df.agg(F.mean(\"num_hours\").alias(\"total_hours\"))\n",
    "a.show()"
   ]
  },
  {
   "cell_type": "code",
   "execution_count": null,
   "id": "f73a5eee-9b44-4865-a4fe-778ee6e600ae",
   "metadata": {},
   "outputs": [],
   "source": [
    "397287.8618578641/8070"
   ]
  },
  {
   "cell_type": "code",
   "execution_count": 64,
   "id": "ef3e442b-da1f-4dbf-9992-21a27c3e0689",
   "metadata": {},
   "outputs": [
    {
     "name": "stderr",
     "output_type": "stream",
     "text": [
      "24/07/26 19:46:24 WARN TaskSetManager: Stage 60 contains a task of very large size (72984 KiB). The maximum recommended task size is 1000 KiB.\n",
      "[Stage 60:===========================================>              (3 + 1) / 4]\r"
     ]
    },
    {
     "name": "stdout",
     "output_type": "stream",
     "text": [
      "+-----------------+\n",
      "|      total_hours|\n",
      "+-----------------+\n",
      "|49.23021832191624|\n",
      "+-----------------+\n",
      "\n"
     ]
    },
    {
     "name": "stderr",
     "output_type": "stream",
     "text": [
      "                                                                                \r"
     ]
    }
   ],
   "source": [
    "a = filtered_df.agg(F.avg(\"num_hours\").alias(\"total_hours\"))\n",
    "a.show()"
   ]
  },
  {
   "cell_type": "code",
   "execution_count": 46,
   "id": "61c2dd62-b4bf-41fd-934c-ec0cdad374a3",
   "metadata": {},
   "outputs": [
    {
     "data": {
      "text/plain": [
       "49.23021832191624"
      ]
     },
     "execution_count": 46,
     "metadata": {},
     "output_type": "execute_result"
    }
   ],
   "source": [
    "397287.8618578641/8070"
   ]
  },
  {
   "cell_type": "code",
   "execution_count": 107,
   "id": "3afe1cf3-c21b-41e5-9ebf-f2bbc2b1fc18",
   "metadata": {},
   "outputs": [
    {
     "name": "stderr",
     "output_type": "stream",
     "text": [
      "24/07/25 22:54:29 WARN TaskSetManager: Stage 123 contains a task of very large size (72984 KiB). The maximum recommended task size is 1000 KiB.\n",
      "                                                                                \r"
     ]
    },
    {
     "data": {
      "text/plain": [
       "[Row(total_hours=397287.8618578641)]"
      ]
     },
     "execution_count": 107,
     "metadata": {},
     "output_type": "execute_result"
    }
   ],
   "source": [
    "a = filtered_df.agg(F.sum(\"num_hours\").alias(\"total_hours\"))\n",
    "a.collect()"
   ]
  },
  {
   "cell_type": "code",
   "execution_count": 72,
   "id": "3b2d363b-7179-4ff9-a6cb-0aa4ac9fc35a",
   "metadata": {},
   "outputs": [
    {
     "ename": "TypeError",
     "evalue": "unsupported operand type(s) for +: 'int' and 'str'",
     "output_type": "error",
     "traceback": [
      "\u001b[0;31m---------------------------------------------------------------------------\u001b[0m",
      "\u001b[0;31mTypeError\u001b[0m                                 Traceback (most recent call last)",
      "\u001b[0;32m/var/folders/f7/4pktsxcd2mbdj2rm2c7b_28c0000gp/T/ipykernel_12574/333094305.py\u001b[0m in \u001b[0;36m<module>\u001b[0;34m\u001b[0m\n\u001b[0;32m----> 1\u001b[0;31m \u001b[0mfiltered_df\u001b[0m\u001b[0;34m.\u001b[0m\u001b[0magg\u001b[0m\u001b[0;34m(\u001b[0m\u001b[0msum\u001b[0m\u001b[0;34m(\u001b[0m\u001b[0;34m\"num_hours\"\u001b[0m\u001b[0;34m)\u001b[0m\u001b[0;34m.\u001b[0m\u001b[0mcast\u001b[0m\u001b[0;34m(\u001b[0m\u001b[0;34m'double'\u001b[0m\u001b[0;34m)\u001b[0m\u001b[0;34m)\u001b[0m\u001b[0;34m\u001b[0m\u001b[0;34m\u001b[0m\u001b[0m\n\u001b[0m\u001b[1;32m      2\u001b[0m \u001b[0;34m\u001b[0m\u001b[0m\n\u001b[1;32m      3\u001b[0m \u001b[0;34m\u001b[0m\u001b[0m\n\u001b[1;32m      4\u001b[0m \u001b[0;31m# sum(\"steps\").cast(\"long\")\u001b[0m\u001b[0;34m\u001b[0m\u001b[0;34m\u001b[0m\u001b[0;34m\u001b[0m\u001b[0m\n",
      "\u001b[0;31mTypeError\u001b[0m: unsupported operand type(s) for +: 'int' and 'str'"
     ]
    }
   ],
   "source": [
    "filtered_df.agg(sum(\"num_hours\").cast('double'))\n",
    "\n",
    "\n",
    "# sum(\"steps\").cast(\"long\")"
   ]
  },
  {
   "cell_type": "code",
   "execution_count": 26,
   "id": "c211b512-da34-4b1c-a787-2cd995ea93a8",
   "metadata": {},
   "outputs": [
    {
     "name": "stderr",
     "output_type": "stream",
     "text": [
      "24/07/28 13:27:35 WARN TaskSetManager: Stage 26 contains a task of very large size (72984 KiB). The maximum recommended task size is 1000 KiB.\n",
      "[Stage 26:===========================================>              (3 + 1) / 4]\r"
     ]
    },
    {
     "name": "stdout",
     "output_type": "stream",
     "text": [
      "+---------+\n",
      "|completed|\n",
      "+---------+\n",
      "|     null|\n",
      "|    false|\n",
      "|       no|\n",
      "|      yes|\n",
      "|     true|\n",
      "+---------+\n",
      "\n"
     ]
    },
    {
     "name": "stderr",
     "output_type": "stream",
     "text": [
      "                                                                                \r"
     ]
    }
   ],
   "source": [
    "df.select('completed').distinct().show()"
   ]
  },
  {
   "cell_type": "code",
   "execution_count": 76,
   "id": "0942ad50-c085-440b-8bae-0c682821ef42",
   "metadata": {},
   "outputs": [
    {
     "name": "stderr",
     "output_type": "stream",
     "text": [
      "24/07/27 15:19:27 WARN TaskSetManager: Stage 168 contains a task of very large size (72984 KiB). The maximum recommended task size is 1000 KiB.\n",
      "                                                                                \r"
     ]
    },
    {
     "data": {
      "text/plain": [
       "[Row(total=163514)]"
      ]
     },
     "execution_count": 76,
     "metadata": {},
     "output_type": "execute_result"
    }
   ],
   "source": [
    "repo_a = 0\n",
    "\n",
    "for row in df.rdd.toLocalIterator():\n",
    "    if row['completed'] in [\"true\"]:\n",
    "        for repo in row['lines_per_repo']:\n",
    "            if repo[\"A\"]:\n",
    "                repo_a += repo[\"A\"]\n",
    "\n",
    "# print(max_length)\n",
    "spark = SparkSession.builder.getOrCreate()\n",
    "\n",
    "res = spark.createDataFrame([{'total': repo_a}])\n",
    "res.collect()"
   ]
  },
  {
   "cell_type": "code",
   "execution_count": 17,
   "id": "880bb9ab-d69c-4c6c-ad30-9a1ea717e344",
   "metadata": {},
   "outputs": [
    {
     "data": {
      "text/plain": [
       "576507"
      ]
     },
     "execution_count": 17,
     "metadata": {},
     "output_type": "execute_result"
    },
    {
     "name": "stderr",
     "output_type": "stream",
     "text": [
      "[Stage 24:>                                                         (0 + 1) / 1]\r"
     ]
    }
   ],
   "source": [
    "327542 +248965"
   ]
  },
  {
   "cell_type": "code",
   "execution_count": 7,
   "id": "b05a84ac-c9e1-4ce1-b36d-81a19caa11ce",
   "metadata": {},
   "outputs": [
    {
     "name": "stdout",
     "output_type": "stream",
     "text": [
      "root\n",
      " |-- KPIs: array (nullable = true)\n",
      " |    |-- element: struct (containsNull = true)\n",
      " |    |    |-- initiative: string (nullable = true)\n",
      " |    |    |-- new_revenue: double (nullable = true)\n",
      " |-- completed: string (nullable = true)\n",
      " |-- date: string (nullable = true)\n",
      " |-- engineer: string (nullable = true)\n",
      " |-- jira_ticket_id: long (nullable = true)\n",
      " |-- lines_per_repo: array (nullable = true)\n",
      " |    |-- element: struct (containsNull = true)\n",
      " |    |    |-- A: long (nullable = true)\n",
      " |    |    |-- B: long (nullable = true)\n",
      " |    |    |-- C: long (nullable = true)\n",
      " |    |    |-- D: long (nullable = true)\n",
      " |    |    |-- E: long (nullable = true)\n",
      " |    |    |-- F: long (nullable = true)\n",
      " |    |    |-- G: long (nullable = true)\n",
      " |    |    |-- H: long (nullable = true)\n",
      " |    |    |-- I: long (nullable = true)\n",
      " |    |    |-- J: long (nullable = true)\n",
      " |    |    |-- K: long (nullable = true)\n",
      " |    |    |-- L: long (nullable = true)\n",
      " |    |    |-- M: long (nullable = true)\n",
      " |    |    |-- N: long (nullable = true)\n",
      " |    |    |-- O: long (nullable = true)\n",
      " |    |    |-- P: long (nullable = true)\n",
      " |    |    |-- Q: long (nullable = true)\n",
      " |    |    |-- R: long (nullable = true)\n",
      " |    |    |-- S: long (nullable = true)\n",
      " |    |    |-- T: long (nullable = true)\n",
      " |    |    |-- U: long (nullable = true)\n",
      " |    |    |-- V: long (nullable = true)\n",
      " |    |    |-- W: long (nullable = true)\n",
      " |    |    |-- X: long (nullable = true)\n",
      " |    |    |-- Y: long (nullable = true)\n",
      " |    |    |-- Z: long (nullable = true)\n",
      " |-- num_hours: double (nullable = true)\n",
      " |-- num_slack_messages: long (nullable = true)\n",
      " |-- ticket_description: string (nullable = true)\n",
      "\n"
     ]
    }
   ],
   "source": [
    "df.printSchema()"
   ]
  },
  {
   "cell_type": "code",
   "execution_count": 43,
   "id": "2c8b3b43-ad26-4abc-8cd5-58af0c1fc610",
   "metadata": {},
   "outputs": [
    {
     "name": "stderr",
     "output_type": "stream",
     "text": [
      "24/07/27 14:42:27 WARN TaskSetManager: Stage 48 contains a task of very large size (72984 KiB). The maximum recommended task size is 1000 KiB.\n",
      "[Stage 48:>                                                         (0 + 1) / 1]\r"
     ]
    }
   ],
   "source": [
    "engineer_revenue = {}\n",
    "\n",
    "for row in df.rdd.toLocalIterator():\n",
    "    if row['engineer']:\n",
    "        engineer = row['engineer'].lower()\n",
    "    else:\n",
    "        continue\n",
    "    \n",
    "    \n",
    "    \n",
    "    for initiative in row['KPIs']:\n",
    "        if engineer not in engineer_revenue:\n",
    "            engineer_revenue[engineer] = {initiative[\"initiative\"]:initiative[\"new_revenue\"]}\n",
    "        else:\n",
    "            engineer_revenue[engineer][initiative[\"initiative\"]] = engineer_revenue[engineer].get(initiative[\"initiative\"], 0) + initiative[\"new_revenue\"] \n",
    "\n",
    "# spark = SparkSession.builder.getOrCreate()\n",
    "\n",
    "# res = spark.createDataFrame([sorted(engineer_messages.items())])"
   ]
  },
  {
   "cell_type": "code",
   "execution_count": 44,
   "id": "2db68e56-0612-4f14-8ac5-e4311549f765",
   "metadata": {},
   "outputs": [
    {
     "data": {
      "text/plain": [
       "['alex', 'daisy', 'dale', 'josh', 'sandra']"
      ]
     },
     "execution_count": 44,
     "metadata": {},
     "output_type": "execute_result"
    }
   ],
   "source": [
    "sorted(engineer_revenue)"
   ]
  },
  {
   "cell_type": "code",
   "execution_count": 45,
   "id": "2666f6ed-65ad-407a-8c8d-1750921aa39d",
   "metadata": {},
   "outputs": [],
   "source": [
    "result_list = []\n",
    "for engineer, kpis in sorted(engineer_revenue.items()):\n",
    "    result_list.append({\"engineer\":engineer.title(), \"KPIs\":[{\"initiative\":initiative, \"total_revenue\":revenue} for initiative, revenue in sorted(kpis.items())]})"
   ]
  },
  {
   "cell_type": "code",
   "execution_count": 46,
   "id": "9a4819e5-541e-49d0-9d32-6815237945a6",
   "metadata": {},
   "outputs": [
    {
     "data": {
      "text/plain": [
       "[{'engineer': 'Alex',\n",
       "  'KPIs': [{'initiative': 'Efficiency', 'total_revenue': 42471450.113421},\n",
       "   {'initiative': 'New Customer', 'total_revenue': 42395392.14021012},\n",
       "   {'initiative': 'Support', 'total_revenue': 40861860.65269816}]},\n",
       " {'engineer': 'Daisy',\n",
       "  'KPIs': [{'initiative': 'Efficiency', 'total_revenue': 41657467.52959909},\n",
       "   {'initiative': 'New Customer', 'total_revenue': 42091111.32835262},\n",
       "   {'initiative': 'Support', 'total_revenue': 41614545.78419974}]},\n",
       " {'engineer': 'Dale',\n",
       "  'KPIs': [{'initiative': 'Efficiency', 'total_revenue': 41948273.19711389},\n",
       "   {'initiative': 'New Customer', 'total_revenue': 41565950.9542528},\n",
       "   {'initiative': 'Support', 'total_revenue': 41653299.24840867}]},\n",
       " {'engineer': 'Josh',\n",
       "  'KPIs': [{'initiative': 'Efficiency', 'total_revenue': 41320782.330890015},\n",
       "   {'initiative': 'New Customer', 'total_revenue': 42138923.04361266},\n",
       "   {'initiative': 'Support', 'total_revenue': 42248591.12688083}]},\n",
       " {'engineer': 'Sandra',\n",
       "  'KPIs': [{'initiative': 'Efficiency', 'total_revenue': 41194296.447811455},\n",
       "   {'initiative': 'New Customer', 'total_revenue': 42354110.563527785},\n",
       "   {'initiative': 'Support', 'total_revenue': 41857498.62935928}]}]"
      ]
     },
     "execution_count": 46,
     "metadata": {},
     "output_type": "execute_result"
    }
   ],
   "source": [
    "result_list"
   ]
  },
  {
   "cell_type": "code",
   "execution_count": 39,
   "id": "e1b29fde-143c-4d72-9cfd-d0aeb144e7a9",
   "metadata": {},
   "outputs": [
    {
     "name": "stderr",
     "output_type": "stream",
     "text": [
      "24/07/26 19:06:06 WARN TaskSetManager: Stage 21 contains a task of very large size (72984 KiB). The maximum recommended task size is 1000 KiB.\n",
      "                                                                                \r"
     ]
    },
    {
     "name": "stdout",
     "output_type": "stream",
     "text": [
      "+--------+------------+\n",
      "|engineer|max_messages|\n",
      "+--------+------------+\n",
      "|  sandra|         500|\n",
      "|    josh|         500|\n",
      "|    dale|         500|\n",
      "|   daisy|         500|\n",
      "|    alex|         500|\n",
      "|  Sandra|         500|\n",
      "|    Josh|         500|\n",
      "|    Dale|         500|\n",
      "|   Daisy|         500|\n",
      "|    Alex|         500|\n",
      "|    null|         500|\n",
      "+--------+------------+\n",
      "\n"
     ]
    },
    {
     "name": "stderr",
     "output_type": "stream",
     "text": [
      "24/07/26 19:06:10 WARN TaskSetManager: Stage 24 contains a task of very large size (72984 KiB). The maximum recommended task size is 1000 KiB.\n",
      "                                                                                \r"
     ]
    },
    {
     "ename": "ValueError",
     "evalue": "max_slack_messages",
     "output_type": "error",
     "traceback": [
      "\u001b[0;31m---------------------------------------------------------------------------\u001b[0m",
      "\u001b[0;31mValueError\u001b[0m                                Traceback (most recent call last)",
      "\u001b[0;32m/usr/local/lib/python3.9/site-packages/pyspark/sql/types.py\u001b[0m in \u001b[0;36m__getitem__\u001b[0;34m(self, item)\u001b[0m\n\u001b[1;32m   2164\u001b[0m             \u001b[0;31m# but this will not be used in normal cases\u001b[0m\u001b[0;34m\u001b[0m\u001b[0;34m\u001b[0m\u001b[0;34m\u001b[0m\u001b[0m\n\u001b[0;32m-> 2165\u001b[0;31m             \u001b[0midx\u001b[0m \u001b[0;34m=\u001b[0m \u001b[0mself\u001b[0m\u001b[0;34m.\u001b[0m\u001b[0m__fields__\u001b[0m\u001b[0;34m.\u001b[0m\u001b[0mindex\u001b[0m\u001b[0;34m(\u001b[0m\u001b[0mitem\u001b[0m\u001b[0;34m)\u001b[0m\u001b[0;34m\u001b[0m\u001b[0;34m\u001b[0m\u001b[0m\n\u001b[0m\u001b[1;32m   2166\u001b[0m             \u001b[0;32mreturn\u001b[0m \u001b[0msuper\u001b[0m\u001b[0;34m(\u001b[0m\u001b[0mRow\u001b[0m\u001b[0;34m,\u001b[0m \u001b[0mself\u001b[0m\u001b[0;34m)\u001b[0m\u001b[0;34m.\u001b[0m\u001b[0m__getitem__\u001b[0m\u001b[0;34m(\u001b[0m\u001b[0midx\u001b[0m\u001b[0;34m)\u001b[0m\u001b[0;34m\u001b[0m\u001b[0;34m\u001b[0m\u001b[0m\n",
      "\u001b[0;31mValueError\u001b[0m: 'max_slack_messages' is not in list",
      "\nDuring handling of the above exception, another exception occurred:\n",
      "\u001b[0;31mValueError\u001b[0m                                Traceback (most recent call last)",
      "\u001b[0;32m/var/folders/f7/4pktsxcd2mbdj2rm2c7b_28c0000gp/T/ipykernel_17004/1155849063.py\u001b[0m in \u001b[0;36m<module>\u001b[0;34m\u001b[0m\n\u001b[1;32m      7\u001b[0m \u001b[0;34m\u001b[0m\u001b[0m\n\u001b[1;32m      8\u001b[0m \u001b[0;31m# If you need to collect the result as a dictionary\u001b[0m\u001b[0;34m\u001b[0m\u001b[0;34m\u001b[0m\u001b[0;34m\u001b[0m\u001b[0m\n\u001b[0;32m----> 9\u001b[0;31m \u001b[0mresult\u001b[0m \u001b[0;34m=\u001b[0m \u001b[0;34m{\u001b[0m\u001b[0mrow\u001b[0m\u001b[0;34m[\u001b[0m\u001b[0;34m'engineer'\u001b[0m\u001b[0;34m]\u001b[0m\u001b[0;34m:\u001b[0m \u001b[0mrow\u001b[0m\u001b[0;34m[\u001b[0m\u001b[0;34m'max_slack_messages'\u001b[0m\u001b[0;34m]\u001b[0m \u001b[0;32mfor\u001b[0m \u001b[0mrow\u001b[0m \u001b[0;32min\u001b[0m \u001b[0mmax_slack_messages_df\u001b[0m\u001b[0;34m.\u001b[0m\u001b[0mcollect\u001b[0m\u001b[0;34m(\u001b[0m\u001b[0;34m)\u001b[0m\u001b[0;34m}\u001b[0m\u001b[0;34m\u001b[0m\u001b[0;34m\u001b[0m\u001b[0m\n\u001b[0m\u001b[1;32m     10\u001b[0m \u001b[0;34m\u001b[0m\u001b[0m\n\u001b[1;32m     11\u001b[0m \u001b[0mprint\u001b[0m\u001b[0;34m(\u001b[0m\u001b[0mresult\u001b[0m\u001b[0;34m)\u001b[0m\u001b[0;34m\u001b[0m\u001b[0;34m\u001b[0m\u001b[0m\n",
      "\u001b[0;32m/var/folders/f7/4pktsxcd2mbdj2rm2c7b_28c0000gp/T/ipykernel_17004/1155849063.py\u001b[0m in \u001b[0;36m<dictcomp>\u001b[0;34m(.0)\u001b[0m\n\u001b[1;32m      7\u001b[0m \u001b[0;34m\u001b[0m\u001b[0m\n\u001b[1;32m      8\u001b[0m \u001b[0;31m# If you need to collect the result as a dictionary\u001b[0m\u001b[0;34m\u001b[0m\u001b[0;34m\u001b[0m\u001b[0;34m\u001b[0m\u001b[0m\n\u001b[0;32m----> 9\u001b[0;31m \u001b[0mresult\u001b[0m \u001b[0;34m=\u001b[0m \u001b[0;34m{\u001b[0m\u001b[0mrow\u001b[0m\u001b[0;34m[\u001b[0m\u001b[0;34m'engineer'\u001b[0m\u001b[0;34m]\u001b[0m\u001b[0;34m:\u001b[0m \u001b[0mrow\u001b[0m\u001b[0;34m[\u001b[0m\u001b[0;34m'max_slack_messages'\u001b[0m\u001b[0;34m]\u001b[0m \u001b[0;32mfor\u001b[0m \u001b[0mrow\u001b[0m \u001b[0;32min\u001b[0m \u001b[0mmax_slack_messages_df\u001b[0m\u001b[0;34m.\u001b[0m\u001b[0mcollect\u001b[0m\u001b[0;34m(\u001b[0m\u001b[0;34m)\u001b[0m\u001b[0;34m}\u001b[0m\u001b[0;34m\u001b[0m\u001b[0;34m\u001b[0m\u001b[0m\n\u001b[0m\u001b[1;32m     10\u001b[0m \u001b[0;34m\u001b[0m\u001b[0m\n\u001b[1;32m     11\u001b[0m \u001b[0mprint\u001b[0m\u001b[0;34m(\u001b[0m\u001b[0mresult\u001b[0m\u001b[0;34m)\u001b[0m\u001b[0;34m\u001b[0m\u001b[0;34m\u001b[0m\u001b[0m\n",
      "\u001b[0;32m/usr/local/lib/python3.9/site-packages/pyspark/sql/types.py\u001b[0m in \u001b[0;36m__getitem__\u001b[0;34m(self, item)\u001b[0m\n\u001b[1;32m   2168\u001b[0m             \u001b[0;32mraise\u001b[0m \u001b[0mKeyError\u001b[0m\u001b[0;34m(\u001b[0m\u001b[0mitem\u001b[0m\u001b[0;34m)\u001b[0m\u001b[0;34m\u001b[0m\u001b[0;34m\u001b[0m\u001b[0m\n\u001b[1;32m   2169\u001b[0m         \u001b[0;32mexcept\u001b[0m \u001b[0mValueError\u001b[0m\u001b[0;34m:\u001b[0m\u001b[0;34m\u001b[0m\u001b[0;34m\u001b[0m\u001b[0m\n\u001b[0;32m-> 2170\u001b[0;31m             \u001b[0;32mraise\u001b[0m \u001b[0mValueError\u001b[0m\u001b[0;34m(\u001b[0m\u001b[0mitem\u001b[0m\u001b[0;34m)\u001b[0m\u001b[0;34m\u001b[0m\u001b[0;34m\u001b[0m\u001b[0m\n\u001b[0m\u001b[1;32m   2171\u001b[0m \u001b[0;34m\u001b[0m\u001b[0m\n\u001b[1;32m   2172\u001b[0m     \u001b[0;32mdef\u001b[0m \u001b[0m__getattr__\u001b[0m\u001b[0;34m(\u001b[0m\u001b[0mself\u001b[0m\u001b[0;34m,\u001b[0m \u001b[0mitem\u001b[0m\u001b[0;34m:\u001b[0m \u001b[0mstr\u001b[0m\u001b[0;34m)\u001b[0m \u001b[0;34m->\u001b[0m \u001b[0mAny\u001b[0m\u001b[0;34m:\u001b[0m\u001b[0;34m\u001b[0m\u001b[0;34m\u001b[0m\u001b[0m\n",
      "\u001b[0;31mValueError\u001b[0m: max_slack_messages"
     ]
    }
   ],
   "source": [
    "#4. gpt\n",
    "max_slack_messages_df = df.groupBy(\"engineer\") \\\n",
    "    .agg(F.max(\"num_slack_messages\").alias(\"max_messages\")).orderBy(F.col(\"engineer\").desc())\n",
    "\n",
    "# Show the result\n",
    "max_slack_messages_df.show()\n",
    "\n",
    "# If you need to collect the result as a dictionary\n",
    "result = {row['engineer']: row['max_slack_messages'] for row in max_slack_messages_df.collect()}\n",
    "\n",
    "print(result)"
   ]
  },
  {
   "cell_type": "code",
   "execution_count": 42,
   "id": "a2af0bbc-4ffb-4777-88ab-ee37857ca755",
   "metadata": {},
   "outputs": [
    {
     "name": "stderr",
     "output_type": "stream",
     "text": [
      "24/07/26 19:10:14 WARN TaskSetManager: Stage 32 contains a task of very large size (72984 KiB). The maximum recommended task size is 1000 KiB.\n",
      "                                                                                \r"
     ]
    }
   ],
   "source": [
    "# Filter tickets for June 2023\n",
    "june_tickets_df = df.filter((F.month(F.col(\"date\")) == 6) & (F.year(F.col(\"date\")) == 2023))\n",
    "\n",
    "# Calculate mean hours spent on a ticket in June 2023\n",
    "mean_hours_june_2023 = june_tickets_df.agg(F.avg(\"num_hours\").alias(\"mean_hours\")).first()"
   ]
  },
  {
   "cell_type": "code",
   "execution_count": 43,
   "id": "6ff4c123-441d-4717-b9a8-31b88884612b",
   "metadata": {},
   "outputs": [
    {
     "data": {
      "text/plain": [
       "Row(mean_hours=49.23021832191624)"
      ]
     },
     "execution_count": 43,
     "metadata": {},
     "output_type": "execute_result"
    }
   ],
   "source": [
    "mean_hours_june_2023"
   ]
  },
  {
   "cell_type": "code",
   "execution_count": 96,
   "id": "e1b7d6a8-b350-48b8-9ce2-9df69310bb11",
   "metadata": {},
   "outputs": [
    {
     "data": {
      "text/plain": [
       "DataFrame[engineer: string, KPIs: array<struct<initiative:string,total_revenue:double>>]"
      ]
     },
     "execution_count": 96,
     "metadata": {},
     "output_type": "execute_result"
    }
   ],
   "source": [
    "from pyspark.sql import functions\n",
    "\n",
    "\n",
    "\n",
    "engineer_column_name: str = \"engineer\"\n",
    "kpi_column_name: str = \"KPIs\"\n",
    "kpi_initiative_column_name: str = \"initiative\"\n",
    "kpi_revenue_column_name: str = \"new_revenue\"\n",
    "total_revenue_column_name: str = \"total_revenue\"\n",
    "output_column_name: str = \"KPIs\"\n",
    "kpis_initiaitive_ascending: bool = True\n",
    "engineers_ascending: bool = True\n",
    "filter_null_engineers: bool = True\n",
    "\n",
    "new_df = df.withColumn(\"engineer\", F.initcap(F.col(\"engineer\"))).filter(F.col(\"engineer\").isNotNull())\n",
    "\n",
    "working_data = new_df.select(\n",
    "            engineer_column_name,\n",
    "            functions.inline(\n",
    "                df[kpi_column_name].alias(\n",
    "                    kpi_initiative_column_name, kpi_revenue_column_name\n",
    "                )\n",
    "            ),\n",
    "        )\n",
    "\n",
    "\n",
    "grouped_data = working_data.groupBy(engineer_column_name, kpi_initiative_column_name)\n",
    "\n",
    "revenue_data = grouped_data.agg(\n",
    "    functions.sum(kpi_revenue_column_name).alias(total_revenue_column_name)\n",
    ")\n",
    "\n",
    "sorted_revenue_data = revenue_data.sort(\n",
    "    kpi_initiative_column_name, ascending=kpis_initiaitive_ascending\n",
    ")\n",
    "\n",
    "structed_data = sorted_revenue_data.select(\n",
    "    engineer_column_name,\n",
    "    functions.struct(kpi_initiative_column_name, total_revenue_column_name).alias(\n",
    "        output_column_name\n",
    "    ),\n",
    ")\n",
    "\n",
    "grouped_data = structed_data.groupBy(engineer_column_name)\n",
    "output_data = grouped_data.agg(\n",
    "    functions.collect_list(output_column_name).alias(output_column_name)\n",
    ")\n",
    "\n",
    "if filter_null_engineers:\n",
    "    filtered_data = output_data.filter(output_data[engineer_column_name].isNotNull())\n",
    "else:\n",
    "    filtered_data = output_data\n",
    "    \n",
    "filtered_data = filtered_data.withColumn(\"engineer\", F.initcap(F.col(\"engineer\")))\n",
    "\n",
    "# Show the resulting DataFrame\n",
    "\n",
    "# Order by engineer name\n",
    "filtered_data = filtered_data.orderBy(F.col(\"engineer\"))\n",
    "    \n",
    "    \n",
    "filtered_data"
   ]
  },
  {
   "cell_type": "code",
   "execution_count": 97,
   "id": "55046ed3-722f-4d4f-a939-423ae901acc1",
   "metadata": {},
   "outputs": [
    {
     "name": "stderr",
     "output_type": "stream",
     "text": [
      "24/07/28 15:47:28 WARN TaskSetManager: Stage 242 contains a task of very large size (72984 KiB). The maximum recommended task size is 1000 KiB.\n",
      "                                                                                \r"
     ]
    },
    {
     "data": {
      "text/plain": [
       "[Row(engineer='Alex', KPIs=[Row(initiative='Efficiency', total_revenue=42471450.113421), Row(initiative='New Customer', total_revenue=42395392.14021012), Row(initiative='Support', total_revenue=40861860.65269816)]),\n",
       " Row(engineer='Daisy', KPIs=[Row(initiative='Efficiency', total_revenue=41657467.52959909), Row(initiative='New Customer', total_revenue=42091111.32835262), Row(initiative='Support', total_revenue=41614545.78419974)]),\n",
       " Row(engineer='Dale', KPIs=[Row(initiative='Efficiency', total_revenue=41948273.19711389), Row(initiative='New Customer', total_revenue=41565950.9542528), Row(initiative='Support', total_revenue=41653299.24840867)]),\n",
       " Row(engineer='Josh', KPIs=[Row(initiative='Efficiency', total_revenue=41320782.330890015), Row(initiative='New Customer', total_revenue=42138923.04361266), Row(initiative='Support', total_revenue=42248591.12688083)]),\n",
       " Row(engineer='Sandra', KPIs=[Row(initiative='Efficiency', total_revenue=41194296.447811455), Row(initiative='New Customer', total_revenue=42354110.563527785), Row(initiative='Support', total_revenue=41857498.62935928)])]"
      ]
     },
     "execution_count": 97,
     "metadata": {},
     "output_type": "execute_result"
    }
   ],
   "source": [
    "filtered_data.collect()\n"
   ]
  },
  {
   "cell_type": "code",
   "execution_count": 98,
   "id": "8ac11424-8c2b-4ef8-aaca-d7fcf60ab88c",
   "metadata": {},
   "outputs": [
    {
     "data": {
      "text/plain": [
       "'7449eea8ff4ebefdd9dc4d80d3812497'"
      ]
     },
     "execution_count": 98,
     "metadata": {},
     "output_type": "execute_result"
    }
   ],
   "source": [
    "hash_util(filtered_data.collect())"
   ]
  },
  {
   "cell_type": "code",
   "execution_count": 22,
   "id": "025e2b6f-ac44-447a-aebf-1834baa06b27",
   "metadata": {},
   "outputs": [],
   "source": [
    "import hashlib\n",
    "\n",
    "def hash_util(obj) -> str:\n",
    "    \"\"\"Function to return the hash of the object\n",
    "\n",
    "    Args:\n",
    "        obj (_type_): Object can be of type string, int, float, Pyspark Row, list of Pyspark Rows,\n",
    "        any objetct that can be projected in string format\n",
    "\n",
    "    Returns:\n",
    "        str: Hash of the object\n",
    "    \"\"\"\n",
    "    return hashlib.md5(str(obj).encode(\"utf-8\")).hexdigest()\n",
    "\n",
    "\n"
   ]
  },
  {
   "cell_type": "code",
   "execution_count": 77,
   "id": "ca3f1e2f-50f4-474a-8a78-1c0e36e69b83",
   "metadata": {},
   "outputs": [
    {
     "data": {
      "text/plain": [
       "'6adec64b2a723c9a52024c53068f264d'"
      ]
     },
     "execution_count": 77,
     "metadata": {},
     "output_type": "execute_result"
    }
   ],
   "source": [
    "hash_util(\"[Row(total=168195)]\")\n"
   ]
  },
  {
   "cell_type": "code",
   "execution_count": 112,
   "id": "95cea747-bf5a-4550-bce7-c00885372524",
   "metadata": {},
   "outputs": [
    {
     "name": "stderr",
     "output_type": "stream",
     "text": [
      "24/07/28 15:58:45 WARN TaskSetManager: Stage 328 contains a task of very large size (72984 KiB). The maximum recommended task size is 1000 KiB.\n",
      "[Stage 328:>                                                        (0 + 1) / 1]\r"
     ]
    },
    {
     "name": "stdout",
     "output_type": "stream",
     "text": [
      "a list [73, 89]\n",
      "a list [98, 98]\n",
      "a list [100, 5]\n",
      "a list [39, 16]\n",
      "a list [79, 47]\n",
      "a list [54, 48]\n",
      "a list [40, 96]\n",
      "a list [25, 7]\n",
      "a list [97, 13]\n",
      "a list [96, 99]\n",
      "a list [48, 57]\n",
      "a list [96, 17]\n",
      "a list [26, 96]\n",
      "a list [18, 96]\n",
      "a list [81, 87]\n",
      "a list [10, 70]\n",
      "a list [4, 35]\n",
      "a list [79, 44, 11]\n",
      "a list [56, 64]\n",
      "a list [4, 76]\n",
      "a list [29, 4]\n",
      "a list [35, 51]\n",
      "a list [72, 32, 71]\n",
      "a list [16, 93]\n",
      "a list [65, 14]\n",
      "a list [66, 67]\n",
      "a list [18, 25]\n",
      "a list [60, 17]\n",
      "a list [45, 47]\n",
      "a list [25, 51]\n",
      "a list [97, 41, 54]\n",
      "a list [95, 41]\n",
      "a list [20, 98]\n",
      "a list [47, 36]\n",
      "a list [20, 42]\n",
      "a list [37, 15]\n",
      "a list [21, 31]\n",
      "a list [66, 29]\n",
      "a list [18, 77]\n",
      "a list [27, 64]\n",
      "a list [72, 75]\n",
      "a list [94, 5]\n",
      "a list [81, 57]\n",
      "a list [50, 91]\n",
      "a list [38, 17]\n",
      "a list [14, 55]\n",
      "a list [72, 35]\n",
      "a list [72, 80]\n",
      "a list [69, 27]\n",
      "a list [49, 11]\n",
      "a list [68, 8]\n",
      "a list [63, 43]\n",
      "a list [13, 1]\n",
      "a list [63, 13]\n",
      "a list [98, 30]\n",
      "a list [29, 48]\n",
      "a list [4, 81]\n",
      "a list [40, 30]\n",
      "a list [88, 42]\n",
      "a list [59, 3]\n",
      "a list [7, 29]\n",
      "a list [89, 10]\n",
      "a list [93, 80]\n",
      "a list [24, 78]\n",
      "a list [32, 52]\n",
      "a list [96, 63]\n",
      "a list [56, 3]\n",
      "a list [89, 44]\n",
      "a list [73, 79]\n",
      "a list [94, 78]\n",
      "a list [84, 26]\n",
      "a list [46, 96]\n",
      "a list [56, 99]\n",
      "a list [78, 70]\n",
      "a list [47, 19]\n",
      "a list [78, 58]\n",
      "a list [59, 59]\n",
      "a list [36, 92]\n",
      "a list [41, 85]\n",
      "a list [10, 49]\n",
      "a list [18, 66]\n",
      "a list [61, 33]\n",
      "a list [11, 95]\n",
      "a list [75, 87]\n",
      "a list [64, 87]\n",
      "a list [13, 28]\n",
      "a list [88, 49]\n",
      "a list [10, 1]\n",
      "a list [39, 80]\n",
      "a list [92, 99]\n",
      "a list [26, 13]\n",
      "a list [54, 74]\n",
      "a list [55, 27]\n",
      "a list [16, 51, 64]\n",
      "a list [96, 70]\n",
      "a list [53, 6]\n",
      "a list [78, 1]\n",
      "a list [19, 79]\n",
      "a list [57, 100]\n",
      "a list [90, 78]\n",
      "a list [89, 37]\n",
      "a list [23, 55]\n",
      "a list [30, 90]\n",
      "a list [15, 87]\n",
      "a list [58, 76]\n",
      "a list [14, 52]\n",
      "a list [72, 94]\n",
      "a list [65, 57]\n",
      "a list [84, 17]\n",
      "a list [81, 12]\n",
      "a list [43, 79]\n",
      "a list [28, 50]\n",
      "a list [26, 91]\n",
      "a list [58, 42]\n",
      "a list [53, 27]\n",
      "a list [24, 55]\n",
      "a list [87, 51]\n",
      "a list [51, 23]\n",
      "a list [79, 25]\n",
      "a list [26, 44]\n",
      "a list [30, 51]\n",
      "a list [9, 5]\n",
      "a list [34, 48]\n",
      "a list [44, 33]\n",
      "a list [10, 18]\n",
      "a list [34, 34]\n",
      "a list [22, 63, 82]\n",
      "a list [100, 96]\n",
      "a list [31, 68]\n",
      "a list [88, 15]\n",
      "a list [49, 64]\n",
      "a list [36, 19]\n",
      "a list [76, 16]\n",
      "a list [51, 87]\n",
      "a list [45, 34]\n",
      "a list [63, 69, 80]\n",
      "a list [48, 11]\n",
      "a list [44, 8]\n",
      "a list [74, 31]\n",
      "a list [2, 63]\n",
      "a list [6, 63]\n",
      "a list [62, 14]\n",
      "a list [12, 15]\n",
      "a list [40, 36]\n",
      "a list [38, 9]\n",
      "a list [26, 39]\n",
      "a list [87, 87]\n",
      "a list [5, 26]\n",
      "a list [100, 60]\n",
      "a list [80, 80]\n",
      "a list [69, 48, 77]\n",
      "a list [57, 16]\n",
      "a list [76, 72]\n",
      "a list [99, 11]\n",
      "a list [44, 43]\n",
      "a list [71, 14]\n",
      "a list [52, 83]\n",
      "a list [100, 56]\n",
      "a list [44, 77]\n",
      "a list [67, 92]\n",
      "a list [9, 44]\n",
      "a list [12, 33]\n",
      "a list [73, 91]\n",
      "a list [25, 79]\n",
      "a list [18, 33]\n",
      "a list [60, 46]\n",
      "a list [7, 32]\n",
      "a list [9, 73]\n",
      "a list [76, 66]\n",
      "a list [19, 41]\n",
      "a list [36, 75]\n",
      "a list [69, 42]\n",
      "a list [65, 62]\n",
      "a list [34, 16]\n",
      "a list [36, 85]\n",
      "a list [25, 96]\n",
      "a list [55, 51]\n",
      "a list [37, 60]\n",
      "a list [16, 56]\n",
      "a list [78, 89]\n",
      "a list [52, 48]\n",
      "a list [54, 82]\n"
     ]
    },
    {
     "name": "stderr",
     "output_type": "stream",
     "text": [
      "                                                                                \r"
     ]
    },
    {
     "data": {
      "text/plain": [
       "[Row(total=196584)]"
      ]
     },
     "execution_count": 112,
     "metadata": {},
     "output_type": "execute_result"
    }
   ],
   "source": [
    "import math\n",
    "\n",
    "repo_a = 0\n",
    "\n",
    "for row in df.rdd.toLocalIterator():\n",
    "    if row['completed'] in [\"true\", \"yes\"] and row[\"num_hours\"] >0 and row[\"engineer\"] and row[\"ticket_description\"]:\n",
    "        a_list = []\n",
    "        for repo in row['lines_per_repo']:\n",
    "            if repo[\"A\"]:\n",
    "                a_list.append(repo[\"A\"])\n",
    "                if repo[\"A\"]<0:\n",
    "                    print(\"neg\", repo[\"A\"])\n",
    "#         if len(a_list) >1:\n",
    "#             print(\"a list\", a_list)\n",
    "                \n",
    "        repo_a += max(a_list) if a_list else 0\n",
    "\n",
    "# print(max_length)\n",
    "spark = SparkSession.builder.getOrCreate()\n",
    "\n",
    "res = spark.createDataFrame([{'total': repo_a}])\n",
    "res.collect()"
   ]
  },
  {
   "cell_type": "code",
   "execution_count": 41,
   "id": "62aea279-99d0-4330-b168-f0ef63108a20",
   "metadata": {},
   "outputs": [
    {
     "name": "stderr",
     "output_type": "stream",
     "text": [
      "/usr/local/lib/python3.9/site-packages/seaborn/distributions.py:2619: FutureWarning: `distplot` is a deprecated function and will be removed in a future version. Please adapt your code to use either `displot` (a figure-level function with similar flexibility) or `histplot` (an axes-level function for histograms).\n",
      "  warnings.warn(msg, FutureWarning)\n"
     ]
    },
    {
     "data": {
      "text/plain": [
       "<AxesSubplot:ylabel='Density'>"
      ]
     },
     "execution_count": 104,
     "metadata": {},
     "output_type": "execute_result"
    },
    {
     "data": {
      "image/png": "[encoded data removed]",
      "text/plain": [
       "<Figure size 432x288 with 1 Axes>"
      ]
     },
     "metadata": {
      "needs_background": "light"
     },
     "output_type": "display_data"
    }
   ],
   "source": [
    "import seaborn as sns\n",
    "sns.distplot(repo_a_list)"
   ]
  },
  {
   "cell_type": "code",
   "execution_count": 52,
   "id": "2ad1ddff-ce1d-4310-b180-cb6ca2bf382a",
   "metadata": {},
   "outputs": [
    {
     "name": "stderr",
     "output_type": "stream",
     "text": [
      "24/07/28 14:09:31 WARN TaskSetManager: Stage 112 contains a task of very large size (72984 KiB). The maximum recommended task size is 1000 KiB.\n",
      "                                                                                \r"
     ]
    },
    {
     "data": {
      "text/plain": [
       "100000"
      ]
     },
     "execution_count": 52,
     "metadata": {},
     "output_type": "execute_result"
    }
   ],
   "source": [
    "df.count()"
   ]
  },
  {
   "cell_type": "code",
   "execution_count": 71,
   "id": "710314b8-33e5-400b-9f97-79585bdc0bce",
   "metadata": {},
   "outputs": [
    {
     "name": "stderr",
     "output_type": "stream",
     "text": [
      "24/07/28 14:26:43 WARN TaskSetManager: Stage 159 contains a task of very large size (72984 KiB). The maximum recommended task size is 1000 KiB.\n",
      "                                                                                \r"
     ]
    },
    {
     "data": {
      "text/plain": [
       "[Row(total=67575)]"
      ]
     },
     "execution_count": 71,
     "metadata": {},
     "output_type": "execute_result"
    }
   ],
   "source": [
    "import math\n",
    "\n",
    "repo_a = 0\n",
    "\n",
    "for row in df.rdd.toLocalIterator():\n",
    "    if row['completed'] in [\"yes\"] and row['num_hours'] > 0 and row['engineer']:\n",
    "        for repo in row['lines_per_repo']:\n",
    "            if repo[\"A\"]:\n",
    "                if repo[\"A\"]<0:\n",
    "                    print(\"neg\", repo[\"A\"])\n",
    "                repo_a += repo[\"A\"]\n",
    "\n",
    "# print(max_length)\n",
    "spark = SparkSession.builder.getOrCreate()\n",
    "\n",
    "res = spark.createDataFrame([{'total': repo_a}])\n",
    "res.collect()"
   ]
  },
  {
   "cell_type": "code",
   "execution_count": 39,
   "id": "d3a90890-9d01-4417-9684-af002633dd1c",
   "metadata": {},
   "outputs": [
    {
     "name": "stderr",
     "output_type": "stream",
     "text": [
      "24/07/28 13:40:07 WARN TaskSetManager: Stage 71 contains a task of very large size (72984 KiB). The maximum recommended task size is 1000 KiB.\n",
      "[Stage 71:>                                                         (0 + 1) / 1]\r"
     ]
    },
    {
     "name": "stdout",
     "output_type": "stream",
     "text": [
      "yes\n"
     ]
    },
    {
     "name": "stderr",
     "output_type": "stream",
     "text": [
      "                                                                                \r"
     ]
    },
    {
     "data": {
      "text/plain": [
       "[Row(total=79983)]"
      ]
     },
     "execution_count": 39,
     "metadata": {},
     "output_type": "execute_result"
    }
   ],
   "source": [
    "import math\n",
    "\n",
    "repo_a = 0\n",
    "\n",
    "for row in df.rdd.toLocalIterator():\n",
    "    if row['completed'] not in [\"no\", \"yes\", \"true\", \"false\"]:\n",
    "        for repo in row['lines_per_repo']:\n",
    "            if repo[\"A\"]:\n",
    "                if repo[\"A\"]<0:\n",
    "                    print(\"neg\", repo[\"A\"])\n",
    "                repo_a += repo[\"A\"]\n",
    "print(row[\"completed\"])\n",
    "\n",
    "# print(max_length)\n",
    "spark = SparkSession.builder.getOrCreate()\n",
    "\n",
    "res = spark.createDataFrame([{'total': repo_a}])\n",
    "res.collect()"
   ]
  },
  {
   "cell_type": "code",
   "execution_count": 30,
   "id": "b6bcd7f0-9ab2-4e17-8b3b-c2467c78a6af",
   "metadata": {},
   "outputs": [
    {
     "name": "stderr",
     "output_type": "stream",
     "text": [
      "24/07/28 13:30:47 WARN TaskSetManager: Stage 47 contains a task of very large size (72984 KiB). The maximum recommended task size is 1000 KiB.\n",
      "                                                                                \r"
     ]
    },
    {
     "data": {
      "text/plain": [
       "[Row(total=170471)]"
      ]
     },
     "execution_count": 30,
     "metadata": {},
     "output_type": "execute_result"
    }
   ],
   "source": [
    "import math\n",
    "\n",
    "repo_a = 0\n",
    "\n",
    "for row in df.rdd.toLocalIterator():\n",
    "    if row['completed'] in [\"false\"]:\n",
    "        for repo in row['lines_per_repo']:\n",
    "            if repo[\"A\"]:\n",
    "                if repo[\"A\"]<0:\n",
    "                    print(\"neg\", repo[\"A\"])\n",
    "                repo_a += repo[\"A\"]\n",
    "\n",
    "# print(max_length)\n",
    "spark = SparkSession.builder.getOrCreate()\n",
    "\n",
    "res = spark.createDataFrame([{'total': repo_a}])\n",
    "res.collect()"
   ]
  },
  {
   "cell_type": "code",
   "execution_count": 31,
   "id": "3a0203f9-4af5-4a01-a56a-14764cd69413",
   "metadata": {},
   "outputs": [
    {
     "name": "stderr",
     "output_type": "stream",
     "text": [
      "24/07/28 13:30:56 WARN TaskSetManager: Stage 52 contains a task of very large size (72984 KiB). The maximum recommended task size is 1000 KiB.\n",
      "                                                                                \r"
     ]
    },
    {
     "data": {
      "text/plain": [
       "[Row(total=78494)]"
      ]
     },
     "execution_count": 31,
     "metadata": {},
     "output_type": "execute_result"
    }
   ],
   "source": [
    "import math\n",
    "\n",
    "repo_a = 0\n",
    "\n",
    "for row in df.rdd.toLocalIterator():\n",
    "    if row['completed'] in [\"no\"]:\n",
    "        for repo in row['lines_per_repo']:\n",
    "            if repo[\"A\"]:\n",
    "                if repo[\"A\"]<0:\n",
    "                    print(\"neg\", repo[\"A\"])\n",
    "                repo_a += repo[\"A\"]\n",
    "\n",
    "# print(max_length)\n",
    "spark = SparkSession.builder.getOrCreate()\n",
    "\n",
    "res = spark.createDataFrame([{'total': repo_a}])\n",
    "res.collect()"
   ]
  },
  {
   "cell_type": "code",
   "execution_count": 131,
   "id": "462468e3-896d-4fe0-b7b3-eb9b4bd01aac",
   "metadata": {},
   "outputs": [],
   "source": [
    "completed_tickets_df = df.where((F.col(\"completed\") == 'true') | (F.col(\"completed\") == 'yes'))\n",
    "\n",
    "completed_tickets_df = completed_tickets_df.selectExpr(\"inline(lines_per_repo)\")\n",
    "\n"
   ]
  },
  {
   "cell_type": "code",
   "execution_count": 132,
   "id": "7d2845d6-bdea-4491-8335-cd5d44f23a86",
   "metadata": {},
   "outputs": [
    {
     "name": "stderr",
     "output_type": "stream",
     "text": [
      "24/07/27 19:48:46 WARN TaskSetManager: Stage 279 contains a task of very large size (72984 KiB). The maximum recommended task size is 1000 KiB.\n",
      "                                                                                \r"
     ]
    },
    {
     "data": {
      "text/plain": [
       "128883"
      ]
     },
     "execution_count": 132,
     "metadata": {},
     "output_type": "execute_result"
    }
   ],
   "source": [
    "completed_tickets_df.count()"
   ]
  },
  {
   "cell_type": "code",
   "execution_count": 135,
   "id": "d718c667-ae7b-4d4a-9470-edff360e128d",
   "metadata": {},
   "outputs": [
    {
     "name": "stderr",
     "output_type": "stream",
     "text": [
      "24/07/27 19:49:26 WARN TaskSetManager: Stage 285 contains a task of very large size (72984 KiB). The maximum recommended task size is 1000 KiB.\n",
      "                                                                                \r"
     ]
    },
    {
     "data": {
      "text/plain": [
       "[Row(A=None, B=None, C=None, D=None, E=None, F=None, G=52, H=None, I=None, J=None, K=None, L=None, M=None, N=None, O=None, P=None, Q=None, R=None, S=None, T=None, U=None, V=None, W=None, X=None, Y=None, Z=None),\n",
       " Row(A=None, B=None, C=None, D=None, E=None, F=None, G=None, H=None, I=None, J=None, K=None, L=None, M=None, N=None, O=23, P=None, Q=None, R=None, S=None, T=None, U=None, V=None, W=None, X=None, Y=None, Z=None),\n",
       " Row(A=None, B=None, C=None, D=None, E=None, F=None, G=None, H=31, I=None, J=None, K=None, L=None, M=None, N=None, O=None, P=None, Q=None, R=None, S=None, T=None, U=None, V=None, W=None, X=None, Y=None, Z=None),\n",
       " Row(A=None, B=None, C=None, D=None, E=None, F=None, G=42, H=None, I=None, J=None, K=None, L=None, M=None, N=None, O=None, P=None, Q=None, R=None, S=None, T=None, U=None, V=None, W=None, X=None, Y=None, Z=None),\n",
       " Row(A=None, B=None, C=None, D=None, E=None, F=None, G=None, H=None, I=None, J=None, K=None, L=None, M=None, N=None, O=None, P=None, Q=None, R=None, S=15, T=None, U=None, V=None, W=None, X=None, Y=None, Z=None),\n",
       " Row(A=64, B=None, C=None, D=None, E=None, F=None, G=None, H=None, I=None, J=None, K=None, L=None, M=None, N=None, O=None, P=None, Q=None, R=None, S=None, T=None, U=None, V=None, W=None, X=None, Y=None, Z=None),\n",
       " Row(A=None, B=None, C=None, D=None, E=None, F=None, G=None, H=None, I=None, J=None, K=None, L=None, M=None, N=None, O=None, P=None, Q=None, R=None, S=None, T=None, U=None, V=None, W=None, X=None, Y=6, Z=None),\n",
       " Row(A=None, B=None, C=None, D=None, E=50, F=None, G=None, H=None, I=None, J=None, K=None, L=None, M=None, N=None, O=None, P=None, Q=None, R=None, S=None, T=None, U=None, V=None, W=None, X=None, Y=None, Z=None),\n",
       " Row(A=None, B=None, C=None, D=None, E=None, F=None, G=None, H=None, I=None, J=None, K=None, L=None, M=None, N=None, O=None, P=None, Q=68, R=None, S=None, T=None, U=None, V=None, W=None, X=None, Y=None, Z=None),\n",
       " Row(A=None, B=None, C=None, D=None, E=None, F=None, G=None, H=None, I=None, J=None, K=None, L=None, M=None, N=None, O=None, P=None, Q=None, R=None, S=None, T=22, U=None, V=None, W=None, X=None, Y=None, Z=None)]"
      ]
     },
     "execution_count": 135,
     "metadata": {},
     "output_type": "execute_result"
    }
   ],
   "source": [
    "completed_tickets_df.head(10)"
   ]
  },
  {
   "cell_type": "code",
   "execution_count": null,
   "id": "9d794a28-ed72-499c-8348-43c37a1a282b",
   "metadata": {},
   "outputs": [],
   "source": []
  },
  {
   "cell_type": "code",
   "execution_count": 136,
   "id": "bff21fb6-c6bb-4592-810c-6fd32997743e",
   "metadata": {},
   "outputs": [
    {
     "name": "stderr",
     "output_type": "stream",
     "text": [
      "24/07/27 19:50:41 WARN TaskSetManager: Stage 286 contains a task of very large size (72984 KiB). The maximum recommended task size is 1000 KiB.\n",
      "                                                                                \r"
     ]
    }
   ],
   "source": [
    "repo_lines_df = completed_tickets_df.groupBy().sum().collect()[0].asDict()\n"
   ]
  },
  {
   "cell_type": "code",
   "execution_count": 138,
   "id": "7cb1b485-e2da-42b3-bd2b-a4deb61801d4",
   "metadata": {},
   "outputs": [
    {
     "data": {
      "text/plain": [
       "{'sum(A)': 247559,\n",
       " 'sum(B)': 253158,\n",
       " 'sum(C)': 250684,\n",
       " 'sum(D)': 240933,\n",
       " 'sum(E)': 248884,\n",
       " 'sum(F)': 254996,\n",
       " 'sum(G)': 246059,\n",
       " 'sum(H)': 254152,\n",
       " 'sum(I)': 242749,\n",
       " 'sum(J)': 256171,\n",
       " 'sum(K)': 251816,\n",
       " 'sum(L)': 253104,\n",
       " 'sum(M)': 253858,\n",
       " 'sum(N)': 247243,\n",
       " 'sum(O)': 245110,\n",
       " 'sum(P)': 255385,\n",
       " 'sum(Q)': 237914,\n",
       " 'sum(R)': 252450,\n",
       " 'sum(S)': 247105,\n",
       " 'sum(T)': 252279,\n",
       " 'sum(U)': 255304,\n",
       " 'sum(V)': 246309,\n",
       " 'sum(W)': 246937,\n",
       " 'sum(X)': 245948,\n",
       " 'sum(Y)': 252936,\n",
       " 'sum(Z)': 251982}"
      ]
     },
     "execution_count": 138,
     "metadata": {},
     "output_type": "execute_result"
    }
   ],
   "source": [
    "repo_lines_df"
   ]
  },
  {
   "cell_type": "code",
   "execution_count": null,
   "id": "945f98d9-0230-44f5-8b3b-cdaaa8a4318a",
   "metadata": {},
   "outputs": [],
   "source": []
  }
 ],
 "metadata": {
  "kernelspec": {
   "display_name": "Python 3 (ipykernel)",
   "language": "python",
   "name": "python3"
  },
  "language_info": {
   "codemirror_mode": {
    "name": "ipython",
    "version": 3
   },
   "file_extension": ".py",
   "mimetype": "text/x-python",
   "name": "python",
   "nbconvert_exporter": "python",
   "pygments_lexer": "ipython3",
   "version": "3.9.6"
  }
 },
 "nbformat": 4,
 "nbformat_minor": 5
}
